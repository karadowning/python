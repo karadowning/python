{
 "cells": [
  {
   "cell_type": "code",
   "execution_count": 10,
   "id": "bda980ed",
   "metadata": {},
   "outputs": [
    {
     "name": "stdout",
     "output_type": "stream",
     "text": [
      "Probabillity of at least 2 people sharing a birthday in a class of 10: 0.141141\n"
     ]
    }
   ],
   "source": [
    "import math\n",
    "def birthday_probability(n):\n",
    "    probability_no_match = 1\n",
    "    for i in range(1, n + 1):\n",
    "        probability_no_match *= (365 - i) / 365\n",
    "        \n",
    "    return 1 - probability_no_match\n",
    "\n",
    "class_size = 10\n",
    "probability = birthday_probability(class_size)\n",
    "print(f\"Probabillity of at least 2 people sharing a birthday in a class of {class_size}: {probability:.6f}\")\n"
   ]
  },
  {
   "cell_type": "code",
   "execution_count": null,
   "id": "1f4dd7b2",
   "metadata": {},
   "outputs": [],
   "source": []
  }
 ],
 "metadata": {
  "kernelspec": {
   "display_name": "Python 3 (ipykernel)",
   "language": "python",
   "name": "python3"
  },
  "language_info": {
   "codemirror_mode": {
    "name": "ipython",
    "version": 3
   },
   "file_extension": ".py",
   "mimetype": "text/x-python",
   "name": "python",
   "nbconvert_exporter": "python",
   "pygments_lexer": "ipython3",
   "version": "3.12.4"
  }
 },
 "nbformat": 4,
 "nbformat_minor": 5
}
