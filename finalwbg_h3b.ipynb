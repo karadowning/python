{
  "nbformat": 4,
  "nbformat_minor": 0,
  "metadata": {
    "colab": {
      "provenance": [],
      "authorship_tag": "ABX9TyPmTyCprIKXCaViRSpzm6Zy"
    },
    "kernelspec": {
      "name": "python3",
      "display_name": "Python 3"
    },
    "language_info": {
      "name": "python"
    }
  },
  "cells": [
    {
      "cell_type": "code",
      "execution_count": 1,
      "metadata": {
        "colab": {
          "base_uri": "https://localhost:8080/"
        },
        "id": "yy6fVzRqOIQl",
        "outputId": "d6092424-5e60-4966-8dea-2cd35dbe0151"
      },
      "outputs": [
        {
          "output_type": "stream",
          "name": "stdout",
          "text": [
            "--- Starting H5 Analysis: Quality at Entry vs. Outcome ---\n"
          ]
        }
      ],
      "source": [
        "# Notebook: Hypothesis H5 - Quality at Entry vs. Outcome\n",
        "\n",
        "# --- Imports ---\n",
        "import pandas as pd\n",
        "import numpy as np\n",
        "import scipy.stats as stats\n",
        "import matplotlib.pyplot as plt\n",
        "import seaborn as sns\n",
        "\n",
        "print(\"--- Starting H5 Analysis: Quality at Entry vs. Outcome ---\")\n"
      ]
    },
    {
      "cell_type": "code",
      "source": [
        "# --- 1. Load CLEANED Data ---\n",
        "cleaned_data_file = 'wbg_merged_cleaned_2.csv'\n",
        "print(f\"\\nLoading cleaned data from: {cleaned_data_file}\")\n",
        "try:\n",
        "    df_analysis = pd.read_csv(\n",
        "        cleaned_data_file,\n",
        "        header=1,\n",
        "        delimiter=',',\n",
        "        low_memory=False\n",
        "    )\n",
        "    print(f\"Loaded cleaned data successfully. Shape: {df_analysis.shape}\")\n",
        "except FileNotFoundError: print(f\"Error: File not found - {cleaned_data_file}. Run Part 1 first.\"); exit()\n",
        "except Exception as e: print(f\"Error loading {cleaned_data_file}: {e}\"); exit()\n"
      ],
      "metadata": {
        "colab": {
          "base_uri": "https://localhost:8080/"
        },
        "id": "9YlnVh7OOUEt",
        "outputId": "90ce31f2-00a9-41db-9dd7-99503fec4c30"
      },
      "execution_count": 2,
      "outputs": [
        {
          "output_type": "stream",
          "name": "stdout",
          "text": [
            "\n",
            "Loading cleaned data from: wbg_merged_cleaned_2.csv\n",
            "Loaded cleaned data successfully. Shape: (6098, 15)\n"
          ]
        }
      ]
    },
    {
      "cell_type": "code",
      "source": [
        "# --- 2. Define Columns Needed ---\n",
        "outcome_col = 'outcome' # Text outcome column (standardized from 'Outcome')\n",
        "qat_entry_col = 'quality_at_entry' # QAT Entry column (standardized from 'Quality at Entry')\n",
        "print(f\"\\nUsing columns: Outcome='{outcome_col}', QAT_Entry='{qat_entry_col}'\")\n"
      ],
      "metadata": {
        "colab": {
          "base_uri": "https://localhost:8080/"
        },
        "id": "6oi0zo22OjS6",
        "outputId": "1babd10f-768a-4663-a951-f3bc00367ffc"
      },
      "execution_count": 3,
      "outputs": [
        {
          "output_type": "stream",
          "name": "stdout",
          "text": [
            "\n",
            "Using columns: Outcome='outcome', QAT_Entry='quality_at_entry'\n"
          ]
        }
      ]
    },
    {
      "cell_type": "code",
      "source": [
        "# --- 3. Preprocess Columns for H5 ---\n",
        "required_cols = [outcome_col, qat_entry_col]\n",
        "missing = [col for col in required_cols if col not in df_analysis.columns]\n",
        "if missing: print(f\"Error: Missing required columns: {missing}\"); exit()\n",
        "\n",
        "# Handle Missing Values for these specific columns\n",
        "print(f\"\\nMissing values before H5 drop:\\n{df_analysis[required_cols].isnull().sum()}\")\n",
        "df_analysis.dropna(subset=required_cols, inplace=True)\n",
        "print(f\"Shape after dropping NAs: {df_analysis.shape}\")\n",
        "if df_analysis.empty: print(\"Error: Data empty after NA drop.\"); exit()\n",
        "\n",
        "# Binarize Outcome column (using text mapping from 'outcome')\n",
        "print(f\"\\nPreprocessing outcome column '{outcome_col}'...\")\n",
        "df_analysis[outcome_col] = df_analysis[outcome_col].astype(str).str.strip()\n",
        "unique_outcomes = df_analysis[outcome_col].unique()\n",
        "print(f\"Unique values found in '{outcome_col}': {unique_outcomes}\")\n",
        "satisfactory_ratings = ['Satisfactory', 'Moderately Satisfactory', 'Highly Satisfactory', 'SA', 'MS', 'HS']\n",
        "unsatisfactory_ratings = ['Unsatisfactory', 'Moderately Unsatisfactory', 'Highly Unsatisfactory', 'U', 'MU', 'HU']\n",
        "def map_text_outcome(txt):\n",
        "    if txt in unsatisfactory_ratings: return 1\n",
        "    elif txt in satisfactory_ratings: return 0\n",
        "    else: return np.nan\n",
        "df_analysis['outcome_binary'] = df_analysis[outcome_col].apply(map_text_outcome)\n",
        "unmapped_count = df_analysis['outcome_binary'].isnull().sum();\n",
        "if unmapped_count > 0:\n",
        "    unmapped_vals = df_analysis[df_analysis['outcome_binary'].isnull()][outcome_col].unique()\n",
        "    print(f\"Warning: {unmapped_count} rows had unmapped outcome values ({unmapped_vals}). Dropping.\")\n",
        "    df_analysis.dropna(subset=['outcome_binary'], inplace=True)\n",
        "df_analysis['outcome_binary'] = df_analysis['outcome_binary'].astype(int)\n",
        "print(\"Created 'outcome_binary' (1=Unsat, 0=Sat).\")\n",
        "if df_analysis['outcome_binary'].nunique() < 2: print(\"Error: Only one outcome category present.\"); exit()\n",
        "outcome_binary_col = 'outcome_binary' # Define for consistency\n",
        "\n",
        "# Inspect and Preprocess Quality at Entry Column\n",
        "print(f\"\\nPreprocessing Quality at Entry column '{qat_entry_col}'...\")\n",
        "df_analysis[qat_entry_col] = df_analysis[qat_entry_col].astype(str).str.strip()\n",
        "unique_qat_entry = df_analysis[qat_entry_col].unique()\n",
        "print(f\"Unique values found in '{qat_entry_col}': {unique_qat_entry}\")\n",
        "print(f\"Value counts for '{qat_entry_col}':\\n{df_analysis[qat_entry_col].value_counts()}\")\n",
        "# Determine if Numeric or Categorical\n",
        "is_numeric_qat = False; numeric_analysis_col_h5 = None\n",
        "try:\n",
        "    is_potential_numeric = df_analysis[qat_entry_col].str.match(r'^-?\\d+(\\.\\d+)?$').all()\n",
        "    if is_potential_numeric:\n",
        "        qat_numeric_temp = pd.to_numeric(df_analysis[qat_entry_col], errors='coerce')\n",
        "        if qat_numeric_temp.notnull().sum() / len(df_analysis[qat_entry_col].dropna()) > 0.9:\n",
        "            is_numeric_qat = True; print(f\"'{qat_entry_col}' appears NUMERIC.\")\n",
        "            df_analysis['qat_entry_numeric'] = qat_numeric_temp\n",
        "            rows_before_num_drop = df_analysis.shape[0]\n",
        "            df_analysis.dropna(subset=['qat_entry_numeric'], inplace=True)\n",
        "            rows_after_num_drop = df_analysis.shape[0]\n",
        "            if rows_before_num_drop > rows_after_num_drop: print(f\"Dropped {rows_before_num_drop - rows_after_num_drop} rows where '{qat_entry_col}' couldn't be treated as numeric.\")\n",
        "            numeric_analysis_col_h5 = 'qat_entry_numeric'\n",
        "            print(f\"Unique numeric values in '{numeric_analysis_col_h5}': {df_analysis[numeric_analysis_col_h5].unique()}\")\n",
        "        else: print(f\"'{qat_entry_col}' treated as CATEGORICAL/TEXT (numeric conversion failed for many).\")\n",
        "    else: print(f\"'{qat_entry_col}' treated as CATEGORICAL/TEXT (values are not purely numeric strings).\")\n",
        "except Exception as e: print(f\"Error during QAT numeric check, treating as CATEGORICAL. Error: {e}\"); is_numeric_qat = False\n",
        "\n",
        "analysis_col_h5 = numeric_analysis_col_h5 if is_numeric_qat else qat_entry_col\n",
        "if analysis_col_h5 in df_analysis.columns and df_analysis[analysis_col_h5].nunique() < 2:\n",
        "    print(f\"Warning: '{analysis_col_h5}' has < 2 unique values after processing.\"); analysis_col_h5 = None\n",
        "elif analysis_col_h5 not in df_analysis.columns:\n",
        "    print(f\"Error: Analysis column '{analysis_col_h5}' not found after processing.\"); analysis_col_h5 = None\n",
        "\n",
        "print(f\"Final data shape for H5 analysis: {df_analysis.shape}\")\n"
      ],
      "metadata": {
        "colab": {
          "base_uri": "https://localhost:8080/"
        },
        "id": "yuiql3P5Ooqn",
        "outputId": "e71c6313-c424-46ea-91a9-c9b7ecb4adf0"
      },
      "execution_count": 4,
      "outputs": [
        {
          "output_type": "stream",
          "name": "stdout",
          "text": [
            "\n",
            "Missing values before H5 drop:\n",
            "outcome               0\n",
            "quality_at_entry    200\n",
            "dtype: int64\n",
            "Shape after dropping NAs: (5898, 15)\n",
            "\n",
            "Preprocessing outcome column 'outcome'...\n",
            "Unique values found in 'outcome': ['Moderately Satisfactory' 'Satisfactory' 'Moderately Unsatisfactory'\n",
            " 'Unsatisfactory' 'Highly Satisfactory' 'Highly Unsatisfactory']\n",
            "Created 'outcome_binary' (1=Unsat, 0=Sat).\n",
            "\n",
            "Preprocessing Quality at Entry column 'quality_at_entry'...\n",
            "Unique values found in 'quality_at_entry': ['Moderately Satisfactory' 'Moderately Unsatisfactory' 'Satisfactory'\n",
            " 'Unsatisfactory' 'Highly Satisfactory' 'Highly Unsatisfactory']\n",
            "Value counts for 'quality_at_entry':\n",
            "quality_at_entry\n",
            "Satisfactory                 2115\n",
            "Moderately Satisfactory      1856\n",
            "Moderately Unsatisfactory    1137\n",
            "Unsatisfactory                607\n",
            "Highly Satisfactory           146\n",
            "Highly Unsatisfactory          37\n",
            "Name: count, dtype: int64\n",
            "'quality_at_entry' treated as CATEGORICAL/TEXT (values are not purely numeric strings).\n",
            "Final data shape for H5 analysis: (5898, 16)\n"
          ]
        }
      ]
    },
    {
      "cell_type": "code",
      "source": [
        "# --- 4. Test Hypothesis H5 ---\n",
        "print(f\"\\n--- Testing H5: Quality at Entry ({analysis_col_h5 or 'N/A'}) vs. Final Outcome ---\")\n",
        "alpha = 0.05\n",
        "if analysis_col_h5:\n",
        "    if is_numeric_qat: # Use T-test\n",
        "        print(\"Performing T-test (numeric QAT Entry)...\")\n",
        "        q_sat = df_analysis[df_analysis[outcome_binary_col] == 0][analysis_col_h5]\n",
        "        q_unsat = df_analysis[df_analysis[outcome_binary_col] == 1][analysis_col_h5]\n",
        "        if len(q_sat) < 2 or len(q_unsat) < 2: print(\"Warning H5: Not enough data for t-test.\")\n",
        "        else:\n",
        "            t_stat, p_val = stats.ttest_ind(q_unsat, q_sat, equal_var=False, nan_policy='omit')\n",
        "            print(f\"Mean QAT (Unsat, N={len(q_unsat)}): {q_unsat.mean():.2f}; Mean QAT (Sat, N={len(q_sat)}): {q_sat.mean():.2f}\")\n",
        "            print(f\"T-statistic: {t_stat:.4f}, P-value: {p_val:.4g}\")\n",
        "            if p_val < alpha: print(f\"Result H5: Reject H0 (p < {alpha}). Significant difference in mean QAT rating.\"); print(\"  Interpretation:\", \"Unsat: HIGHER QAT.\" if t_stat > 0 else \"Unsat: LOWER QAT.\")\n",
        "            else: print(f\"Result H5: Fail to reject H0 (p >= {alpha}). No significant difference in mean QAT rating.\")\n",
        "            try: plt.figure(figsize=(8,6)); sns.boxplot(x=outcome_binary_col, y=analysis_col_h5, data=df_analysis); plt.title('QAT Rating by Final Outcome'); plt.xlabel('Outcome (0=Sat, 1=Unsat)'); plt.ylabel(f'QAT Rating ({analysis_col_h5})'); plt.xticks([0, 1], ['Satisfactory', 'Unsatisfactory']); plt.tight_layout(); plt.show()\n",
        "            except Exception as e: print(f\"Plot H5 Error: {e}\")\n",
        "    else: # Use Chi-squared test\n",
        "        print(\"Performing Chi-Squared test (categorical QAT Entry)...\")\n",
        "        cont_table = pd.crosstab(df_analysis[analysis_col_h5], df_analysis[outcome_binary_col])\n",
        "        if cont_table.shape[0] < 2 or cont_table.shape[1] < 2: print(f\"Warning H5 ({analysis_col_h5}): Cont. table too small.\")\n",
        "        else:\n",
        "            try:\n",
        "                chi2, p_val, dof, exp_freq = stats.chi2_contingency(cont_table)\n",
        "                print(f\"Chi-Squared Stat: {chi2:.4f}, P-value: {p_val:.4g}, DoF: {dof}\")\n",
        "                low_freq = (exp_freq < 5).sum() if exp_freq is not None else -1\n",
        "                if exp_freq is not None and exp_freq.size > 0: perc = (low_freq / exp_freq.size)*100; print(f\"Warning H5 ({analysis_col_h5}): {low_freq} cells ({perc:.1f}%) < 5 expected freq.\") if low_freq > 0 else print(f\"Check H5 ({analysis_col_h5}): Expected freq assumption met.\")\n",
        "                else: print(f\"Warning H5 ({analysis_col_h5}): Could not check expected freqs.\")\n",
        "                if p_val < alpha: print(f\"Result H5: Reject H0 (p < {alpha}). Significant association.\"); cont_table['unsat%'] = cont_table[1]/(cont_table[0]+cont_table[1])*100; print(f\"\\nUnsat rates by {analysis_col_h5}:\\n{cont_table.sort_values('unsat%', ascending=False)[['unsat%']]}\") # Plot optional here\n",
        "                else: print(f\"Result H5: Fail to reject H0 (p >= {alpha}). No significant association.\")\n",
        "            except ValueError as ve: print(f\"Error H5 ({analysis_col_h5}): Chi-Sq test failed: {ve}\")\n",
        "else: print(f\"Skipping H5 test: QAT Entry column '{qat_entry_col}' not usable or available after preprocessing.\")\n",
        "\n",
        "print(\"\\n--- H5 Analysis Complete ---\")"
      ],
      "metadata": {
        "colab": {
          "base_uri": "https://localhost:8080/"
        },
        "id": "ewVBI3rlO5aG",
        "outputId": "c122e522-4676-400b-d5e2-e4879cf9a945"
      },
      "execution_count": 5,
      "outputs": [
        {
          "output_type": "stream",
          "name": "stdout",
          "text": [
            "\n",
            "--- Testing H5: Quality at Entry (quality_at_entry) vs. Final Outcome ---\n",
            "Performing Chi-Squared test (categorical QAT Entry)...\n",
            "Chi-Squared Stat: 2067.3380, P-value: 0, DoF: 5\n",
            "Check H5 (quality_at_entry): Expected freq assumption met.\n",
            "Result H5: Reject H0 (p < 0.05). Significant association.\n",
            "\n",
            "Unsat rates by quality_at_entry:\n",
            "outcome_binary                unsat%\n",
            "quality_at_entry                    \n",
            "Highly Unsatisfactory      91.891892\n",
            "Unsatisfactory             75.288303\n",
            "Moderately Unsatisfactory  54.617414\n",
            "Moderately Satisfactory    13.739224\n",
            "Satisfactory                4.869976\n",
            "Highly Satisfactory         1.369863\n",
            "\n",
            "--- H5 Analysis Complete ---\n"
          ]
        }
      ]
    },
    {
      "cell_type": "code",
      "source": [
        "# Notebook: Visualization for H5 - Quality at Entry vs. Outcome\n",
        "# --- Imports ---\n",
        "import pandas as pd\n",
        "import numpy as np\n",
        "import matplotlib.pyplot as plt\n",
        "import seaborn as sns\n",
        "import scipy.stats as stats\n",
        "\n",
        "print(\"--- Generating Visualization for H5: Quality at Entry vs. Outcome ---\")\n"
      ],
      "metadata": {
        "colab": {
          "base_uri": "https://localhost:8080/"
        },
        "id": "40bPWDwrP3ES",
        "outputId": "4eb3288a-1bfb-4ad2-8ea3-04288a410698"
      },
      "execution_count": 6,
      "outputs": [
        {
          "output_type": "stream",
          "name": "stdout",
          "text": [
            "--- Generating Visualization for H5: Quality at Entry vs. Outcome ---\n"
          ]
        }
      ]
    },
    {
      "cell_type": "code",
      "source": [
        "# --- 1. Load CLEANED Data ---\n",
        "# Ensure this filename matches the output from the Part 1 script\n",
        "cleaned_data_file = 'wbg_merged_cleaned_2.csv'\n",
        "print(f\"\\nLoading cleaned data from: {cleaned_data_file}\")\n",
        "try:\n",
        "    df_analysis = pd.read_csv(\n",
        "        cleaned_data_file,\n",
        "        header=1,\n",
        "        delimiter=',',\n",
        "        low_memory=False\n",
        "    )\n",
        "    print(f\"Loaded cleaned data successfully. Shape: {df_analysis.shape}\")\n",
        "except FileNotFoundError: print(f\"Error: File not found - {cleaned_data_file}. Run Part 1 first.\"); exit()\n",
        "except Exception as e: print(f\"Error loading {cleaned_data_file}: {e}\"); exit()\n"
      ],
      "metadata": {
        "colab": {
          "base_uri": "https://localhost:8080/"
        },
        "id": "mAYYtsgfP7iu",
        "outputId": "25fb611e-b464-4908-b62e-829b0443f550"
      },
      "execution_count": 7,
      "outputs": [
        {
          "output_type": "stream",
          "name": "stdout",
          "text": [
            "\n",
            "Loading cleaned data from: wbg_merged_cleaned_2.csv\n",
            "Loaded cleaned data successfully. Shape: (6098, 15)\n"
          ]
        }
      ]
    },
    {
      "cell_type": "code",
      "source": [
        "# --- 2. Define Columns Needed ---\n",
        "outcome_col = 'outcome'           # Original text outcome column name\n",
        "qat_entry_col = 'quality_at_entry'\n",
        "outcome_binary_col = 'outcome_binary'\n",
        "print(f\"\\nUsing columns: Text Outcome='{outcome_col}', QAT_Entry='{qat_entry_col}'\")\n",
        "print(f\"Will create binary outcome column named: '{outcome_binary_col}'\")\n"
      ],
      "metadata": {
        "colab": {
          "base_uri": "https://localhost:8080/"
        },
        "id": "55mTwd8zQAIz",
        "outputId": "6b8c1a22-3ad4-4e51-d437-b505e8b66d03"
      },
      "execution_count": 8,
      "outputs": [
        {
          "output_type": "stream",
          "name": "stdout",
          "text": [
            "\n",
            "Using columns: Text Outcome='outcome', QAT_Entry='quality_at_entry'\n",
            "Will create binary outcome column named: 'outcome_binary'\n"
          ]
        }
      ]
    },
    {
      "cell_type": "code",
      "source": [
        "# --- 3. Verify and Preprocess Columns ---\n",
        "required_cols = [outcome_col, qat_entry_col]\n",
        "missing = [col for col in required_cols if col not in df_analysis.columns]\n",
        "if missing:\n",
        "    print(f\"\\nError: Missing required columns: {missing}\")\n",
        "    print(f\"Available columns are: {df_analysis.columns.tolist()}\")\n",
        "    exit()\n",
        "\n",
        "# Handle Missing Values for these specific columns FIRST\n",
        "print(f\"\\nMissing values before NA drop:\\n{df_analysis[required_cols].isnull().sum()}\")\n",
        "df_analysis.dropna(subset=required_cols, inplace=True)\n",
        "print(f\"Shape after dropping NAs for required columns: {df_analysis.shape}\")\n",
        "if df_analysis.empty: print(\"Error: Data empty after initial NA drop.\"); exit()\n",
        "\n",
        "# Ensure QAT Entry is string (for grouping)\n",
        "df_analysis[qat_entry_col] = df_analysis[qat_entry_col].astype(str).str.strip()\n",
        "\n",
        "# --- Binarize Outcome column (using text mapping from 'outcome') ---\n",
        "print(f\"\\nPreprocessing outcome column '{outcome_col}' to create '{outcome_binary_col}'...\")\n",
        "df_analysis[outcome_col] = df_analysis[outcome_col].astype(str).str.strip()\n",
        "unique_outcomes = df_analysis[outcome_col].unique()\n",
        "print(f\"Unique values found in '{outcome_col}': {unique_outcomes}\")\n",
        "# *** REVIEW & ADJUST MAPPING LISTS IF NEEDED ***\n",
        "satisfactory_ratings = ['Satisfactory', 'Moderately Satisfactory', 'Highly Satisfactory', 'SA', 'MS', 'HS']\n",
        "unsatisfactory_ratings = ['Unsatisfactory', 'Moderately Unsatisfactory', 'Highly Unsatisfactory', 'U', 'MU', 'HU']\n",
        "def map_text_outcome(txt):\n",
        "    if txt in unsatisfactory_ratings: return 1\n",
        "    elif txt in satisfactory_ratings: return 0\n",
        "    else: return np.nan\n",
        "# Create the column using the name defined in Step 2 ('outcome_binary')\n",
        "df_analysis[outcome_binary_col] = df_analysis[outcome_col].apply(map_text_outcome)\n",
        "unmapped_count = df_analysis[outcome_binary_col].isnull().sum();\n",
        "if unmapped_count > 0:\n",
        "    unmapped_vals = df_analysis[df_analysis[outcome_binary_col].isnull()][outcome_col].unique()\n",
        "    print(f\"Warning: {unmapped_count} rows had unmapped outcome values ({unmapped_vals}). Dropping.\")\n",
        "    df_analysis.dropna(subset=[outcome_binary_col], inplace=True) # Drop rows that couldn't be mapped\n",
        "\n",
        "if df_analysis.empty: print(\"Error: Data empty after dropping unmapped outcomes.\"); exit()\n",
        "\n",
        "df_analysis[outcome_binary_col] = df_analysis[outcome_binary_col].astype(int)\n",
        "print(f\"Created '{outcome_binary_col}'.\")\n",
        "if df_analysis[outcome_binary_col].nunique() < 2: print(\"Error: Only one outcome category present after mapping.\"); exit()\n",
        "# --- (End of Preprocessing) ---\n"
      ],
      "metadata": {
        "colab": {
          "base_uri": "https://localhost:8080/"
        },
        "id": "Zi5_35zCQEWb",
        "outputId": "3ab21c0c-703b-4f0f-dddc-46adc1fc4b48"
      },
      "execution_count": 9,
      "outputs": [
        {
          "output_type": "stream",
          "name": "stdout",
          "text": [
            "\n",
            "Missing values before NA drop:\n",
            "outcome               0\n",
            "quality_at_entry    200\n",
            "dtype: int64\n",
            "Shape after dropping NAs for required columns: (5898, 15)\n",
            "\n",
            "Preprocessing outcome column 'outcome' to create 'outcome_binary'...\n",
            "Unique values found in 'outcome': ['Moderately Satisfactory' 'Satisfactory' 'Moderately Unsatisfactory'\n",
            " 'Unsatisfactory' 'Highly Satisfactory' 'Highly Unsatisfactory']\n",
            "Created 'outcome_binary'.\n"
          ]
        }
      ]
    },
    {
      "cell_type": "code",
      "source": [
        "# --- 4. Calculate Statistics per QAT Entry Category ---\n",
        "print(\"\\nCalculating statistics per QAT Entry category...\")\n",
        "qat_summary = df_analysis.groupby(qat_entry_col)[outcome_binary_col].agg(\n",
        "    total_projects='count',\n",
        "    unsatisfactory_rate='mean'\n",
        ").reset_index()\n",
        "qat_summary['unsatisfactory_pct'] = qat_summary['unsatisfactory_rate'] * 100\n",
        "print(f\"Generated summary for {len(qat_summary)} QAT categories.\")\n"
      ],
      "metadata": {
        "colab": {
          "base_uri": "https://localhost:8080/"
        },
        "id": "rJgOmTcZRmHO",
        "outputId": "e6d2881b-b591-40ca-99ee-f2d3f053a8e0"
      },
      "execution_count": 10,
      "outputs": [
        {
          "output_type": "stream",
          "name": "stdout",
          "text": [
            "\n",
            "Calculating statistics per QAT Entry category...\n",
            "Generated summary for 6 QAT categories.\n"
          ]
        }
      ]
    },
    {
      "cell_type": "code",
      "source": [
        "# --- 5. Define Logical Order and Sort ---\n",
        "qat_order = [\n",
        "    'Highly Unsatisfactory',\n",
        "    'Unsatisfactory',\n",
        "    'Moderately Unsatisfactory',\n",
        "    'Moderately Satisfactory',\n",
        "    'Satisfactory',\n",
        "    'Highly Satisfactory'\n",
        "]\n",
        "# Filter summary to only include expected categories and set order\n",
        "qat_summary[qat_entry_col] = pd.Categorical(qat_summary[qat_entry_col], categories=qat_order, ordered=True)\n",
        "# Remove any categories not in our defined order (e.g., if 'Other' existed)\n",
        "qat_summary.dropna(subset=[qat_entry_col], inplace=True)\n",
        "# Sort based on the defined categorical order\n",
        "qat_summary_sorted = qat_summary.sort_values(qat_entry_col)\n",
        "\n",
        "print(\"\\nSummary table sorted by QAT rating:\")\n",
        "print(qat_summary_sorted)"
      ],
      "metadata": {
        "colab": {
          "base_uri": "https://localhost:8080/"
        },
        "id": "l8aZ-ivVRrnj",
        "outputId": "0b49b9d4-8620-4573-b2f6-23190d2edd9f"
      },
      "execution_count": 11,
      "outputs": [
        {
          "output_type": "stream",
          "name": "stdout",
          "text": [
            "\n",
            "Summary table sorted by QAT rating:\n",
            "            quality_at_entry  total_projects  unsatisfactory_rate  \\\n",
            "1      Highly Unsatisfactory              37             0.918919   \n",
            "5             Unsatisfactory             607             0.752883   \n",
            "3  Moderately Unsatisfactory            1137             0.546174   \n",
            "2    Moderately Satisfactory            1856             0.137392   \n",
            "4               Satisfactory            2115             0.048700   \n",
            "0        Highly Satisfactory             146             0.013699   \n",
            "\n",
            "   unsatisfactory_pct  \n",
            "1           91.891892  \n",
            "5           75.288303  \n",
            "3           54.617414  \n",
            "2           13.739224  \n",
            "4            4.869976  \n",
            "0            1.369863  \n"
          ]
        }
      ]
    },
    {
      "cell_type": "code",
      "source": [
        "# --- 6. Create Sorted Horizontal Bar Chart ---\n",
        "print(\"\\nGenerating sorted bar chart...\")\n",
        "# Adjust figure height based on the number of practices\n",
        "num_categories = len(qat_summary_sorted)\n",
        "plt.figure(figsize=(10, max(5, num_categories * 0.6))) # Adjust height\n",
        "\n",
        "# Create bar plot with QAT categories on y-axis\n",
        "barplot = sns.barplot(\n",
        "    data=qat_summary_sorted,\n",
        "    y=qat_entry_col,          # QAT categories on vertical axis\n",
        "    x='unsatisfactory_pct', # Percentage on horizontal axis\n",
        "    order=qat_order,         # Use the defined logical order\n",
        "    palette='coolwarm_r'      # Example: Reversed coolwarm (red=high, blue=low)\n",
        ")\n",
        "\n",
        "# Add Titles and Labels\n",
        "plt.title('Project Unsatisfactory Rate (%) by Quality at Entry Rating', fontsize=16)\n",
        "plt.xlabel('Unsatisfactory Rate (%)', fontsize=12)\n",
        "plt.ylabel('Quality at Entry Rating', fontsize=12)\n",
        "plt.xticks(fontsize=10)\n",
        "plt.yticks(fontsize=10) # Adjust font size if needed\n",
        "\n",
        "# Add text labels for percentage and N (total projects)\n",
        "for index, row in qat_summary_sorted.iterrows():\n",
        "    # Find the correct y-position based on the sorted category order\n",
        "    # Need to handle potential missing categories from qat_order if they weren't in data\n",
        "    try:\n",
        "        y_pos = qat_order.index(row[qat_entry_col])\n",
        "        plt.text(row['unsatisfactory_pct'] + 1, # Position text slightly right of bar end\n",
        "                 y_pos,                         # Use index corresponding to category order\n",
        "                 f\"{row['unsatisfactory_pct']:.1f}% (N={row['total_projects']})\",\n",
        "                 va='center',                   # Vertical alignment\n",
        "                 fontsize=9)                    # Adjust font size\n",
        "    except ValueError: # Category was not in the expected qat_order list\n",
        "         print(f\"Could not find position for label: {row[qat_entry_col]}\")\n",
        "\n",
        "plt.xlim(0, 105) # Set x-axis limit to 105% to ensure space for labels\n",
        "plt.grid(axis='x', linestyle='--', alpha=0.6) # Add vertical grid lines\n",
        "plt.tight_layout()\n",
        "plt.show()\n",
        "\n",
        "print(\"\\n--- H5 Visualization Complete ---\")\n"
      ],
      "metadata": {
        "colab": {
          "base_uri": "https://localhost:8080/",
          "height": 647
        },
        "id": "N-teap8qRy-u",
        "outputId": "56b25c2d-5c30-4cad-a40b-c0b05fc49351"
      },
      "execution_count": 12,
      "outputs": [
        {
          "output_type": "stream",
          "name": "stdout",
          "text": [
            "\n",
            "Generating sorted bar chart...\n"
          ]
        },
        {
          "output_type": "stream",
          "name": "stderr",
          "text": [
            "<ipython-input-12-a981325ef975>:8: FutureWarning: \n",
            "\n",
            "Passing `palette` without assigning `hue` is deprecated and will be removed in v0.14.0. Assign the `y` variable to `hue` and set `legend=False` for the same effect.\n",
            "\n",
            "  barplot = sns.barplot(\n"
          ]
        },
        {
          "output_type": "display_data",
          "data": {
            "text/plain": [
              "<Figure size 1000x500 with 1 Axes>"
            ],
            "image/png": "[encoded data removed]"
          },
          "metadata": {}
        },
        {
          "output_type": "stream",
          "name": "stdout",
          "text": [
            "\n",
            "--- H5 Visualization Complete ---\n"
          ]
        }
      ]
    }
  ]
}