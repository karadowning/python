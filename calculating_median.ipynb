{
 "cells": [
  {
   "cell_type": "code",
   "execution_count": 2,
   "id": "95b356e3",
   "metadata": {},
   "outputs": [
    {
     "name": "stdout",
     "output_type": "stream",
     "text": [
      "The median of the values is: 22\n"
     ]
    }
   ],
   "source": [
    "def calculate_median(values):\n",
    "  \"\"\"Calculates the median of a list of values.\n",
    "\n",
    "  Args:\n",
    "    values: A list of numbers.\n",
    "\n",
    "  Returns:\n",
    "    The median of the values.\n",
    "  \"\"\"\n",
    "\n",
    "  # Sort the values in ascending order\n",
    "  values.sort()\n",
    "\n",
    "  # Calculate the middle index\n",
    "  middle_index = len(values) // 2\n",
    "\n",
    "  # If the number of values is odd, return the middle value\n",
    "  if len(values) % 2 == 1:\n",
    "    return values[middle_index]\n",
    "\n",
    "  # If the number of values is even, return the average of the two middle values\n",
    "  else:\n",
    "    return (values[middle_index - 1] + values[middle_index]) / 2\n",
    "\n",
    "# Create a list of values from the table\n",
    "values = [18, 18, 18, 18, 19, 20, 20, 20, 21, 22, 22, 23, 24, 25, 26, 27, 32, 33, 49]\n",
    "\n",
    "# Calculate the median using the function\n",
    "median = calculate_median(values)\n",
    "\n",
    "print(\"The median of the values is:\", median)"
   ]
  },
  {
   "cell_type": "markdown",
   "id": "26bb7b0c",
   "metadata": {},
   "source": [
    "---"
   ]
  },
  {
   "cell_type": "code",
   "execution_count": 3,
   "id": "31f4dac5",
   "metadata": {},
   "outputs": [
    {
     "name": "stdout",
     "output_type": "stream",
     "text": [
      "The median of the values is: 32.5\n"
     ]
    }
   ],
   "source": [
    "def calculate_median(values):\n",
    "  \"\"\"Calculates the median of a list of values.\n",
    "\n",
    "  Args:\n",
    "    values: A list of numbers.\n",
    "\n",
    "  Returns:\n",
    "    The median of the values.\n",
    "  \"\"\"\n",
    "\n",
    "  # Sort the values in ascending order\n",
    "  values.sort()\n",
    "\n",
    "  # Calculate the middle index\n",
    "  middle_index = len(values) // 2\n",
    "\n",
    "  # If the number of values is odd, return the middle value\n",
    "  if len(values) % 2 == 1:\n",
    "    return values[middle_index]\n",
    "\n",
    "  # If the number of values is even, return the average of the two middle values\n",
    "  else:\n",
    "    return (values[middle_index - 1] + values[middle_index]) / 2\n",
    "\n",
    "# Create a list of values from the table\n",
    "values = [17,21,21,31,32,33,36,37,55,59]\n",
    "\n",
    "# Calculate the median using the function\n",
    "median = calculate_median(values)\n",
    "\n",
    "print(\"The median of the values is:\", median)"
   ]
  }
 ],
 "metadata": {
  "kernelspec": {
   "display_name": "Python 3 (ipykernel)",
   "language": "python",
   "name": "python3"
  },
  "language_info": {
   "codemirror_mode": {
    "name": "ipython",
    "version": 3
   },
   "file_extension": ".py",
   "mimetype": "text/x-python",
   "name": "python",
   "nbconvert_exporter": "python",
   "pygments_lexer": "ipython3",
   "version": "3.12.4"
  }
 },
 "nbformat": 4,
 "nbformat_minor": 5
}
