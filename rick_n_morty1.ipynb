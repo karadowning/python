{
  "nbformat": 4,
  "nbformat_minor": 0,
  "metadata": {
    "colab": {
      "provenance": [],
      "authorship_tag": "ABX9TyMd/9wuw4BwXnn7FeFTx+pX"
    },
    "kernelspec": {
      "name": "python3",
      "display_name": "Python 3"
    },
    "language_info": {
      "name": "python"
    }
  },
  "cells": [
    {
      "cell_type": "code",
      "execution_count": null,
      "metadata": {
        "id": "HeENwJfmiLF5"
      },
      "outputs": [],
      "source": [
        "# Part 1\n",
        "import pandas as pd\n",
        "import numpy as np\n",
        "from sklearn.model_selection import train_test_split\n",
        "from sklearn.linear_model import LinearRegression\n",
        "from sklearn.ensemble import RandomForestRegressor, GradientBoostingRegressor\n",
        "from sklearn.metrics import mean_squared_error, r2_score, mean_absolute_error\n",
        "import re\n",
        "from sklearn.feature_extraction.text import TfidfVectorizer"
      ]
    },
    {
      "cell_type": "code",
      "source": [
        "# Load the CSV file (adjust the path if needed)\n",
        "df = pd.read_csv(\"rick_n_morty.csv\")"
      ],
      "metadata": {
        "id": "q7wn-g60iW_d"
      },
      "execution_count": null,
      "outputs": []
    },
    {
      "cell_type": "code",
      "source": [
        "print(df.columns)"
      ],
      "metadata": {
        "colab": {
          "base_uri": "https://localhost:8080/"
        },
        "id": "_4bXYPp5i-7a",
        "outputId": "b161daa6-819c-4369-ac71-36aa7a8f8186"
      },
      "execution_count": null,
      "outputs": [
        {
          "output_type": "stream",
          "name": "stdout",
          "text": [
            "Index(['Unnamed: 0', 'Season No', 'Episode', 'episode no.', 'speaker',\n",
            "       'dialouge', 'IMDb score '],\n",
            "      dtype='object')\n"
          ]
        }
      ]
    },
    {
      "cell_type": "code",
      "source": [
        "# Preprocessing: Aggregate dialogue per episode and calculate word count\n",
        "episode_dialogue = df.groupby(['Season No', 'episode no.'])['dialouge'].apply(' '.join).reset_index()\n",
        "episode_scores = df[['Season No', 'episode no.', 'IMDb score ']].drop_duplicates()\n",
        "episode_data = pd.merge(episode_dialogue, episode_scores, on=['Season No', 'episode no.'], how='left')\n"
      ],
      "metadata": {
        "id": "K7TpkMA5iiZ5"
      },
      "execution_count": null,
      "outputs": []
    },
    {
      "cell_type": "code",
      "source": [
        "# Calculate word count\n",
        "episode_data['word_count'] = episode_data['dialouge'].apply(lambda x: len(re.findall(r'\\w+', x)))\n"
      ],
      "metadata": {
        "id": "lx4n4VPljE-v"
      },
      "execution_count": null,
      "outputs": []
    },
    {
      "cell_type": "code",
      "source": [
        "# Feature extraction using TF-IDF\n",
        "vectorizer = TfidfVectorizer(max_features=1000)  # Limit to top 1000 words\n",
        "tfidf_matrix = vectorizer.fit_transform(episode_data['dialouge'])\n",
        "tfidf_df = pd.DataFrame(tfidf_matrix.toarray(), columns=vectorizer.get_feature_names_out())\n",
        "episode_data = pd.concat([episode_data, tfidf_df], axis=1)"
      ],
      "metadata": {
        "id": "W3FPJ5lDjIiN"
      },
      "execution_count": null,
      "outputs": []
    },
    {
      "cell_type": "code",
      "source": [
        "# Prepare features and target\n",
        "features = episode_data.drop(['Season No', 'episode no.', 'dialouge', 'IMDb score '], axis=1)\n",
        "target = episode_data['IMDb score ']"
      ],
      "metadata": {
        "id": "8ALCUb45jLDR"
      },
      "execution_count": null,
      "outputs": []
    },
    {
      "cell_type": "code",
      "source": [
        "# Split data into training and testing sets\n",
        "X_train, X_test, y_train, y_test = train_test_split(features, target, test_size=0.2, random_state=42)\n"
      ],
      "metadata": {
        "id": "LWhY8OI1jPpb"
      },
      "execution_count": null,
      "outputs": []
    },
    {
      "cell_type": "code",
      "source": [
        "# Linear Regression\n",
        "linear_model = LinearRegression()\n",
        "linear_model.fit(X_train, y_train)\n",
        "linear_predictions = linear_model.predict(X_test)"
      ],
      "metadata": {
        "id": "6EGr3XU7jSUV"
      },
      "execution_count": null,
      "outputs": []
    },
    {
      "cell_type": "code",
      "source": [
        "# Random Forest Regression\n",
        "rf_model = RandomForestRegressor(random_state=42)\n",
        "rf_model.fit(X_train, y_train)\n",
        "rf_predictions = rf_model.predict(X_test)"
      ],
      "metadata": {
        "id": "m56nLCtKjUtq"
      },
      "execution_count": null,
      "outputs": []
    },
    {
      "cell_type": "code",
      "source": [
        "# Gradient Boosting Regression\n",
        "gb_model = GradientBoostingRegressor(random_state=42)\n",
        "gb_model.fit(X_train, y_train)\n",
        "gb_predictions = gb_model.predict(X_test)"
      ],
      "metadata": {
        "id": "AXUchNqBjXVl"
      },
      "execution_count": null,
      "outputs": []
    },
    {
      "cell_type": "code",
      "source": [
        "# Evaluate models\n",
        "def evaluate_model(predictions, actual):\n",
        "    rmse = np.sqrt(mean_squared_error(actual, predictions))\n",
        "    r2 = r2_score(actual, predictions)\n",
        "    mae = mean_absolute_error(actual, predictions)\n",
        "    return rmse, r2, mae\n",
        "\n",
        "linear_rmse, linear_r2, linear_mae = evaluate_model(linear_predictions, y_test)\n",
        "rf_rmse, rf_r2, rf_mae = evaluate_model(rf_predictions, y_test)\n",
        "gb_rmse, gb_r2, gb_mae = evaluate_model(gb_predictions, y_test)\n",
        "\n",
        "print(\"Linear Regression: RMSE={}, R2={}, MAE={}\".format(linear_rmse, linear_r2, linear_mae))\n",
        "print(\"Random Forest: RMSE={}, R2={}, MAE={}\".format(rf_rmse, rf_r2, rf_mae))\n",
        "print(\"Gradient Boosting: RMSE={}, R2={}, MAE={}\".format(gb_rmse, gb_r2, gb_mae))"
      ],
      "metadata": {
        "colab": {
          "base_uri": "https://localhost:8080/"
        },
        "id": "-wW_hTeAjb2n",
        "outputId": "13b18935-46f2-457f-e6ee-a02158a529ec"
      },
      "execution_count": null,
      "outputs": [
        {
          "output_type": "stream",
          "name": "stdout",
          "text": [
            "Linear Regression: RMSE=1.1437784991441298, R2=-0.206436200672643, MAE=0.9014541261094977\n",
            "Random Forest: RMSE=1.0423608420312032, R2=-0.0019745244956757, MAE=0.8178750000000008\n",
            "Gradient Boosting: RMSE=0.9600290284897912, R2=0.15005811131476476, MAE=0.8467565534946448\n"
          ]
        }
      ]
    },
    {
      "cell_type": "code",
      "source": [
        "# Non-linear relationships (Scatter plots)\n",
        "import matplotlib.pyplot as plt\n",
        "plt.scatter(episode_data['word_count'], episode_data['IMDb score '])\n",
        "plt.xlabel(\"Word Count\")\n",
        "plt.ylabel(\"IMDb Score\")\n",
        "plt.title(\"Word Count vs. IMDb Score\")\n",
        "plt.show()"
      ],
      "metadata": {
        "colab": {
          "base_uri": "https://localhost:8080/",
          "height": 472
        },
        "id": "omMfjW6ijlYN",
        "outputId": "f38ece09-c030-4c38-d363-9efb90344422"
      },
      "execution_count": null,
      "outputs": [
        {
          "output_type": "display_data",
          "data": {
            "text/plain": [
              "<Figure size 640x480 with 1 Axes>"
            ],
            "image/png": "[encoded data removed]"
          },
          "metadata": {}
        }
      ]
    },
    {
      "cell_type": "code",
      "source": [
        "# Performance across seasons\n",
        "season_performance = {}\n",
        "for season in episode_data['Season No'].unique():\n",
        "    season_data = episode_data[episode_data['Season No'] == season]\n",
        "    season_features = season_data.drop(['Season No', 'episode no.', 'dialouge', 'IMDb score '], axis=1)\n",
        "    season_target = season_data['IMDb score ']\n",
        "\n",
        "    if len(season_features) > 0:\n",
        "      season_predictions = gb_model.predict(season_features)\n",
        "      rmse, r2, mae = evaluate_model(season_predictions, season_target)\n",
        "      season_performance[season] = {'RMSE': rmse, 'R2': r2, 'MAE': mae}\n",
        "\n",
        "print(\"\\nPerformance per Season:\")\n",
        "for season, metrics in season_performance.items():\n",
        "    print(f\"Season {season}: RMSE={metrics['RMSE']}, R2={metrics['R2']}, MAE={metrics['MAE']}\")"
      ],
      "metadata": {
        "colab": {
          "base_uri": "https://localhost:8080/"
        },
        "id": "kasWWrj3jrX9",
        "outputId": "40d066c6-434d-4660-da0d-a0caa0ea1ae7"
      },
      "execution_count": null,
      "outputs": [
        {
          "output_type": "stream",
          "name": "stdout",
          "text": [
            "\n",
            "Performance per Season:\n",
            "Season 1: RMSE=0.2777985254165992, R2=0.5849860218862191, MAE=0.11731238156475281\n",
            "Season 2: RMSE=0.1893190886666153, R2=0.8808849540260628, MAE=0.05991950488367008\n",
            "Season 3: RMSE=0.49770382787460604, R2=0.4194317962163233, MAE=0.190579475168312\n",
            "Season 4: RMSE=0.47453084105888677, R2=0.7326364548753972, MAE=0.2740417309727882\n",
            "Season 5: RMSE=0.7372263555510481, R2=0.524633207592641, MAE=0.39149131095201684\n"
          ]
        }
      ]
    },
    {
      "cell_type": "code",
      "source": [
        "!pip uninstall gensim -y\n",
        "!pip install gensim"
      ],
      "metadata": {
        "colab": {
          "base_uri": "https://localhost:8080/"
        },
        "id": "oh30oNNuoOc8",
        "outputId": "4a3aea88-a6f1-4173-f2a0-c2f1502e3030"
      },
      "execution_count": null,
      "outputs": [
        {
          "output_type": "stream",
          "name": "stdout",
          "text": [
            "Found existing installation: gensim 4.3.3\n",
            "Uninstalling gensim-4.3.3:\n",
            "  Successfully uninstalled gensim-4.3.3\n",
            "Collecting gensim\n",
            "  Using cached gensim-4.3.3-cp311-cp311-manylinux_2_17_x86_64.manylinux2014_x86_64.whl.metadata (8.1 kB)\n",
            "Requirement already satisfied: numpy<2.0,>=1.18.5 in /usr/local/lib/python3.11/dist-packages (from gensim) (1.26.4)\n",
            "Requirement already satisfied: scipy<1.14.0,>=1.7.0 in /usr/local/lib/python3.11/dist-packages (from gensim) (1.13.1)\n",
            "Requirement already satisfied: smart-open>=1.8.1 in /usr/local/lib/python3.11/dist-packages (from gensim) (7.1.0)\n",
            "Requirement already satisfied: wrapt in /usr/local/lib/python3.11/dist-packages (from smart-open>=1.8.1->gensim) (1.17.2)\n",
            "Using cached gensim-4.3.3-cp311-cp311-manylinux_2_17_x86_64.manylinux2014_x86_64.whl (26.7 MB)\n",
            "Installing collected packages: gensim\n",
            "Successfully installed gensim-4.3.3\n"
          ]
        }
      ]
    }
  ]
}