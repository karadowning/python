{
 "cells": [
  {
   "cell_type": "code",
   "execution_count": 14,
   "id": "29916303",
   "metadata": {},
   "outputs": [
    {
     "ename": "NameError",
     "evalue": "name 'index' is not defined",
     "output_type": "error",
     "traceback": [
      "\u001b[0;31m---------------------------------------------------------------------------\u001b[0m",
      "\u001b[0;31mNameError\u001b[0m                                 Traceback (most recent call last)",
      "Cell \u001b[0;32mIn[14], line 32\u001b[0m\n\u001b[1;32m     30\u001b[0m failure_times \u001b[38;5;241m=\u001b[39m [\u001b[38;5;241m100\u001b[39m, \u001b[38;5;241m200\u001b[39m, \u001b[38;5;241m300\u001b[39m, \u001b[38;5;241m400\u001b[39m, \u001b[38;5;241m500\u001b[39m, \u001b[38;5;241m600\u001b[39m, \u001b[38;5;241m700\u001b[39m, \u001b[38;5;241m800\u001b[39m, \u001b[38;5;241m900\u001b[39m, \u001b[38;5;241m1000\u001b[39m]\n\u001b[1;32m     31\u001b[0m percentiles \u001b[38;5;241m=\u001b[39m [\u001b[38;5;241m10\u001b[39m, \u001b[38;5;241m90\u001b[39m]\n\u001b[0;32m---> 32\u001b[0m results \u001b[38;5;241m=\u001b[39m calculate_percentiles(failure_times, percentiles)\n\u001b[1;32m     34\u001b[0m \u001b[38;5;28mprint\u001b[39m(\u001b[38;5;124m\"\u001b[39m\u001b[38;5;124m10th percentile:\u001b[39m\u001b[38;5;124m\"\u001b[39m, results[\u001b[38;5;241m10\u001b[39m])\n\u001b[1;32m     35\u001b[0m \u001b[38;5;28mprint\u001b[39m(\u001b[38;5;124m\"\u001b[39m\u001b[38;5;124m90th percentile:\u001b[39m\u001b[38;5;124m\"\u001b[39m, results[\u001b[38;5;241m90\u001b[39m])\n",
      "Cell \u001b[0;32mIn[14], line 22\u001b[0m, in \u001b[0;36mcalculate_percentiles\u001b[0;34m(failure_times, percentiles)\u001b[0m\n\u001b[1;32m     19\u001b[0m percentile_indices \u001b[38;5;241m=\u001b[39m [(percentile \u001b[38;5;241m/\u001b[39m \u001b[38;5;241m100\u001b[39m) \u001b[38;5;241m*\u001b[39m (n \u001b[38;5;241m-\u001b[39m \u001b[38;5;241m1\u001b[39m) \u001b[38;5;241m+\u001b[39m \u001b[38;5;241m1\u001b[39m \u001b[38;5;28;01mfor\u001b[39;00m percentile \u001b[38;5;129;01min\u001b[39;00m percentiles]\n\u001b[1;32m     21\u001b[0m \u001b[38;5;66;03m# Calculate the percentile values\u001b[39;00m\n\u001b[0;32m---> 22\u001b[0m percentile_values \u001b[38;5;241m=\u001b[39m [(sorted_times[\u001b[38;5;28mint\u001b[39m(index)] \u001b[38;5;241m+\u001b[39m sorted_times[\u001b[38;5;28mint\u001b[39m(index) \u001b[38;5;241m+\u001b[39m \u001b[38;5;241m1\u001b[39m]) \u001b[38;5;241m/\u001b[39m \u001b[38;5;241m2\u001b[39m \u001b[38;5;28;01mif\u001b[39;00m \u001b[38;5;28mint\u001b[39m(index) \u001b[38;5;241m+\u001b[39m \u001b[38;5;241m1\u001b[39m \u001b[38;5;241m<\u001b[39m \u001b[38;5;28mlen\u001b[39m(sorted_times) \u001b[38;5;28;01melse\u001b[39;00m sorted_times[\u001b[38;5;28mint\u001b[39m(index)]]\n\u001b[1;32m     25\u001b[0m \u001b[38;5;66;03m# Create a dictionary mapping percentiles to their corresponding values\u001b[39;00m\n\u001b[1;32m     26\u001b[0m percentiles_dict \u001b[38;5;241m=\u001b[39m \u001b[38;5;28mdict\u001b[39m(\u001b[38;5;28mzip\u001b[39m(percentiles, percentile_values))\n",
      "\u001b[0;31mNameError\u001b[0m: name 'index' is not defined"
     ]
    }
   ],
   "source": [
    "def calculate_percentiles(failure_times, percentiles):\n",
    "  \"\"\"Calculates the specified percentiles of a list of failure times.\n",
    "\n",
    "  Args:\n",
    "    failure_times: A list of failure times.\n",
    "    percentiles: A list of percentiles to calculate.\n",
    "\n",
    "  Returns:\n",
    "    A dictionary mapping percentiles to their corresponding failure times.\n",
    "  \"\"\"\n",
    "\n",
    "  # Sort the failure times in ascending order\n",
    "  sorted_times = sorted(failure_times)\n",
    "\n",
    "  # Calculate the number of failure times\n",
    "  n = len(sorted_times)\n",
    "\n",
    "  # Calculate the percentile indices\n",
    "  percentile_indices = [(percentile / 100) * (n - 1) + 1 for percentile in percentiles]\n",
    "\n",
    "  # Calculate the percentile values\n",
    "  percentile_values = [(sorted_times[int(index)] + sorted_times[int(index) + 1]) / 2 if int(index) + 1 < len(sorted_times) else sorted_times[int(index)]]\n",
    "\n",
    "\n",
    "  # Create a dictionary mapping percentiles to their corresponding values\n",
    "  percentiles_dict = dict(zip(percentiles, percentile_values))\n",
    "  return percentiles_dict\n",
    "\n",
    "# Example usage:\n",
    "failure_times = [100, 200, 300, 400, 500, 600, 700, 800, 900, 1000]\n",
    "percentiles = [10, 90]\n",
    "results = calculate_percentiles(failure_times, percentiles)\n",
    "\n",
    "print(\"10th percentile:\", results[10])\n",
    "print(\"90th percentile:\", results[90])"
   ]
  }
 ],
 "metadata": {
  "kernelspec": {
   "display_name": "Python 3 (ipykernel)",
   "language": "python",
   "name": "python3"
  },
  "language_info": {
   "codemirror_mode": {
    "name": "ipython",
    "version": 3
   },
   "file_extension": ".py",
   "mimetype": "text/x-python",
   "name": "python",
   "nbconvert_exporter": "python",
   "pygments_lexer": "ipython3",
   "version": "3.12.4"
  }
 },
 "nbformat": 4,
 "nbformat_minor": 5
}
