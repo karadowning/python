{
  "nbformat": 4,
  "nbformat_minor": 0,
  "metadata": {
    "colab": {
      "provenance": [],
      "authorship_tag": "ABX9TyO7WUnVJ+feX+OPuV2X33EU"
    },
    "kernelspec": {
      "name": "python3",
      "display_name": "Python 3"
    },
    "language_info": {
      "name": "python"
    }
  },
  "cells": [
    {
      "cell_type": "code",
      "execution_count": null,
      "metadata": {
        "colab": {
          "base_uri": "https://localhost:8080/"
        },
        "id": "TomIjpFb3AuH",
        "outputId": "a0ab191b-1c07-49a0-acbb-8d96ae7a61f2"
      },
      "outputs": [
        {
          "output_type": "stream",
          "name": "stdout",
          "text": [
            "--- Starting Part 1: Data Merging and Cleaning ---\n"
          ]
        }
      ],
      "source": [
        "\n",
        "# --- Imports ---\n",
        "import pandas as pd\n",
        "import numpy as np\n",
        "\n",
        "print(\"--- Starting Part 1: Data Merging and Cleaning ---\")\n",
        "\n",
        "# --- Configuration: File Names and Loading Parameters ---\n",
        "file_ieg = 'ieg_wbg.csv'\n",
        "file_ops = 'projects_operations.csv'"
      ]
    },
    {
      "cell_type": "code",
      "source": [
        "# --- V V V --- VERIFY LOADING PARAMETERS --- V V V ---\n",
        "# Setting header=0 based on user providing actual headers. Verify delimiter.\n",
        "delimiter1 = ',' # For ieg_wbg.csv\n",
        "header_row1 = 0\n",
        "delimiter2 = ',' # For projects_operations.csv\n",
        "header_row2 = 0\n"
      ],
      "metadata": {
        "id": "RgPGXIaP3nNW"
      },
      "execution_count": null,
      "outputs": []
    },
    {
      "cell_type": "code",
      "source": [
        "# --- Standardization Function ---\n",
        "def standardize_cols(df):\n",
        "    \"\"\"Converts column names to lowercase, replaces spaces/special chars with underscores.\"\"\"\n",
        "    df.columns = df.columns.astype(str).str.strip().str.lower()\n",
        "    df.columns = df.columns.str.replace(' ', '_', regex=False)\n",
        "    df.columns = df.columns.str.replace(r'[ /$.()]+', '_', regex=True) # More comprehensive symbol replacement\n",
        "    df.columns = df.columns.str.replace(r'[^a-z0-9_]+', '', regex=True)\n",
        "    df.columns = df.columns.str.strip('_').str.replace(r'_+', '_', regex=True)\n",
        "    return df"
      ],
      "metadata": {
        "id": "o6QYgUP83pLA"
      },
      "execution_count": null,
      "outputs": []
    },
    {
      "cell_type": "code",
      "source": [
        "# --- Step 1: Load Datasets ---\n",
        "print(f\"\\nLoading Dataset 1: {file_ieg}\")\n",
        "try:\n",
        "    df_ieg = pd.read_csv(file_ieg, header=header_row1, delimiter=delimiter1, low_memory=False) # Added low_memory=False for potentially mixed types\n",
        "    print(f\"Loaded {file_ieg} successfully. Shape: {df_ieg.shape}\")\n",
        "except Exception as e: print(f\"Error loading {file_ieg}: {e}\"); exit()\n",
        "\n",
        "print(f\"\\nLoading Dataset 2: {file_ops}\")\n",
        "try:\n",
        "    df_ops = pd.read_csv(file_ops, header=header_row2, delimiter=delimiter2, low_memory=False)\n",
        "    print(f\"Loaded {file_ops} successfully. Shape: {df_ops.shape}\")\n",
        "except Exception as e: print(f\"Error loading {file_ops}: {e}\"); exit()\n"
      ],
      "metadata": {
        "colab": {
          "base_uri": "https://localhost:8080/"
        },
        "id": "nAVJx5hn3raH",
        "outputId": "4b27b869-29ea-4a8e-dec0-41d2dda9374e"
      },
      "execution_count": null,
      "outputs": [
        {
          "output_type": "stream",
          "name": "stdout",
          "text": [
            "\n",
            "Loading Dataset 1: ieg_wbg.csv\n",
            "Loaded ieg_wbg.csv successfully. Shape: (6314, 21)\n",
            "\n",
            "Loading Dataset 2: projects_operations.csv\n",
            "Loaded projects_operations.csv successfully. Shape: (18841, 57)\n"
          ]
        }
      ]
    },
    {
      "cell_type": "code",
      "source": [
        "# --- Step 2: Standardize Columns ---\n",
        "df_ieg = standardize_cols(df_ieg.copy())\n",
        "df_ops = standardize_cols(df_ops.copy())\n",
        "print(\"\\nStandardized columns for both datasets.\")\n",
        "print(f\"\\n--- >>> CHECK THESE STANDARDIZED COLUMNS CAREFULLY <<< ---\")\n",
        "print(f\"Columns in {file_ieg} (standardized):\", df_ieg.columns.tolist())\n",
        "print(f\"\\nColumns in {file_ops} (standardized):\", df_ops.columns.tolist())\n",
        "print(\"--- >>>> Verify the variable assignments below match these lists <<< ---\")\n"
      ],
      "metadata": {
        "colab": {
          "base_uri": "https://localhost:8080/"
        },
        "id": "NuZytPvi45Sj",
        "outputId": "a25e4159-3d4c-4d72-9bdb-36f1e1d3621a"
      },
      "execution_count": null,
      "outputs": [
        {
          "output_type": "stream",
          "name": "stdout",
          "text": [
            "\n",
            "Standardized columns for both datasets.\n",
            "\n",
            "--- >>> CHECK THESE STANDARDIZED COLUMNS CAREFULLY <<< ---\n",
            "Columns in ieg_wbg.csv (standardized): ['as_of_date', 'project_id', 'project_name', 'wb_region', 'country_economy', 'country_economy_lending_group', 'country_economy_fcs_status', 'country_economy_fcs_lending_group', 'practice_group', 'global_practice', 'agreement_type', 'lending_instrument_type', 'approval_fy', 'final_closing_fy', 'evaluation_type', 'outcome', 'quality_at_entry', 'quality_of_supervision', 'bank_performance', 'me_quality', 'evaluation_fy']\n",
            "\n",
            "Columns in projects_operations.csv (standardized): ['id', 'regionname', 'countryname', 'prodline', 'lendinginstr', 'lendinginstrtype', 'envassesmentcategorycode', 'supplementprojectflg', 'productlinetype', 'projectstatusdisplay', 'status', 'project_name', 'boardapprovaldate', 'board_approval_month', 'closingdate', 'lendprojectcost', 'ibrdcommamt', 'idacommamt', 'totalamt', 'grantamt', 'borrower', 'impagency', 'url', 'projectdoc', 'majorsector_percent', 'sector1', 'sector2', 'sector3', 'sector4', 'sector5', 'sector', 'mjsector1', 'mjsector2', 'mjsector3', 'mjsector4', 'mjsector5', 'mjsector', 'theme1', 'theme2', 'theme3', 'theme4', 'theme5', 'theme', 'goal', 'financier', 'mjtheme1name', 'mjtheme2name', 'mjtheme3name', 'mjtheme4name', 'mjtheme5name', 'location', 'geolocid', 'geolocname', 'latitude', 'longitude', 'country', 'unnamed_56']\n",
            "--- >>>> Verify the variable assignments below match these lists <<< ---\n"
          ]
        }
      ]
    },
    {
      "cell_type": "code",
      "source": [
        "# --- Step 3: Define Key Columns & Merge Key ---\n",
        "# >>> IMPORTANT: Verify these standardized names match the printed lists ABOVE <<<\n",
        "\n",
        "# Project ID Columns (Based on user-provided headers 'Project ID' and 'id')\n",
        "id_col_ieg = 'project_id'\n",
        "id_col_ops = 'id'\n",
        "\n",
        "# Define other columns needed for ANY hypothesis, using expected standardized names\n",
        "# From IEG file (based on user headers):\n",
        "outcome_col = 'outcome' # Raw header was 'Outcome' - ASSUME THIS HAS TEXT RATINGS NOW\n",
        "qat_entry_col = 'quality_at_entry'\n",
        "lending_group_col = 'country_economy_lending_group'\n",
        "fcs_status_col = 'country_economy_fcs_status' # New context variable for potential H6 variant\n",
        "practice_group_col = 'practice_group' # H3 Candidate\n",
        "global_practice_col = 'global_practice' # H3 Candidate\n",
        "approval_fy_col = 'approval_fy' # Year column from IEG\n",
        "ieg_instr_type_col = 'lending_instrument_type' # H3 Candidate (potentially duplicate name)\n"
      ],
      "metadata": {
        "id": "qGRT84Mi5XRg"
      },
      "execution_count": null,
      "outputs": []
    },
    {
      "cell_type": "code",
      "source": [
        "# From Ops file (based on user headers):\n",
        "cost_col = 'lendprojectcost'\n",
        "country_col = 'countryname'\n",
        "region_col = 'regionname'\n",
        "ops_instr_type_col = 'lendinginstrtype' # H3 Candidate (potentially duplicate name)\n",
        "ops_approval_date_col = 'boardapprovaldate' # Alternative date column\n",
        "\n",
        "print(\"\\nKey columns identified (verify names):\")\n",
        "print(f\"  IEG ID: {id_col_ieg}, Ops ID: {id_col_ops}\")\n",
        "print(f\"  Outcome: {outcome_col}, QAT Entry: {qat_entry_col}\")\n",
        "print(f\"  Cost: {cost_col}, Country: {country_col}, Region: {region_col}\")\n",
        "print(f\"  Lending Group: {lending_group_col}, FCS Status: {fcs_status_col}\")\n",
        "print(f\"  Year Source: {approval_fy_col} (from IEG)\")\n",
        "print(f\"  Project Types (IEG): {practice_group_col}, {global_practice_col}, {ieg_instr_type_col}\")\n",
        "print(f\"  Project Types (Ops): {ops_instr_type_col}\")\n"
      ],
      "metadata": {
        "colab": {
          "base_uri": "https://localhost:8080/"
        },
        "id": "F8zrYcy55aIH",
        "outputId": "cf00a867-5460-40d4-c5b2-1d5596d22370"
      },
      "execution_count": null,
      "outputs": [
        {
          "output_type": "stream",
          "name": "stdout",
          "text": [
            "\n",
            "Key columns identified (verify names):\n",
            "  IEG ID: project_id, Ops ID: id\n",
            "  Outcome: outcome, QAT Entry: quality_at_entry\n",
            "  Cost: lendprojectcost, Country: countryname, Region: regionname\n",
            "  Lending Group: country_economy_lending_group, FCS Status: country_economy_fcs_status\n",
            "  Year Source: approval_fy (from IEG)\n",
            "  Project Types (IEG): practice_group, global_practice, lending_instrument_type\n",
            "  Project Types (Ops): lendinginstrtype\n"
          ]
        }
      ]
    },
    {
      "cell_type": "code",
      "source": [
        "# --- Step 4: Prepare for Merge ---\n",
        "merge_key = 'project_id_merged'\n",
        "# Verify and Rename ID columns\n",
        "if id_col_ieg not in df_ieg.columns: print(f\"Error: Col '{id_col_ieg}' not in {file_ieg}.\"); exit()\n",
        "df_ieg.rename(columns={id_col_ieg: merge_key}, inplace=True)\n",
        "if id_col_ops not in df_ops.columns: print(f\"Error: Col '{id_col_ops}' not in {file_ops}.\"); exit()\n",
        "df_ops.rename(columns={id_col_ops: merge_key}, inplace=True)\n",
        "print(f\"Renamed ID columns to '{merge_key}'.\")\n"
      ],
      "metadata": {
        "colab": {
          "base_uri": "https://localhost:8080/"
        },
        "id": "yoNCnk7K5dRa",
        "outputId": "ba978259-3a0d-4e8c-f18b-78e0acc456a4"
      },
      "execution_count": null,
      "outputs": [
        {
          "output_type": "stream",
          "name": "stdout",
          "text": [
            "Renamed ID columns to 'project_id_merged'.\n"
          ]
        }
      ]
    },
    {
      "cell_type": "code",
      "source": [
        "# --- Step 5: Select ALL potentially useful columns and Merge ---\n",
        "# Select all defined columns plus the key from each dataframe where they exist\n",
        "cols_to_keep_ieg = list(set([merge_key, outcome_col, qat_entry_col, lending_group_col, fcs_status_col,\n",
        "                             practice_group_col, global_practice_col, approval_fy_col, ieg_instr_type_col]))\n",
        "cols_to_keep_ops = list(set([merge_key, cost_col, country_col, region_col, ops_instr_type_col, ops_approval_date_col]))\n",
        "\n",
        "# Ensure selected columns actually exist in the dataframes before trying to select\n",
        "cols_to_select_ieg = [col for col in cols_to_keep_ieg if col in df_ieg.columns]\n",
        "cols_to_select_ops = [col for col in cols_to_keep_ops if col in df_ops.columns]\n",
        "# Avoid selecting the same column name twice (besides merge key) - prioritize IEG version if name collides\n",
        "cols_to_select_ops = [col for col in cols_to_select_ops if col not in cols_to_select_ieg or col == merge_key]\n",
        "\n",
        "print(f\"\\nSelecting columns from {file_ieg}: {cols_to_select_ieg}\")\n",
        "print(f\"Selecting columns from {file_ops}: {cols_to_select_ops}\")\n",
        "\n",
        "# Perform INNER merge (keeps only matching projects, ~6k rows)\n",
        "print(f\"\\nPerforming inner merge on '{merge_key}'...\")\n",
        "df_merged_clean = pd.merge(\n",
        "    df_ieg[cols_to_select_ieg],\n",
        "    df_ops[cols_to_select_ops],\n",
        "    on=merge_key,\n",
        "    how='inner',\n",
        "    suffixes=('_ieg', '_ops') # Add suffix if same column name selected from both by mistake\n",
        ")\n",
        "print(f\"\\nMerge complete. Shape of merged data: {df_merged_clean.shape}\")\n",
        "print(f\"Columns in merged data: {df_merged_clean.columns.tolist()}\")\n",
        "if df_merged_clean.empty: print(\"\\nError: Merged DataFrame is empty.\"); exit()\n",
        "\n"
      ],
      "metadata": {
        "colab": {
          "base_uri": "https://localhost:8080/"
        },
        "id": "lvcsiRSR5gW2",
        "outputId": "d9c2637d-9664-4022-faad-5d4cd6aaa091"
      },
      "execution_count": null,
      "outputs": [
        {
          "output_type": "stream",
          "name": "stdout",
          "text": [
            "\n",
            "Selecting columns from ieg_wbg.csv: ['outcome', 'country_economy_lending_group', 'global_practice', 'lending_instrument_type', 'practice_group', 'project_id_merged', 'quality_at_entry', 'approval_fy', 'country_economy_fcs_status']\n",
            "Selecting columns from projects_operations.csv: ['lendinginstrtype', 'boardapprovaldate', 'countryname', 'lendprojectcost', 'regionname', 'project_id_merged']\n",
            "\n",
            "Performing inner merge on 'project_id_merged'...\n",
            "\n",
            "Merge complete. Shape of merged data: (6163, 14)\n",
            "Columns in merged data: ['outcome', 'country_economy_lending_group', 'global_practice', 'lending_instrument_type', 'practice_group', 'project_id_merged', 'quality_at_entry', 'approval_fy', 'country_economy_fcs_status', 'lendinginstrtype', 'boardapprovaldate', 'countryname', 'lendprojectcost', 'regionname']\n"
          ]
        }
      ]
    },
    {
      "cell_type": "code",
      "source": [
        "# --- Step 6: Initial Cleaning of Merged Data ---\n",
        "print(\"\\nPerforming initial cleaning...\")\n",
        "\n",
        "# Handle potential duplicate columns from merge (example for lending instrument type)\n",
        "# If both _ieg and _ops versions exist, decide which to keep (e.g., prioritize _ieg)\n",
        "ieg_type_final = ieg_instr_type_col + '_ieg' # Check if suffix was added\n",
        "ops_type_final = ops_instr_type_col + '_ops' # Check if suffix was added\n",
        "final_type_col = 'lending_instrument_type' # Desired final name\n",
        "\n",
        "if ieg_type_final in df_merged_clean.columns and ops_type_final in df_merged_clean.columns:\n",
        "    print(f\"Handling duplicate type columns: Keeping '{ieg_type_final}', dropping '{ops_type_final}'\")\n",
        "    df_merged_clean[final_type_col] = df_merged_clean[ieg_type_final]\n",
        "    df_merged_clean.drop(columns=[ieg_type_final, ops_type_final], inplace=True)\n",
        "elif ieg_type_final in df_merged_clean.columns:\n",
        "     df_merged_clean.rename(columns={ieg_type_final: final_type_col}, inplace=True)\n",
        "elif ops_type_final in df_merged_clean.columns:\n",
        "      df_merged_clean.rename(columns={ops_type_final: final_type_col}, inplace=True)\n",
        "elif ieg_instr_type_col in df_merged_clean.columns: # If no suffix was added but exists\n",
        "     df_merged_clean.rename(columns={ieg_instr_type_col: final_type_col}, inplace=True)\n",
        "elif ops_instr_type_col in df_merged_clean.columns: # If no suffix was added but exists\n",
        "     df_merged_clean.rename(columns={ops_instr_type_col: final_type_col}, inplace=True)\n",
        "# Add similar logic if other columns might be duplicated (e.g., region, country if names were same)\n",
        "\n",
        "# Convert Cost to numeric (handle errors)\n",
        "if cost_col in df_merged_clean.columns:\n",
        "    df_merged_clean[cost_col] = df_merged_clean[cost_col].astype(str).str.replace(r'[$,]', '', regex=True)\n",
        "    df_merged_clean[cost_col] = pd.to_numeric(df_merged_clean[cost_col], errors='coerce')\n",
        "    print(f\"Converted '{cost_col}' to numeric.\")\n",
        "\n",
        "# Convert Year to numeric (handle errors)\n",
        "if approval_fy_col in df_merged_clean.columns:\n",
        "    df_merged_clean[approval_fy_col] = pd.to_numeric(df_merged_clean[approval_fy_col], errors='coerce')\n",
        "    # Keep as float for now to preserve NaNs, convert to Int AFTER dropping NAs if needed\n",
        "    # df_merged_clean[approval_fy_col] = df_merged_clean[approval_fy_col].astype('Int64') # Use nullable integer\n",
        "    print(f\"Converted '{approval_fy_col}' to numeric.\")\n",
        "\n",
        "# Ensure key categorical columns are strings and stripped\n",
        "for col in [outcome_col, qat_entry_col, lending_group_col, fcs_status_col,\n",
        "            practice_group_col, global_practice_col, final_type_col,\n",
        "            country_col, region_col]:\n",
        "    if col in df_merged_clean.columns:\n",
        "        df_merged_clean[col] = df_merged_clean[col].astype(str).str.strip()\n",
        "\n",
        "print(\"Performed initial type conversions.\")\n"
      ],
      "metadata": {
        "colab": {
          "base_uri": "https://localhost:8080/"
        },
        "id": "VQe629Sr5sft",
        "outputId": "296261b8-3829-467a-b2ed-bbe86cdd0b01"
      },
      "execution_count": null,
      "outputs": [
        {
          "output_type": "stream",
          "name": "stdout",
          "text": [
            "\n",
            "Performing initial cleaning...\n",
            "Converted 'lendprojectcost' to numeric.\n",
            "Converted 'approval_fy' to numeric.\n",
            "Performed initial type conversions.\n"
          ]
        }
      ]
    },
    {
      "cell_type": "code",
      "source": [
        "# Report Null counts AFTER merge and initial cleaning\n",
        "print(\"\\nNull value counts in key columns of merged data:\")\n",
        "key_cols_final = [col for col in [merge_key, outcome_col, cost_col, country_col, region_col, approval_fy_col, qat_entry_col, lending_group_col, fcs_status_col, final_type_col, practice_group_col, global_practice_col] if col in df_merged_clean.columns]\n",
        "print(df_merged_clean[key_cols_final].isnull().sum())\n"
      ],
      "metadata": {
        "colab": {
          "base_uri": "https://localhost:8080/"
        },
        "id": "Fv_NWWLH5yr5",
        "outputId": "4d0274d1-cef9-4efd-be19-992754b0aa1f"
      },
      "execution_count": null,
      "outputs": [
        {
          "output_type": "stream",
          "name": "stdout",
          "text": [
            "\n",
            "Null value counts in key columns of merged data:\n",
            "project_id_merged                 0\n",
            "outcome                           0\n",
            "lendprojectcost                  49\n",
            "countryname                       0\n",
            "regionname                        0\n",
            "approval_fy                       0\n",
            "quality_at_entry                  0\n",
            "country_economy_lending_group     0\n",
            "country_economy_fcs_status        0\n",
            "lending_instrument_type           0\n",
            "practice_group                    0\n",
            "global_practice                   0\n",
            "dtype: int64\n"
          ]
        }
      ]
    },
    {
      "cell_type": "code",
      "source": [
        "# --- Step 6b: Reorder Columns (Move Project ID to Front) --- # ADD THIS BLOCK\n",
        "print(f\"\\nReordering columns to place '{merge_key}' first...\")\n",
        "# Get the list of current column names\n",
        "current_cols = df_merged_clean.columns.tolist()\n",
        "# Make sure the merge key column exists\n",
        "if merge_key in current_cols:\n",
        "    # Create the new desired column order: merge key first, then all others\n",
        "    new_col_order = [merge_key] + [col for col in current_cols if col != merge_key]\n",
        "    # Apply the new order to the DataFrame\n",
        "    df_merged_clean = df_merged_clean[new_col_order]\n",
        "    print(\"Columns reordered successfully.\")\n",
        "    # print(f\"First few columns now: {df_merged_clean.columns.tolist()[:5]}\") # Optional: view first few cols\n",
        "else:\n",
        "    print(f\"Warning: Merge key '{merge_key}' not found in columns. Cannot reorder.\")\n"
      ],
      "metadata": {
        "colab": {
          "base_uri": "https://localhost:8080/"
        },
        "id": "Rnza5uaS6t_8",
        "outputId": "b9b8d324-ae74-4c72-fbe6-c41fa256360d"
      },
      "execution_count": null,
      "outputs": [
        {
          "output_type": "stream",
          "name": "stdout",
          "text": [
            "\n",
            "Reordering columns to place 'project_id_merged' first...\n",
            "Columns reordered successfully.\n"
          ]
        }
      ]
    },
    {
      "cell_type": "code",
      "source": [
        "export_filename = 'wbg_merged_cleaned_for_analysis.csv'\n",
        "try:\n",
        "    # Export the DataFrame with the new column order\n",
        "    df_merged_clean.to_csv(export_filename, index=False) # index=False prevents writing row numbers as a column\n",
        "    print(f\"\\nSuccessfully exported cleaned and merged data (with '{merge_key}' as first column) to: {export_filename}\")\n",
        "    print(f\"Final shape of exported data: {df_merged_clean.shape}\")\n",
        "except Exception as e:\n",
        "    print(f\"\\nError exporting data to CSV: {e}\")\n",
        "\n",
        "print(\"\\n--- Part 1 Complete ---\")"
      ],
      "metadata": {
        "colab": {
          "base_uri": "https://localhost:8080/"
        },
        "id": "Vhvn64pY6EpJ",
        "outputId": "9aecfece-c380-44cf-97f5-d0b9ed8e9cef"
      },
      "execution_count": null,
      "outputs": [
        {
          "output_type": "stream",
          "name": "stdout",
          "text": [
            "\n",
            "Successfully exported cleaned and merged data (with 'project_id_merged' as first column) to: wbg_merged_cleaned_for_analysis.csv\n",
            "Final shape of exported data: (6163, 14)\n",
            "\n",
            "--- Part 1 Complete ---\n"
          ]
        }
      ]
    },
    {
      "cell_type": "code",
      "source": [
        "from google.colab import drive\n",
        "drive.mount('/content/drive')"
      ],
      "metadata": {
        "id": "8-UlKhPI6UpY"
      },
      "execution_count": null,
      "outputs": []
    }
  ]
}