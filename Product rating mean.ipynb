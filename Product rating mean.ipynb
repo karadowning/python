{
 "cells": [
  {
   "cell_type": "code",
   "execution_count": 4,
   "id": "4754523a",
   "metadata": {},
   "outputs": [
    {
     "name": "stdout",
     "output_type": "stream",
     "text": [
      "The mean of the values is: 72.5\n"
     ]
    }
   ],
   "source": [
    "import math\n",
    "def calculate_mean(values):\n",
    "    \"\"\"calculate the mean of values \n",
    "    \n",
    "    Args: looking at product trial rating\n",
    "    \n",
    "    Return: \n",
    "    the mean of the values\"\"\"\n",
    "    \n",
    "    total=sum(values)\n",
    "    count=len(values)\n",
    "    mean=total/count\n",
    "    return mean\n",
    "\n",
    "# Create a list of values from the table\n",
    "values = [84, 80, 71, 65, 64, 62, 84, 73, 71, 71]\n",
    "\n",
    "# Calculate the mean using the function\n",
    "mean = calculate_mean(values)\n",
    "\n",
    "print(\"The mean of the values is:\", mean)"
   ]
  }
 ],
 "metadata": {
  "kernelspec": {
   "display_name": "Python 3 (ipykernel)",
   "language": "python",
   "name": "python3"
  },
  "language_info": {
   "codemirror_mode": {
    "name": "ipython",
    "version": 3
   },
   "file_extension": ".py",
   "mimetype": "text/x-python",
   "name": "python",
   "nbconvert_exporter": "python",
   "pygments_lexer": "ipython3",
   "version": "3.12.4"
  }
 },
 "nbformat": 4,
 "nbformat_minor": 5
}
