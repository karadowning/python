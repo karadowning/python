{
 "cells": [
  {
   "cell_type": "code",
   "execution_count": 1,
   "id": "5e1a0385",
   "metadata": {},
   "outputs": [
    {
     "name": "stdout",
     "output_type": "stream",
     "text": [
      "Hello and welcome to MSc Business Analytics!\n"
     ]
    }
   ],
   "source": [
    "print(\"Hello and welcome to MSc Business Analytics!\")"
   ]
  },
  {
   "cell_type": "code",
   "execution_count": 2,
   "id": "1896d808",
   "metadata": {},
   "outputs": [
    {
     "name": "stdout",
     "output_type": "stream",
     "text": [
      "3.14\n"
     ]
    }
   ],
   "source": [
    "# Print the constant number 3.14\n",
    "print(3.14)"
   ]
  },
  {
   "cell_type": "code",
   "execution_count": 3,
   "id": "cca89c4d",
   "metadata": {},
   "outputs": [
    {
     "name": "stdout",
     "output_type": "stream",
     "text": [
      "Hello\n"
     ]
    }
   ],
   "source": [
    "# Print the constant string \"Hello\"\n",
    "print('Hello')"
   ]
  },
  {
   "cell_type": "code",
   "execution_count": 4,
   "id": "f0bbfc97",
   "metadata": {},
   "outputs": [
    {
     "name": "stdout",
     "output_type": "stream",
     "text": [
      "True\n"
     ]
    }
   ],
   "source": [
    "# Print the constant boolean True. Notice the automatic colors?\n",
    "print(True)"
   ]
  },
  {
   "cell_type": "code",
   "execution_count": 6,
   "id": "4949e861",
   "metadata": {},
   "outputs": [
    {
     "name": "stdout",
     "output_type": "stream",
     "text": [
      "hi\n"
     ]
    }
   ],
   "source": [
    "print('hi')   "
   ]
  },
  {
   "cell_type": "code",
   "execution_count": 7,
   "id": "0543ab10",
   "metadata": {},
   "outputs": [
    {
     "name": "stdout",
     "output_type": "stream",
     "text": [
      "Hello Alex\n",
      "Hello Alex\n",
      "Hello Alex\n"
     ]
    }
   ],
   "source": [
    "message_string = \"Hello Alex\"\n",
    "print(message_string)\n",
    "print(message_string)\n",
    "print(message_string)\n"
   ]
  },
  {
   "cell_type": "code",
   "execution_count": 8,
   "id": "37bb367d",
   "metadata": {},
   "outputs": [
    {
     "name": "stdout",
     "output_type": "stream",
     "text": [
      "Hi there\n",
      "bye bye\n"
     ]
    }
   ],
   "source": [
    "# Greeting\n",
    "message_string = \"Hi there\"\n",
    "print(message_string)\n",
    "\n",
    "# Farewell\n",
    "message_string = \"bye bye\"\n",
    "print(message_string)"
   ]
  },
  {
   "cell_type": "code",
   "execution_count": 9,
   "id": "28deffa6",
   "metadata": {},
   "outputs": [
    {
     "name": "stdout",
     "output_type": "stream",
     "text": [
      "Breakfast:\n",
      "bacon and eggs\n"
     ]
    }
   ],
   "source": [
    "# We've defined the variable \"meal\" here to the name of the food we ate for breakfast!\n",
    "meal = \"bacon and eggs\"\n",
    "\n",
    "# Printing out breakfast\n",
    "print(\"Breakfast:\")\n",
    "print(meal)"
   ]
  },
  {
   "cell_type": "code",
   "execution_count": 10,
   "id": "da361c32",
   "metadata": {},
   "outputs": [
    {
     "name": "stdout",
     "output_type": "stream",
     "text": [
      "Lunch:\n",
      "turkey sandwich\n",
      "Dinner:\n",
      "pasta\n"
     ]
    }
   ],
   "source": [
    "# Now update meal to be lunch!\n",
    "meal = \"turkey sandwich\"\n",
    "\n",
    "# Printing out lunch\n",
    "print(\"Lunch:\")\n",
    "print(meal)\n",
    "\n",
    "#Now update \"meal\" to be dinner\n",
    "meal = \"pasta\"\n",
    "\n",
    "# Printing out dinner\n",
    "print(\"Dinner:\")\n",
    "print(meal)\n"
   ]
  },
  {
   "cell_type": "code",
   "execution_count": 12,
   "id": "6ea94a1c",
   "metadata": {},
   "outputs": [],
   "source": [
    "# Assign the constant value 3.14 to variable 'a'\n",
    "a = 3.14   "
   ]
  },
  {
   "cell_type": "code",
   "execution_count": 13,
   "id": "b233fe0c",
   "metadata": {},
   "outputs": [
    {
     "name": "stdout",
     "output_type": "stream",
     "text": [
      "3.14\n"
     ]
    }
   ],
   "source": [
    "# Display the value of the variable 'a'\n",
    "# Note that the variabel exists everywhere after assigning\n",
    "print(a)"
   ]
  },
  {
   "cell_type": "code",
   "execution_count": null,
   "id": "d342a1c8",
   "metadata": {},
   "outputs": [],
   "source": []
  }
 ],
 "metadata": {
  "kernelspec": {
   "display_name": "Python 3 (ipykernel)",
   "language": "python",
   "name": "python3"
  },
  "language_info": {
   "codemirror_mode": {
    "name": "ipython",
    "version": 3
   },
   "file_extension": ".py",
   "mimetype": "text/x-python",
   "name": "python",
   "nbconvert_exporter": "python",
   "pygments_lexer": "ipython3",
   "version": "3.12.4"
  },
  "widgets": {
   "application/vnd.jupyter.widget-state+json": {
    "state": {},
    "version_major": 2,
    "version_minor": 0
   }
  }
 },
 "nbformat": 4,
 "nbformat_minor": 5
}
