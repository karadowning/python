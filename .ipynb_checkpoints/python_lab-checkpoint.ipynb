{
 "cells": [
  {
   "cell_type": "code",
   "execution_count": 1,
   "id": "839454a6",
   "metadata": {},
   "outputs": [
    {
     "name": "stdout",
     "output_type": "stream",
     "text": [
      "Hello and welcome to MSc Business Analytics!\n"
     ]
    }
   ],
   "source": [
    "print(\"Hello and welcome to MSc Business Analytics!\")"
   ]
  },
  {
   "cell_type": "code",
   "execution_count": 2,
   "id": "3b793276",
   "metadata": {},
   "outputs": [
    {
     "name": "stdout",
     "output_type": "stream",
     "text": [
      "3.14\n"
     ]
    }
   ],
   "source": [
    "# Print the constant number 3.14\n",
    "print(3.14)"
   ]
  },
  {
   "cell_type": "code",
   "execution_count": 3,
   "id": "b11bda21",
   "metadata": {},
   "outputs": [
    {
     "name": "stdout",
     "output_type": "stream",
     "text": [
      "Hello\n"
     ]
    }
   ],
   "source": [
    "# Print the constant string \"Hello\"\n",
    "print('Hello')"
   ]
  },
  {
   "cell_type": "code",
   "execution_count": 4,
   "id": "96acb2ad",
   "metadata": {},
   "outputs": [
    {
     "name": "stdout",
     "output_type": "stream",
     "text": [
      "True\n"
     ]
    }
   ],
   "source": [
    "# Print the constant boolean True. Notice the automatic colors?\n",
    "print(True)"
   ]
  },
  {
   "cell_type": "code",
   "execution_count": 6,
   "id": "ea0cb8a1",
   "metadata": {},
   "outputs": [
    {
     "name": "stdout",
     "output_type": "stream",
     "text": [
      "hi\n"
     ]
    }
   ],
   "source": [
    "print('hi')   "
   ]
  },
  {
   "cell_type": "code",
   "execution_count": 7,
   "id": "9ee81d09",
   "metadata": {},
   "outputs": [
    {
     "name": "stdout",
     "output_type": "stream",
     "text": [
      "Hello Alex\n",
      "Hello Alex\n",
      "Hello Alex\n"
     ]
    }
   ],
   "source": [
    "message_string = \"Hello Alex\"\n",
    "print(message_string)\n",
    "print(message_string)\n",
    "print(message_string)\n"
   ]
  },
  {
   "cell_type": "code",
   "execution_count": 8,
   "id": "72a5683d",
   "metadata": {},
   "outputs": [
    {
     "name": "stdout",
     "output_type": "stream",
     "text": [
      "Hi there\n",
      "bye bye\n"
     ]
    }
   ],
   "source": [
    "# Greeting\n",
    "message_string = \"Hi there\"\n",
    "print(message_string)\n",
    "\n",
    "# Farewell\n",
    "message_string = \"bye bye\"\n",
    "print(message_string)"
   ]
  },
  {
   "cell_type": "code",
   "execution_count": 9,
   "id": "72c63dd0",
   "metadata": {},
   "outputs": [
    {
     "name": "stdout",
     "output_type": "stream",
     "text": [
      "Breakfast:\n",
      "bacon and eggs\n"
     ]
    }
   ],
   "source": [
    "# We've defined the variable \"meal\" here to the name of the food we ate for breakfast!\n",
    "meal = \"bacon and eggs\"\n",
    "\n",
    "# Printing out breakfast\n",
    "print(\"Breakfast:\")\n",
    "print(meal)"
   ]
  },
  {
   "cell_type": "code",
   "execution_count": 10,
   "id": "2d358c0f",
   "metadata": {},
   "outputs": [
    {
     "name": "stdout",
     "output_type": "stream",
     "text": [
      "Lunch:\n",
      "turkey sandwich\n",
      "Dinner:\n",
      "pasta\n"
     ]
    }
   ],
   "source": [
    "# Now update meal to be lunch!\n",
    "meal = \"turkey sandwich\"\n",
    "\n",
    "# Printing out lunch\n",
    "print(\"Lunch:\")\n",
    "print(meal)\n",
    "\n",
    "#Now update \"meal\" to be dinner\n",
    "meal = \"pasta\"\n",
    "\n",
    "# Printing out dinner\n",
    "print(\"Dinner:\")\n",
    "print(meal)\n"
   ]
  },
  {
   "cell_type": "code",
   "execution_count": 12,
   "id": "a4574af4",
   "metadata": {},
   "outputs": [],
   "source": [
    "# Assign the constant value 3.14 to variable 'a'\n",
    "a = 3.14   "
   ]
  },
  {
   "cell_type": "code",
   "execution_count": 13,
   "id": "261153c1",
   "metadata": {},
   "outputs": [
    {
     "name": "stdout",
     "output_type": "stream",
     "text": [
      "3.14\n"
     ]
    }
   ],
   "source": [
    "# Display the value of the variable 'a'\n",
    "# Note that the variabel exists everywhere after assigning\n",
    "print(a)"
   ]
  },
  {
   "cell_type": "code",
   "execution_count": 14,
   "id": "aaaa3c3f",
   "metadata": {},
   "outputs": [],
   "source": [
    "# Assing the constant value \"Hello\" to variable 'b'\n",
    "c = 3\n",
    "d = 4"
   ]
  },
  {
   "cell_type": "code",
   "execution_count": 16,
   "id": "760e8d5e",
   "metadata": {},
   "outputs": [
    {
     "name": "stdout",
     "output_type": "stream",
     "text": [
      "3 4 5 MSc BA\n"
     ]
    }
   ],
   "source": [
    "# Do the same thing as above, but use exactly 1 line (hint: use comma)\n",
    "c,d,e,f = 3,\"4\",5,\"MSc BA\"\n",
    "print(c,d,e,f)"
   ]
  },
  {
   "cell_type": "code",
   "execution_count": 17,
   "id": "f3c0de26",
   "metadata": {},
   "outputs": [],
   "source": [
    "# Create a new variable name 'cat_fur' and assign it with the value 'black'\n",
    "cat_fur = \"black\""
   ]
  },
  {
   "cell_type": "code",
   "execution_count": 18,
   "id": "552ac546",
   "metadata": {},
   "outputs": [
    {
     "name": "stdout",
     "output_type": "stream",
     "text": [
      "white\n"
     ]
    }
   ],
   "source": [
    "# Variable name is case sensitive\n",
    "CAT_fur = \"white\"\n",
    "print(CAT_fur)"
   ]
  },
  {
   "cell_type": "code",
   "execution_count": 19,
   "id": "dac191f2",
   "metadata": {},
   "outputs": [
    {
     "data": {
      "text/plain": [
       "3"
      ]
     },
     "execution_count": 19,
     "metadata": {},
     "output_type": "execute_result"
    }
   ],
   "source": [
    "# Reassigning an existing variable (try to guess before running this cell)\n",
    "a = 1\n",
    "a = 2 \n",
    "a = 3\n",
    "a"
   ]
  },
  {
   "cell_type": "code",
   "execution_count": 20,
   "id": "f3d4f5f3",
   "metadata": {},
   "outputs": [
    {
     "data": {
      "text/plain": [
       "bool"
      ]
     },
     "execution_count": 20,
     "metadata": {},
     "output_type": "execute_result"
    }
   ],
   "source": [
    "a = True\n",
    "type(a)"
   ]
  },
  {
   "cell_type": "code",
   "execution_count": 21,
   "id": "27045f64",
   "metadata": {},
   "outputs": [
    {
     "data": {
      "text/plain": [
       "bool"
      ]
     },
     "execution_count": 21,
     "metadata": {},
     "output_type": "execute_result"
    }
   ],
   "source": [
    "type(False)"
   ]
  },
  {
   "cell_type": "code",
   "execution_count": 22,
   "id": "a13575af",
   "metadata": {},
   "outputs": [
    {
     "name": "stdout",
     "output_type": "stream",
     "text": [
      "False\n"
     ]
    },
    {
     "data": {
      "text/plain": [
       "bool"
      ]
     },
     "execution_count": 22,
     "metadata": {},
     "output_type": "execute_result"
    }
   ],
   "source": [
    "a = 1 > 100\n",
    "print(a)\n",
    "type(a)"
   ]
  },
  {
   "cell_type": "code",
   "execution_count": 23,
   "id": "7e956693",
   "metadata": {},
   "outputs": [
    {
     "name": "stdout",
     "output_type": "stream",
     "text": [
      "True False False\n"
     ]
    }
   ],
   "source": [
    "# Compare a and b. Notice the order of operation.\n",
    "a = 10\n",
    "b = 11\n",
    "\n",
    "c = a <= b\n",
    "d = a > b\n",
    "e = a ==b \n",
    "print(c, d, e)"
   ]
  },
  {
   "cell_type": "code",
   "execution_count": 24,
   "id": "1f6da805",
   "metadata": {},
   "outputs": [
    {
     "name": "stdout",
     "output_type": "stream",
     "text": [
      "False\n",
      "11\n"
     ]
    }
   ],
   "source": [
    "# == compares 2 values; = assigns new value to variable\n",
    "print(a==b)\n",
    "\n",
    "a = b\n",
    "print(a)"
   ]
  },
  {
   "cell_type": "code",
   "execution_count": 25,
   "id": "04da4cfb",
   "metadata": {},
   "outputs": [
    {
     "name": "stdout",
     "output_type": "stream",
     "text": [
      "True\n",
      "False\n"
     ]
    }
   ],
   "source": [
    "# Boolean assignment\n",
    "c = a<=b\n",
    "d = (a>b)\n",
    "\n",
    "print(c)\n",
    "print(d)"
   ]
  },
  {
   "cell_type": "code",
   "execution_count": 26,
   "id": "1190b497",
   "metadata": {},
   "outputs": [
    {
     "name": "stdout",
     "output_type": "stream",
     "text": [
      "False\n"
     ]
    }
   ],
   "source": [
    "# Inverting boolean using \"not\"\n",
    "a = True\n",
    "print(not(a))"
   ]
  },
  {
   "cell_type": "code",
   "execution_count": 27,
   "id": "fb3b6d86",
   "metadata": {},
   "outputs": [
    {
     "name": "stdout",
     "output_type": "stream",
     "text": [
      "False\n",
      "True\n"
     ]
    }
   ],
   "source": [
    "# Combine booleans\n",
    "a = True\n",
    "b = False\n",
    "\n",
    "print (a and b)\n",
    "print (a or b)"
   ]
  },
  {
   "cell_type": "code",
   "execution_count": 28,
   "id": "2d0d9178",
   "metadata": {},
   "outputs": [
    {
     "name": "stdout",
     "output_type": "stream",
     "text": [
      "False\n",
      "True\n"
     ]
    }
   ],
   "source": [
    "# Chaining booleans to create a dependent condition\n",
    "a = True\n",
    "b = True\n",
    "c = True\n",
    "d = False \n",
    "e = True\n",
    "\n",
    "print(a and b and c and d and e)\n",
    "print(a or b or c or d or e)"
   ]
  },
  {
   "cell_type": "code",
   "execution_count": 29,
   "id": "cab157bb",
   "metadata": {},
   "outputs": [
    {
     "name": "stdout",
     "output_type": "stream",
     "text": [
      "False\n"
     ]
    }
   ],
   "source": [
    "# Order of evaluation\n",
    "a = True\n",
    "b = True\n",
    "c = False\n",
    "\n",
    "# print(a or b or c) # not recommended\n",
    "print((a or b) and c)"
   ]
  },
  {
   "cell_type": "code",
   "execution_count": 30,
   "id": "1fa098a9",
   "metadata": {},
   "outputs": [
    {
     "data": {
      "text/plain": [
       "int"
      ]
     },
     "execution_count": 30,
     "metadata": {},
     "output_type": "execute_result"
    }
   ],
   "source": [
    "type(0) # Integer"
   ]
  },
  {
   "cell_type": "code",
   "execution_count": 31,
   "id": "23f3cbe0",
   "metadata": {},
   "outputs": [
    {
     "data": {
      "text/plain": [
       "float"
      ]
     },
     "execution_count": 31,
     "metadata": {},
     "output_type": "execute_result"
    }
   ],
   "source": [
    "type(3.14) # Float"
   ]
  },
  {
   "cell_type": "code",
   "execution_count": 32,
   "id": "172678bb",
   "metadata": {},
   "outputs": [
    {
     "data": {
      "text/plain": [
       "complex"
      ]
     },
     "execution_count": 32,
     "metadata": {},
     "output_type": "execute_result"
    }
   ],
   "source": [
    "type(1+2j) # Complex"
   ]
  },
  {
   "cell_type": "code",
   "execution_count": 33,
   "id": "0d877e64",
   "metadata": {},
   "outputs": [
    {
     "name": "stdout",
     "output_type": "stream",
     "text": [
      "3 <class 'int'>\n",
      "3.0 <class 'float'>\n"
     ]
    }
   ],
   "source": [
    "# Convert int to float\n",
    "a = 3\n",
    "print(a, type(a))\n",
    "\n",
    "a = float(a) #type casting\n",
    "print(a,type(a))"
   ]
  },
  {
   "cell_type": "code",
   "execution_count": 34,
   "id": "337dc893",
   "metadata": {},
   "outputs": [
    {
     "name": "stdout",
     "output_type": "stream",
     "text": [
      "1.79 <class 'float'>\n",
      "0 <class 'int'>\n"
     ]
    }
   ],
   "source": [
    "# Rounding floats to nearest integer\n",
    "\n",
    "c = 1.789\n",
    "c = round(c,2)\n",
    "print(c, type(c))\n",
    "\n",
    "d = 0.2\n",
    "d = round(d)\n",
    "print(d,type(d))"
   ]
  },
  {
   "cell_type": "code",
   "execution_count": 35,
   "id": "310fb559",
   "metadata": {},
   "outputs": [
    {
     "name": "stdout",
     "output_type": "stream",
     "text": [
      "hello world!\n",
      "Hello World!\n",
      "He\"ll\"o 'W'orld\n"
     ]
    }
   ],
   "source": [
    "# Print a string\n",
    "print(\"hello world!\")\n",
    "print(\"Hello World!\")\n",
    "\n",
    "print('''He\"ll\"o 'W'orld''')"
   ]
  },
  {
   "cell_type": "code",
   "execution_count": 36,
   "id": "98fa28f9",
   "metadata": {},
   "outputs": [],
   "source": [
    "# Multi-line strings\n",
    "lyric = \"\"\"Hello darkness my old friend\n",
    "I've come to talk with you again\n",
    "\"\"\""
   ]
  },
  {
   "cell_type": "code",
   "execution_count": 37,
   "id": "1ba82240",
   "metadata": {},
   "outputs": [
    {
     "data": {
      "text/plain": [
       "str"
      ]
     },
     "execution_count": 37,
     "metadata": {},
     "output_type": "execute_result"
    }
   ],
   "source": [
    "# Check type of a string\n",
    "type(lyric)"
   ]
  },
  {
   "cell_type": "code",
   "execution_count": 38,
   "id": "0b140d90",
   "metadata": {},
   "outputs": [
    {
     "data": {
      "text/plain": [
       "'MSc BA'"
      ]
     },
     "execution_count": 38,
     "metadata": {},
     "output_type": "execute_result"
    }
   ],
   "source": [
    "# Assign a new value to text\n",
    "text = 'MSc BA'\n",
    "text"
   ]
  },
  {
   "cell_type": "code",
   "execution_count": 40,
   "id": "f89f9a15",
   "metadata": {},
   "outputs": [
    {
     "data": {
      "text/plain": [
       "'MSc BA'"
      ]
     },
     "execution_count": 40,
     "metadata": {},
     "output_type": "execute_result"
    }
   ],
   "source": [
    "# Concatenate two strings\n",
    "text = 'MSc ' + 'BA'\n",
    "text"
   ]
  },
  {
   "cell_type": "code",
   "execution_count": 42,
   "id": "5bef67f7",
   "metadata": {},
   "outputs": [
    {
     "name": "stdout",
     "output_type": "stream",
     "text": [
      "I am 10 years old today!\n",
      "I am  10  years old today!\n"
     ]
    }
   ],
   "source": [
    "birthday_string = \"I am \"\n",
    "age = 10\n",
    "birthday_string_2 = \" years old today!\"\n",
    "\n",
    "# Concatenating an integer with strings is possible if we turn the integer into a string first\n",
    "full_birthday_string = birthday_string + str(age) + birthday_string_2\n",
    "\n",
    "# Prints \"I am 10 years old today!\"\n",
    "print(full_birthday_string)\n",
    "\n",
    "# If we just want to print an integer\n",
    "# we can pass a variable as an argument to\n",
    "# print() regardless of whether\n",
    "# it is a string.\n",
    "\n",
    "# This also prints \"I am 10 years old today!\"\n",
    "print(birthday_string, age, birthday_string_2)"
   ]
  },
  {
   "cell_type": "code",
   "execution_count": 43,
   "id": "479d15cd",
   "metadata": {},
   "outputs": [
    {
     "name": "stdout",
     "output_type": "stream",
     "text": [
      "6.0\n",
      "1.5\n",
      "4\n",
      "8.0\n",
      "2.0\n",
      "4\n"
     ]
    }
   ],
   "source": [
    "coffee_price = 1.50\n",
    "number_of_coffees = 4\n",
    "\n",
    "print(coffee_price * number_of_coffees)\n",
    "print(coffee_price)\n",
    "print(number_of_coffees)\n",
    "\n",
    "# Updating the price\n",
    "coffee_price = 2.00\n",
    "\n",
    "print(coffee_price * number_of_coffees)\n",
    "print(coffee_price)\n",
    "print(number_of_coffees)"
   ]
  },
  {
   "cell_type": "code",
   "execution_count": 44,
   "id": "bcd7039e",
   "metadata": {},
   "outputs": [
    {
     "name": "stdout",
     "output_type": "stream",
     "text": [
      "2 1\n"
     ]
    }
   ],
   "source": [
    "a = 1\n",
    "b = 2\n",
    "\n",
    "a, b = b, a\n",
    "\n",
    "print(a,b)"
   ]
  },
  {
   "cell_type": "code",
   "execution_count": 45,
   "id": "defd05b1",
   "metadata": {},
   "outputs": [
    {
     "name": "stdout",
     "output_type": "stream",
     "text": [
      "12\n"
     ]
    }
   ],
   "source": [
    "# First we have a variable with a number saved\n",
    "running_distance = 10\n",
    "\n",
    "# Then we need to update that variable\n",
    "# Let's say we run another 2 km today\n",
    "running_distance = running_distance + 2\n",
    "\n",
    "print(running_distance)"
   ]
  },
  {
   "cell_type": "code",
   "execution_count": 46,
   "id": "a09448b5",
   "metadata": {},
   "outputs": [],
   "source": [
    "a = a + b\n",
    "a += b"
   ]
  },
  {
   "cell_type": "code",
   "execution_count": 47,
   "id": "c1033ab7",
   "metadata": {},
   "outputs": [
    {
     "name": "stdout",
     "output_type": "stream",
     "text": [
      "12\n"
     ]
    }
   ],
   "source": [
    "running_distance = 10\n",
    "\n",
    "running_distance += 2\n",
    "\n",
    "print(running_distance)"
   ]
  },
  {
   "cell_type": "code",
   "execution_count": 48,
   "id": "84a4fe06",
   "metadata": {},
   "outputs": [
    {
     "data": {
      "text/plain": [
       "'What an amazing time to walk through nature! #weekend #relax'"
      ]
     },
     "execution_count": 48,
     "metadata": {},
     "output_type": "execute_result"
    }
   ],
   "source": [
    "photo_caption = \"What an amazing time to walk through nature!\"\n",
    "\n",
    "# Add the hashtags!\n",
    "photo_caption += \" #weekend\"\n",
    "photo_caption += \" #relax\"\n",
    "photo_caption"
   ]
  },
  {
   "cell_type": "code",
   "execution_count": 49,
   "id": "b975f19f",
   "metadata": {},
   "outputs": [
    {
     "name": "stdout",
     "output_type": "stream",
     "text": [
      "The total price is 109.0\n"
     ]
    }
   ],
   "source": [
    "total_price = 0\n",
    "\n",
    "new_shoes = 50.00\n",
    "total_price += new_shoes\n",
    "\n",
    "nice_shirt = 39.00\n",
    "fun_book = 20.00\n",
    "\n",
    "# Update total_price here:\n",
    "total_price+= nice_shirt\n",
    "total_price+= fun_book\n",
    "\n",
    "print(\"The total price is\", total_price)"
   ]
  },
  {
   "cell_type": "code",
   "execution_count": 50,
   "id": "7c3427fb",
   "metadata": {},
   "outputs": [
    {
     "name": "stdout",
     "output_type": "stream",
     "text": [
      "500\n",
      "50\n",
      "2.0\n"
     ]
    }
   ],
   "source": [
    "# Prints \"500\"\n",
    "print(573 - 74 + 1)\n",
    "\n",
    "# Prints \"50\"\n",
    "print(25 * 2)\n",
    "\n",
    "# Prints \"2.0\"\n",
    "print(10 / 5)"
   ]
  },
  {
   "cell_type": "code",
   "execution_count": 51,
   "id": "408816bc",
   "metadata": {},
   "outputs": [
    {
     "ename": "ZeroDivisionError",
     "evalue": "division by zero",
     "output_type": "error",
     "traceback": [
      "\u001b[0;31m---------------------------------------------------------------------------\u001b[0m",
      "\u001b[0;31mZeroDivisionError\u001b[0m                         Traceback (most recent call last)",
      "Cell \u001b[0;32mIn[51], line 1\u001b[0m\n\u001b[0;32m----> 1\u001b[0m \u001b[38;5;28mprint\u001b[39m(\u001b[38;5;241m10\u001b[39m \u001b[38;5;241m/\u001b[39m \u001b[38;5;241m0\u001b[39m)\n",
      "\u001b[0;31mZeroDivisionError\u001b[0m: division by zero"
     ]
    }
   ],
   "source": [
    "print(10 / 0)"
   ]
  },
  {
   "cell_type": "code",
   "execution_count": 52,
   "id": "58935b6f",
   "metadata": {},
   "outputs": [],
   "source": [
    "# Assign the value 5 to the variable named score\n",
    "score = 5"
   ]
  },
  {
   "cell_type": "code",
   "execution_count": 53,
   "id": "9e2a381b",
   "metadata": {},
   "outputs": [
    {
     "name": "stdout",
     "output_type": "stream",
     "text": [
      "6\n",
      "3\n",
      "24\n",
      "6.0 <class 'float'>\n"
     ]
    }
   ],
   "source": [
    "# Increase score by 1\n",
    "score += 1\n",
    "print(score)\n",
    "\n",
    "# Decrease score by 3\n",
    "score -= 3\n",
    "print(score)\n",
    "\n",
    "# Multiply score by 8\n",
    "score *= 8\n",
    "print(score)\n",
    "\n",
    "# Divide score by 4 (note the implicit type casting)\n",
    "score /= 4\n",
    "print(score, type(score))"
   ]
  },
  {
   "cell_type": "code",
   "execution_count": 54,
   "id": "8199e935",
   "metadata": {},
   "outputs": [
    {
     "name": "stdout",
     "output_type": "stream",
     "text": [
      "8\n",
      "7\n",
      "1\n",
      "2\n"
     ]
    }
   ],
   "source": [
    "# Some other common operations between numbers\n",
    "\n",
    "# Power (**)\n",
    "print(2**3)\n",
    "\n",
    "# Floor division (//)\n",
    "print(15//2)\n",
    "\n",
    "# Modulo (%)\n",
    "print(15%2)\n",
    "\n",
    "# Absolute value (abs())\n",
    "print(abs(5-7))"
   ]
  },
  {
   "cell_type": "code",
   "execution_count": 55,
   "id": "f2230929",
   "metadata": {},
   "outputs": [
    {
     "name": "stdout",
     "output_type": "stream",
     "text": [
      "no. of cards:  2\n"
     ]
    }
   ],
   "source": [
    "no_cards = 10\n",
    "no_players = 4\n",
    "\n",
    "# YOUR CODE HERE\n",
    "print (\"no. of cards: \", no_cards % no_players)"
   ]
  },
  {
   "cell_type": "code",
   "execution_count": 56,
   "id": "41d8f97b",
   "metadata": {},
   "outputs": [
    {
     "name": "stdout",
     "output_type": "stream",
     "text": [
      "False\n"
     ]
    }
   ],
   "source": [
    "x = 10\n",
    "print(x%2 != 0)"
   ]
  },
  {
   "cell_type": "code",
   "execution_count": 57,
   "id": "8e5d7a04",
   "metadata": {},
   "outputs": [
    {
     "data": {
      "text/plain": [
       "3"
      ]
     },
     "execution_count": 57,
     "metadata": {},
     "output_type": "execute_result"
    }
   ],
   "source": [
    "# YOUR CODE HERE\n",
    "a = 3\n",
    "\n",
    "# 1 2 0\n",
    "# a%3\n",
    "\n",
    "# 0 1 2 => 1 2 3\n",
    "(a+2)%3 + 1"
   ]
  },
  {
   "cell_type": "code",
   "execution_count": 58,
   "id": "6f41ac92",
   "metadata": {},
   "outputs": [
    {
     "name": "stdout",
     "output_type": "stream",
     "text": [
      "Team: 3\n"
     ]
    }
   ],
   "source": [
    "x = 15\n",
    "print('Team:', x - 3*((x-1)//3))"
   ]
  },
  {
   "cell_type": "code",
   "execution_count": null,
   "id": "2e4453a0",
   "metadata": {},
   "outputs": [],
   "source": [
    "# YOUR CODE HERE\n",
    "xyz = int(input('Number: '))\n",
    "\n",
    "x = xyz // 100\n",
    "y = (xyz - x*100) // 10\n",
    "z = xyz % 10\n",
    "\n",
    "print(x + y + z)"
   ]
  },
  {
   "cell_type": "code",
   "execution_count": null,
   "id": "c66adccd",
   "metadata": {},
   "outputs": [],
   "source": [
    "# Display an expression\n",
    "a = 1\n",
    "b = 2\n",
    "\n",
    "print(a)\n",
    "print(b)"
   ]
  },
  {
   "cell_type": "code",
   "execution_count": null,
   "id": "71ba1725",
   "metadata": {},
   "outputs": [],
   "source": [
    "number_of_students = 30\n",
    "place = 'my class'\n",
    "\n",
    "# Option 1\n",
    "print('There are', number_of_students, 'students in', place)\n",
    "\n",
    "# Option 2\n",
    "print(f'There are {number_of_students} students in {place}')"
   ]
  },
  {
   "cell_type": "code",
   "execution_count": null,
   "id": "40830a54",
   "metadata": {},
   "outputs": [],
   "source": [
    "pi = 3.1415926535897\n",
    "\n",
    "print(f'The result is {pi:.3f}')"
   ]
  },
  {
   "cell_type": "code",
   "execution_count": null,
   "id": "b5dc7d66",
   "metadata": {},
   "outputs": [],
   "source": [
    "name = input(\"What's your name? \")        # input() by default returns a string\n",
    "print(name, type(name))\n",
    "\n",
    "age = int(input(\"How old are you? \"))     # Convert an input string into integer\n",
    "print(age, type(age))"
   ]
  },
  {
   "cell_type": "code",
   "execution_count": null,
   "id": "ce3ac3eb",
   "metadata": {},
   "outputs": [],
   "source": [
    "favorite_fruit = input(\"What is your favorite fruit? \")"
   ]
  },
  {
   "cell_type": "code",
   "execution_count": null,
   "id": "dc7f5df0",
   "metadata": {},
   "outputs": [],
   "source": [
    "print(\"Oh cool! I like \" + favorite_fruit + \" too, but I think my favorite fruit is apple.\")"
   ]
  },
  {
   "cell_type": "code",
   "execution_count": null,
   "id": "a0289252",
   "metadata": {},
   "outputs": [],
   "source": [
    "# YOUR CODE HERE\n",
    "num1 = int(input())\n",
    "num2 = int(input())\n",
    "num3 = int(input())\n",
    "print(\"The sum of three numbers is\", num1+num2+num3)"
   ]
  }
 ],
 "metadata": {
  "kernelspec": {
   "display_name": "Python 3 (ipykernel)",
   "language": "python",
   "name": "python3"
  },
  "language_info": {
   "codemirror_mode": {
    "name": "ipython",
    "version": 3
   },
   "file_extension": ".py",
   "mimetype": "text/x-python",
   "name": "python",
   "nbconvert_exporter": "python",
   "pygments_lexer": "ipython3",
   "version": "3.12.4"
  },
  "widgets": {
   "application/vnd.jupyter.widget-state+json": {
    "state": {},
    "version_major": 2,
    "version_minor": 0
   }
  }
 },
 "nbformat": 4,
 "nbformat_minor": 5
}
