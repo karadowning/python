{
  "nbformat": 4,
  "nbformat_minor": 0,
  "metadata": {
    "colab": {
      "provenance": [],
      "authorship_tag": "ABX9TyOZtrrd/C8LwNKJp/LjEBU2"
    },
    "kernelspec": {
      "name": "python3",
      "display_name": "Python 3"
    },
    "language_info": {
      "name": "python"
    }
  },
  "cells": [
    {
      "cell_type": "code",
      "source": [
        "%pip install gensim\n",
        "%pip install pandas\n",
        "%pip install scikit-learn\n",
        "%pip install textblob\n",
        "%pip isinstall seaborn\n",
        "%pip install statsmodels\n",
        "%pip install matplotlib\n",
        "%pip install nltk"
      ],
      "metadata": {
        "colab": {
          "base_uri": "https://localhost:8080/"
        },
        "collapsed": true,
        "id": "izltEhO-amIE",
        "outputId": "1aaad017-c736-4e76-cbc7-162af0d8eb92"
      },
      "execution_count": null,
      "outputs": [
        {
          "output_type": "stream",
          "name": "stdout",
          "text": [
            "Requirement already satisfied: gensim in /usr/local/lib/python3.11/dist-packages (4.3.3)\n",
            "Requirement already satisfied: numpy<2.0,>=1.18.5 in /usr/local/lib/python3.11/dist-packages (from gensim) (1.26.4)\n",
            "Requirement already satisfied: scipy<1.14.0,>=1.7.0 in /usr/local/lib/python3.11/dist-packages (from gensim) (1.13.1)\n",
            "Requirement already satisfied: smart-open>=1.8.1 in /usr/local/lib/python3.11/dist-packages (from gensim) (7.1.0)\n",
            "Requirement already satisfied: wrapt in /usr/local/lib/python3.11/dist-packages (from smart-open>=1.8.1->gensim) (1.17.2)\n",
            "Requirement already satisfied: pandas in /usr/local/lib/python3.11/dist-packages (2.2.2)\n",
            "Requirement already satisfied: numpy>=1.23.2 in /usr/local/lib/python3.11/dist-packages (from pandas) (1.26.4)\n",
            "Requirement already satisfied: python-dateutil>=2.8.2 in /usr/local/lib/python3.11/dist-packages (from pandas) (2.8.2)\n",
            "Requirement already satisfied: pytz>=2020.1 in /usr/local/lib/python3.11/dist-packages (from pandas) (2025.1)\n",
            "Requirement already satisfied: tzdata>=2022.7 in /usr/local/lib/python3.11/dist-packages (from pandas) (2025.1)\n",
            "Requirement already satisfied: six>=1.5 in /usr/local/lib/python3.11/dist-packages (from python-dateutil>=2.8.2->pandas) (1.17.0)\n",
            "Requirement already satisfied: scikit-learn in /usr/local/lib/python3.11/dist-packages (1.6.1)\n",
            "Requirement already satisfied: numpy>=1.19.5 in /usr/local/lib/python3.11/dist-packages (from scikit-learn) (1.26.4)\n",
            "Requirement already satisfied: scipy>=1.6.0 in /usr/local/lib/python3.11/dist-packages (from scikit-learn) (1.13.1)\n",
            "Requirement already satisfied: joblib>=1.2.0 in /usr/local/lib/python3.11/dist-packages (from scikit-learn) (1.4.2)\n",
            "Requirement already satisfied: threadpoolctl>=3.1.0 in /usr/local/lib/python3.11/dist-packages (from scikit-learn) (3.5.0)\n",
            "Requirement already satisfied: textblob in /usr/local/lib/python3.11/dist-packages (0.19.0)\n",
            "Requirement already satisfied: nltk>=3.9 in /usr/local/lib/python3.11/dist-packages (from textblob) (3.9.1)\n",
            "Requirement already satisfied: click in /usr/local/lib/python3.11/dist-packages (from nltk>=3.9->textblob) (8.1.8)\n",
            "Requirement already satisfied: joblib in /usr/local/lib/python3.11/dist-packages (from nltk>=3.9->textblob) (1.4.2)\n",
            "Requirement already satisfied: regex>=2021.8.3 in /usr/local/lib/python3.11/dist-packages (from nltk>=3.9->textblob) (2024.11.6)\n",
            "Requirement already satisfied: tqdm in /usr/local/lib/python3.11/dist-packages (from nltk>=3.9->textblob) (4.67.1)\n",
            "ERROR: unknown command \"isinstall\" - maybe you meant \"install\"\n",
            "Requirement already satisfied: statsmodels in /usr/local/lib/python3.11/dist-packages (0.14.4)\n",
            "Requirement already satisfied: numpy<3,>=1.22.3 in /usr/local/lib/python3.11/dist-packages (from statsmodels) (1.26.4)\n",
            "Requirement already satisfied: scipy!=1.9.2,>=1.8 in /usr/local/lib/python3.11/dist-packages (from statsmodels) (1.13.1)\n",
            "Requirement already satisfied: pandas!=2.1.0,>=1.4 in /usr/local/lib/python3.11/dist-packages (from statsmodels) (2.2.2)\n",
            "Requirement already satisfied: patsy>=0.5.6 in /usr/local/lib/python3.11/dist-packages (from statsmodels) (1.0.1)\n",
            "Requirement already satisfied: packaging>=21.3 in /usr/local/lib/python3.11/dist-packages (from statsmodels) (24.2)\n",
            "Requirement already satisfied: python-dateutil>=2.8.2 in /usr/local/lib/python3.11/dist-packages (from pandas!=2.1.0,>=1.4->statsmodels) (2.8.2)\n",
            "Requirement already satisfied: pytz>=2020.1 in /usr/local/lib/python3.11/dist-packages (from pandas!=2.1.0,>=1.4->statsmodels) (2025.1)\n",
            "Requirement already satisfied: tzdata>=2022.7 in /usr/local/lib/python3.11/dist-packages (from pandas!=2.1.0,>=1.4->statsmodels) (2025.1)\n",
            "Requirement already satisfied: six>=1.5 in /usr/local/lib/python3.11/dist-packages (from python-dateutil>=2.8.2->pandas!=2.1.0,>=1.4->statsmodels) (1.17.0)\n",
            "Requirement already satisfied: matplotlib in /usr/local/lib/python3.11/dist-packages (3.10.0)\n",
            "Requirement already satisfied: contourpy>=1.0.1 in /usr/local/lib/python3.11/dist-packages (from matplotlib) (1.3.1)\n",
            "Requirement already satisfied: cycler>=0.10 in /usr/local/lib/python3.11/dist-packages (from matplotlib) (0.12.1)\n",
            "Requirement already satisfied: fonttools>=4.22.0 in /usr/local/lib/python3.11/dist-packages (from matplotlib) (4.56.0)\n",
            "Requirement already satisfied: kiwisolver>=1.3.1 in /usr/local/lib/python3.11/dist-packages (from matplotlib) (1.4.8)\n",
            "Requirement already satisfied: numpy>=1.23 in /usr/local/lib/python3.11/dist-packages (from matplotlib) (1.26.4)\n",
            "Requirement already satisfied: packaging>=20.0 in /usr/local/lib/python3.11/dist-packages (from matplotlib) (24.2)\n",
            "Requirement already satisfied: pillow>=8 in /usr/local/lib/python3.11/dist-packages (from matplotlib) (11.1.0)\n",
            "Requirement already satisfied: pyparsing>=2.3.1 in /usr/local/lib/python3.11/dist-packages (from matplotlib) (3.2.1)\n",
            "Requirement already satisfied: python-dateutil>=2.7 in /usr/local/lib/python3.11/dist-packages (from matplotlib) (2.8.2)\n",
            "Requirement already satisfied: six>=1.5 in /usr/local/lib/python3.11/dist-packages (from python-dateutil>=2.7->matplotlib) (1.17.0)\n",
            "Requirement already satisfied: nltk in /usr/local/lib/python3.11/dist-packages (3.9.1)\n",
            "Requirement already satisfied: click in /usr/local/lib/python3.11/dist-packages (from nltk) (8.1.8)\n",
            "Requirement already satisfied: joblib in /usr/local/lib/python3.11/dist-packages (from nltk) (1.4.2)\n",
            "Requirement already satisfied: regex>=2021.8.3 in /usr/local/lib/python3.11/dist-packages (from nltk) (2024.11.6)\n",
            "Requirement already satisfied: tqdm in /usr/local/lib/python3.11/dist-packages (from nltk) (4.67.1)\n"
          ]
        }
      ]
    },
    {
      "cell_type": "code",
      "source": [
        "import nltk\n",
        "import os, os.path\n",
        "import nltk.data\n",
        "nltk.download('punkt_tab')"
      ],
      "metadata": {
        "colab": {
          "base_uri": "https://localhost:8080/"
        },
        "id": "p8MzzJSOaxpO",
        "outputId": "b792756a-2357-44bf-efcc-d65a9480c76f"
      },
      "execution_count": null,
      "outputs": [
        {
          "output_type": "stream",
          "name": "stderr",
          "text": [
            "[nltk_data] Downloading package punkt_tab to /root/nltk_data...\n",
            "[nltk_data]   Unzipping tokenizers/punkt_tab.zip.\n"
          ]
        },
        {
          "output_type": "execute_result",
          "data": {
            "text/plain": [
              "True"
            ]
          },
          "metadata": {},
          "execution_count": 7
        }
      ]
    },
    {
      "cell_type": "code",
      "execution_count": null,
      "metadata": {
        "id": "vztETmFgaAUC"
      },
      "outputs": [],
      "source": [
        "#Presentation data analysis\n",
        "\n",
        "import pandas as pd\n",
        "file_path = r'app_reviews_with_time_and_version_clue.csv'\n",
        "df = pd.read_csv(file_path)\n"
      ]
    },
    {
      "cell_type": "code",
      "source": [
        "# Display the first few rows of the dataframe\n",
        "df.head()"
      ],
      "metadata": {
        "colab": {
          "base_uri": "https://localhost:8080/",
          "height": 573
        },
        "id": "0q74n_DjaWro",
        "outputId": "c5ecb694-d141-44cc-c6b3-291286f11e86"
      },
      "execution_count": null,
      "outputs": [
        {
          "output_type": "execute_result",
          "data": {
            "text/plain": [
              "                               reviewId       userName  \\\n",
              "0  a32b525d-f8d4-4f68-afff-9cdd4d7de8cb  A Google user   \n",
              "1  99758246-d266-4d43-bd33-9f40a62fb7a7  A Google user   \n",
              "2  8b99d9bc-f26c-45e0-933b-0c1918f27050  A Google user   \n",
              "3  a2cf1bea-3067-4c42-bb8e-9a72ce280af7  A Google user   \n",
              "4  a4b92428-fc5f-4e6d-be94-32c24c06276d  A Google user   \n",
              "\n",
              "                                           userImage  \\\n",
              "0  https://play-lh.googleusercontent.com/EGemoI2N...   \n",
              "1  https://play-lh.googleusercontent.com/EGemoI2N...   \n",
              "2  https://play-lh.googleusercontent.com/EGemoI2N...   \n",
              "3  https://play-lh.googleusercontent.com/EGemoI2N...   \n",
              "4  https://play-lh.googleusercontent.com/EGemoI2N...   \n",
              "\n",
              "                                             content  score  thumbsUpCount  \\\n",
              "0  I can't access analysis to reset my cycle leng...      1              0   \n",
              "1  this app is great but it's just really annoyin...      3              0   \n",
              "2                                  It requires money      1              0   \n",
              "3                                Worst app don't use      1              0   \n",
              "4  It's a good app, but I really don't like that ...      1              0   \n",
              "\n",
              "  reviewCreatedVersion                   at  \\\n",
              "0                164.0  2024-10-20 23:05:36   \n",
              "1                176.0  2024-10-20 21:54:46   \n",
              "2                  NaN  2024-10-20 18:52:05   \n",
              "3                177.1  2024-10-20 14:45:12   \n",
              "4                  NaN  2024-10-20 13:39:17   \n",
              "\n",
              "                                        replyContent            repliedAt  \\\n",
              "0  Hey, thanks for getting in touch. We’re sorry ...  2024-10-21 07:08:38   \n",
              "1  Hey, thanks for your review. We introduced Clu...  2024-10-21 07:06:28   \n",
              "2  Hey, thanks for your review. We introduced Clu...  2024-10-21 07:06:26   \n",
              "3  Hey, thanks for your review. We’re sorry to he...  2024-10-21 07:06:57   \n",
              "4  Hello, we understand you’re disappointed about...  2024-10-21 07:05:14   \n",
              "\n",
              "  appVersion  \n",
              "0      164.0  \n",
              "1      176.0  \n",
              "2        NaN  \n",
              "3      177.1  \n",
              "4        NaN  "
            ],
            "text/html": [
              "\n",
              "  <div id=\"df-7f094b3a-8228-4a7c-9f24-934bc017f761\" class=\"colab-df-container\">\n",
              "    <div>\n",
              "<style scoped>\n",
              "    .dataframe tbody tr th:only-of-type {\n",
              "        vertical-align: middle;\n",
              "    }\n",
              "\n",
              "    .dataframe tbody tr th {\n",
              "        vertical-align: top;\n",
              "    }\n",
              "\n",
              "    .dataframe thead th {\n",
              "        text-align: right;\n",
              "    }\n",
              "</style>\n",
              "<table border=\"1\" class=\"dataframe\">\n",
              "  <thead>\n",
              "    <tr style=\"text-align: right;\">\n",
              "      <th></th>\n",
              "      <th>reviewId</th>\n",
              "      <th>userName</th>\n",
              "      <th>userImage</th>\n",
              "      <th>content</th>\n",
              "      <th>score</th>\n",
              "      <th>thumbsUpCount</th>\n",
              "      <th>reviewCreatedVersion</th>\n",
              "      <th>at</th>\n",
              "      <th>replyContent</th>\n",
              "      <th>repliedAt</th>\n",
              "      <th>appVersion</th>\n",
              "    </tr>\n",
              "  </thead>\n",
              "  <tbody>\n",
              "    <tr>\n",
              "      <th>0</th>\n",
              "      <td>a32b525d-f8d4-4f68-afff-9cdd4d7de8cb</td>\n",
              "      <td>A Google user</td>\n",
              "      <td>https://play-lh.googleusercontent.com/EGemoI2N...</td>\n",
              "      <td>I can't access analysis to reset my cycle leng...</td>\n",
              "      <td>1</td>\n",
              "      <td>0</td>\n",
              "      <td>164.0</td>\n",
              "      <td>2024-10-20 23:05:36</td>\n",
              "      <td>Hey, thanks for getting in touch. We’re sorry ...</td>\n",
              "      <td>2024-10-21 07:08:38</td>\n",
              "      <td>164.0</td>\n",
              "    </tr>\n",
              "    <tr>\n",
              "      <th>1</th>\n",
              "      <td>99758246-d266-4d43-bd33-9f40a62fb7a7</td>\n",
              "      <td>A Google user</td>\n",
              "      <td>https://play-lh.googleusercontent.com/EGemoI2N...</td>\n",
              "      <td>this app is great but it's just really annoyin...</td>\n",
              "      <td>3</td>\n",
              "      <td>0</td>\n",
              "      <td>176.0</td>\n",
              "      <td>2024-10-20 21:54:46</td>\n",
              "      <td>Hey, thanks for your review. We introduced Clu...</td>\n",
              "      <td>2024-10-21 07:06:28</td>\n",
              "      <td>176.0</td>\n",
              "    </tr>\n",
              "    <tr>\n",
              "      <th>2</th>\n",
              "      <td>8b99d9bc-f26c-45e0-933b-0c1918f27050</td>\n",
              "      <td>A Google user</td>\n",
              "      <td>https://play-lh.googleusercontent.com/EGemoI2N...</td>\n",
              "      <td>It requires money</td>\n",
              "      <td>1</td>\n",
              "      <td>0</td>\n",
              "      <td>NaN</td>\n",
              "      <td>2024-10-20 18:52:05</td>\n",
              "      <td>Hey, thanks for your review. We introduced Clu...</td>\n",
              "      <td>2024-10-21 07:06:26</td>\n",
              "      <td>NaN</td>\n",
              "    </tr>\n",
              "    <tr>\n",
              "      <th>3</th>\n",
              "      <td>a2cf1bea-3067-4c42-bb8e-9a72ce280af7</td>\n",
              "      <td>A Google user</td>\n",
              "      <td>https://play-lh.googleusercontent.com/EGemoI2N...</td>\n",
              "      <td>Worst app don't use</td>\n",
              "      <td>1</td>\n",
              "      <td>0</td>\n",
              "      <td>177.1</td>\n",
              "      <td>2024-10-20 14:45:12</td>\n",
              "      <td>Hey, thanks for your review. We’re sorry to he...</td>\n",
              "      <td>2024-10-21 07:06:57</td>\n",
              "      <td>177.1</td>\n",
              "    </tr>\n",
              "    <tr>\n",
              "      <th>4</th>\n",
              "      <td>a4b92428-fc5f-4e6d-be94-32c24c06276d</td>\n",
              "      <td>A Google user</td>\n",
              "      <td>https://play-lh.googleusercontent.com/EGemoI2N...</td>\n",
              "      <td>It's a good app, but I really don't like that ...</td>\n",
              "      <td>1</td>\n",
              "      <td>0</td>\n",
              "      <td>NaN</td>\n",
              "      <td>2024-10-20 13:39:17</td>\n",
              "      <td>Hello, we understand you’re disappointed about...</td>\n",
              "      <td>2024-10-21 07:05:14</td>\n",
              "      <td>NaN</td>\n",
              "    </tr>\n",
              "  </tbody>\n",
              "</table>\n",
              "</div>\n",
              "    <div class=\"colab-df-buttons\">\n",
              "\n",
              "  <div class=\"colab-df-container\">\n",
              "    <button class=\"colab-df-convert\" onclick=\"convertToInteractive('df-7f094b3a-8228-4a7c-9f24-934bc017f761')\"\n",
              "            title=\"Convert this dataframe to an interactive table.\"\n",
              "            style=\"display:none;\">\n",
              "\n",
              "  <svg xmlns=\"http://www.w3.org/2000/svg\" height=\"24px\" viewBox=\"0 -960 960 960\">\n",
              "    <path d=\"M120-120v-720h720v720H120Zm60-500h600v-160H180v160Zm220 220h160v-160H400v160Zm0 220h160v-160H400v160ZM180-400h160v-160H180v160Zm440 0h160v-160H620v160ZM180-180h160v-160H180v160Zm440 0h160v-160H620v160Z\"/>\n",
              "  </svg>\n",
              "    </button>\n",
              "\n",
              "  <style>\n",
              "    .colab-df-container {\n",
              "      display:flex;\n",
              "      gap: 12px;\n",
              "    }\n",
              "\n",
              "    .colab-df-convert {\n",
              "      background-color: #E8F0FE;\n",
              "      border: none;\n",
              "      border-radius: 50%;\n",
              "      cursor: pointer;\n",
              "      display: none;\n",
              "      fill: #1967D2;\n",
              "      height: 32px;\n",
              "      padding: 0 0 0 0;\n",
              "      width: 32px;\n",
              "    }\n",
              "\n",
              "    .colab-df-convert:hover {\n",
              "      background-color: #E2EBFA;\n",
              "      box-shadow: 0px 1px 2px rgba(60, 64, 67, 0.3), 0px 1px 3px 1px rgba(60, 64, 67, 0.15);\n",
              "      fill: #174EA6;\n",
              "    }\n",
              "\n",
              "    .colab-df-buttons div {\n",
              "      margin-bottom: 4px;\n",
              "    }\n",
              "\n",
              "    [theme=dark] .colab-df-convert {\n",
              "      background-color: #3B4455;\n",
              "      fill: #D2E3FC;\n",
              "    }\n",
              "\n",
              "    [theme=dark] .colab-df-convert:hover {\n",
              "      background-color: #434B5C;\n",
              "      box-shadow: 0px 1px 3px 1px rgba(0, 0, 0, 0.15);\n",
              "      filter: drop-shadow(0px 1px 2px rgba(0, 0, 0, 0.3));\n",
              "      fill: #FFFFFF;\n",
              "    }\n",
              "  </style>\n",
              "\n",
              "    <script>\n",
              "      const buttonEl =\n",
              "        document.querySelector('#df-7f094b3a-8228-4a7c-9f24-934bc017f761 button.colab-df-convert');\n",
              "      buttonEl.style.display =\n",
              "        google.colab.kernel.accessAllowed ? 'block' : 'none';\n",
              "\n",
              "      async function convertToInteractive(key) {\n",
              "        const element = document.querySelector('#df-7f094b3a-8228-4a7c-9f24-934bc017f761');\n",
              "        const dataTable =\n",
              "          await google.colab.kernel.invokeFunction('convertToInteractive',\n",
              "                                                    [key], {});\n",
              "        if (!dataTable) return;\n",
              "\n",
              "        const docLinkHtml = 'Like what you see? Visit the ' +\n",
              "          '<a target=\"_blank\" href=https://colab.research.google.com/notebooks/data_table.ipynb>data table notebook</a>'\n",
              "          + ' to learn more about interactive tables.';\n",
              "        element.innerHTML = '';\n",
              "        dataTable['output_type'] = 'display_data';\n",
              "        await google.colab.output.renderOutput(dataTable, element);\n",
              "        const docLink = document.createElement('div');\n",
              "        docLink.innerHTML = docLinkHtml;\n",
              "        element.appendChild(docLink);\n",
              "      }\n",
              "    </script>\n",
              "  </div>\n",
              "\n",
              "\n",
              "<div id=\"df-7ffad923-baf8-4ca9-9166-f2242e2efcc4\">\n",
              "  <button class=\"colab-df-quickchart\" onclick=\"quickchart('df-7ffad923-baf8-4ca9-9166-f2242e2efcc4')\"\n",
              "            title=\"Suggest charts\"\n",
              "            style=\"display:none;\">\n",
              "\n",
              "<svg xmlns=\"http://www.w3.org/2000/svg\" height=\"24px\"viewBox=\"0 0 24 24\"\n",
              "     width=\"24px\">\n",
              "    <g>\n",
              "        <path d=\"M19 3H5c-1.1 0-2 .9-2 2v14c0 1.1.9 2 2 2h14c1.1 0 2-.9 2-2V5c0-1.1-.9-2-2-2zM9 17H7v-7h2v7zm4 0h-2V7h2v10zm4 0h-2v-4h2v4z\"/>\n",
              "    </g>\n",
              "</svg>\n",
              "  </button>\n",
              "\n",
              "<style>\n",
              "  .colab-df-quickchart {\n",
              "      --bg-color: #E8F0FE;\n",
              "      --fill-color: #1967D2;\n",
              "      --hover-bg-color: #E2EBFA;\n",
              "      --hover-fill-color: #174EA6;\n",
              "      --disabled-fill-color: #AAA;\n",
              "      --disabled-bg-color: #DDD;\n",
              "  }\n",
              "\n",
              "  [theme=dark] .colab-df-quickchart {\n",
              "      --bg-color: #3B4455;\n",
              "      --fill-color: #D2E3FC;\n",
              "      --hover-bg-color: #434B5C;\n",
              "      --hover-fill-color: #FFFFFF;\n",
              "      --disabled-bg-color: #3B4455;\n",
              "      --disabled-fill-color: #666;\n",
              "  }\n",
              "\n",
              "  .colab-df-quickchart {\n",
              "    background-color: var(--bg-color);\n",
              "    border: none;\n",
              "    border-radius: 50%;\n",
              "    cursor: pointer;\n",
              "    display: none;\n",
              "    fill: var(--fill-color);\n",
              "    height: 32px;\n",
              "    padding: 0;\n",
              "    width: 32px;\n",
              "  }\n",
              "\n",
              "  .colab-df-quickchart:hover {\n",
              "    background-color: var(--hover-bg-color);\n",
              "    box-shadow: 0 1px 2px rgba(60, 64, 67, 0.3), 0 1px 3px 1px rgba(60, 64, 67, 0.15);\n",
              "    fill: var(--button-hover-fill-color);\n",
              "  }\n",
              "\n",
              "  .colab-df-quickchart-complete:disabled,\n",
              "  .colab-df-quickchart-complete:disabled:hover {\n",
              "    background-color: var(--disabled-bg-color);\n",
              "    fill: var(--disabled-fill-color);\n",
              "    box-shadow: none;\n",
              "  }\n",
              "\n",
              "  .colab-df-spinner {\n",
              "    border: 2px solid var(--fill-color);\n",
              "    border-color: transparent;\n",
              "    border-bottom-color: var(--fill-color);\n",
              "    animation:\n",
              "      spin 1s steps(1) infinite;\n",
              "  }\n",
              "\n",
              "  @keyframes spin {\n",
              "    0% {\n",
              "      border-color: transparent;\n",
              "      border-bottom-color: var(--fill-color);\n",
              "      border-left-color: var(--fill-color);\n",
              "    }\n",
              "    20% {\n",
              "      border-color: transparent;\n",
              "      border-left-color: var(--fill-color);\n",
              "      border-top-color: var(--fill-color);\n",
              "    }\n",
              "    30% {\n",
              "      border-color: transparent;\n",
              "      border-left-color: var(--fill-color);\n",
              "      border-top-color: var(--fill-color);\n",
              "      border-right-color: var(--fill-color);\n",
              "    }\n",
              "    40% {\n",
              "      border-color: transparent;\n",
              "      border-right-color: var(--fill-color);\n",
              "      border-top-color: var(--fill-color);\n",
              "    }\n",
              "    60% {\n",
              "      border-color: transparent;\n",
              "      border-right-color: var(--fill-color);\n",
              "    }\n",
              "    80% {\n",
              "      border-color: transparent;\n",
              "      border-right-color: var(--fill-color);\n",
              "      border-bottom-color: var(--fill-color);\n",
              "    }\n",
              "    90% {\n",
              "      border-color: transparent;\n",
              "      border-bottom-color: var(--fill-color);\n",
              "    }\n",
              "  }\n",
              "</style>\n",
              "\n",
              "  <script>\n",
              "    async function quickchart(key) {\n",
              "      const quickchartButtonEl =\n",
              "        document.querySelector('#' + key + ' button');\n",
              "      quickchartButtonEl.disabled = true;  // To prevent multiple clicks.\n",
              "      quickchartButtonEl.classList.add('colab-df-spinner');\n",
              "      try {\n",
              "        const charts = await google.colab.kernel.invokeFunction(\n",
              "            'suggestCharts', [key], {});\n",
              "      } catch (error) {\n",
              "        console.error('Error during call to suggestCharts:', error);\n",
              "      }\n",
              "      quickchartButtonEl.classList.remove('colab-df-spinner');\n",
              "      quickchartButtonEl.classList.add('colab-df-quickchart-complete');\n",
              "    }\n",
              "    (() => {\n",
              "      let quickchartButtonEl =\n",
              "        document.querySelector('#df-7ffad923-baf8-4ca9-9166-f2242e2efcc4 button');\n",
              "      quickchartButtonEl.style.display =\n",
              "        google.colab.kernel.accessAllowed ? 'block' : 'none';\n",
              "    })();\n",
              "  </script>\n",
              "</div>\n",
              "\n",
              "    </div>\n",
              "  </div>\n"
            ],
            "application/vnd.google.colaboratory.intrinsic+json": {
              "type": "dataframe",
              "variable_name": "df",
              "summary": "{\n  \"name\": \"df\",\n  \"rows\": 65331,\n  \"fields\": [\n    {\n      \"column\": \"reviewId\",\n      \"properties\": {\n        \"dtype\": \"string\",\n        \"num_unique_values\": 65331,\n        \"samples\": [\n          \"b1b1276e-5619-4a00-9410-dfab86ba8d19\",\n          \"234deff8-2c10-43ab-aa3f-1b2c6671c15c\",\n          \"8020bdaf-e588-4678-9dc7-c309d25c72bf\"\n        ],\n        \"semantic_type\": \"\",\n        \"description\": \"\"\n      }\n    },\n    {\n      \"column\": \"userName\",\n      \"properties\": {\n        \"dtype\": \"category\",\n        \"num_unique_values\": 1505,\n        \"samples\": [\n          \"Ana Sof\\u00eda Dom\\u00ednguez Ruano\",\n          \"Inez Thomas\",\n          \"Catherine gunn\"\n        ],\n        \"semantic_type\": \"\",\n        \"description\": \"\"\n      }\n    },\n    {\n      \"column\": \"userImage\",\n      \"properties\": {\n        \"dtype\": \"category\",\n        \"num_unique_values\": 1508,\n        \"samples\": [\n          \"https://play-lh.googleusercontent.com/a-/ALV-UjUHoJAo3FJRzU42cVUw9_BC-d8FU7dxLtGqxj8SRrHca89Jb_vm\",\n          \"https://play-lh.googleusercontent.com/a-/ALV-UjVZXPAdgea2YljgmL8GIzhK4qwleZv9f98pJuwGjy6hvU41JmK9\",\n          \"https://play-lh.googleusercontent.com/a/ACg8ocKGK_pjnWhPGs0lZOvX9IgbZoT6v2OSStf1xtL09uMANLSVbQ=mo\"\n        ],\n        \"semantic_type\": \"\",\n        \"description\": \"\"\n      }\n    },\n    {\n      \"column\": \"content\",\n      \"properties\": {\n        \"dtype\": \"string\",\n        \"num_unique_values\": 54944,\n        \"samples\": [\n          \"Thank you for supporting non-gendered language! As a cis woman I really don't want to be defined by my reproductive system and I stand with my trans siblings \\u2661\",\n          \"HELP. NOT WORKING! insightful, educational, and full of helpful features to track and monitor a woman's health. thanks so much for this powerful tool!\",\n          \"Its amazing.\"\n        ],\n        \"semantic_type\": \"\",\n        \"description\": \"\"\n      }\n    },\n    {\n      \"column\": \"score\",\n      \"properties\": {\n        \"dtype\": \"number\",\n        \"std\": 1,\n        \"min\": 1,\n        \"max\": 5,\n        \"num_unique_values\": 5,\n        \"samples\": [\n          3,\n          4,\n          5\n        ],\n        \"semantic_type\": \"\",\n        \"description\": \"\"\n      }\n    },\n    {\n      \"column\": \"thumbsUpCount\",\n      \"properties\": {\n        \"dtype\": \"number\",\n        \"std\": 7,\n        \"min\": 0,\n        \"max\": 356,\n        \"num_unique_values\": 145,\n        \"samples\": [\n          71,\n          115,\n          24\n        ],\n        \"semantic_type\": \"\",\n        \"description\": \"\"\n      }\n    },\n    {\n      \"column\": \"reviewCreatedVersion\",\n      \"properties\": {\n        \"dtype\": \"category\",\n        \"num_unique_values\": 289,\n        \"samples\": [\n          \"136.1\",\n          \"42.1\",\n          \"1.7.7\"\n        ],\n        \"semantic_type\": \"\",\n        \"description\": \"\"\n      }\n    },\n    {\n      \"column\": \"at\",\n      \"properties\": {\n        \"dtype\": \"object\",\n        \"num_unique_values\": 65300,\n        \"samples\": [\n          \"2020-02-02 09:12:52\",\n          \"2017-07-21 15:11:42\",\n          \"2017-11-03 22:48:17\"\n        ],\n        \"semantic_type\": \"\",\n        \"description\": \"\"\n      }\n    },\n    {\n      \"column\": \"replyContent\",\n      \"properties\": {\n        \"dtype\": \"category\",\n        \"num_unique_values\": 3945,\n        \"samples\": [\n          \"Hi Tijaana, we have just fixed a problem that was creating issues on certain devices. Please update to the latest version of Clue, that should fix it! If you are still experiencing problems after the update, please let us know on support@helloclue.com. Thanks, Mette\",\n          \"Hi, Luisa, thanks for your feedback. We actually do have regional pricing, if you believe you're not seeing the right prices for your region, please get in touch with us through your app: Support - Technical Issues - Known issues - Contact us . Thank you!\",\n          \"Hello Melite,\\n\\nThanks for getting in touch. I'm sorry you are having this issue with the app.\\n\\nWe are aware of it and our team is investigating. Thank you for your patience and sorry for the trouble!\\n\\nBest wishes from Clue in Berlin,\\nAna\"\n        ],\n        \"semantic_type\": \"\",\n        \"description\": \"\"\n      }\n    },\n    {\n      \"column\": \"repliedAt\",\n      \"properties\": {\n        \"dtype\": \"object\",\n        \"num_unique_values\": 9413,\n        \"samples\": [\n          \"2017-08-07 14:50:18\",\n          \"2023-03-13 15:19:52\",\n          \"2015-04-07 14:47:20\"\n        ],\n        \"semantic_type\": \"\",\n        \"description\": \"\"\n      }\n    },\n    {\n      \"column\": \"appVersion\",\n      \"properties\": {\n        \"dtype\": \"category\",\n        \"num_unique_values\": 289,\n        \"samples\": [\n          \"136.1\",\n          \"42.1\",\n          \"1.7.7\"\n        ],\n        \"semantic_type\": \"\",\n        \"description\": \"\"\n      }\n    }\n  ]\n}"
            }
          },
          "metadata": {},
          "execution_count": 9
        }
      ]
    },
    {
      "cell_type": "code",
      "source": [
        "# session 2 Drop rows with missing 'content' as they are not helpful for review analysis\n",
        "df.dropna(subset=['content'], inplace=True)\n",
        "# Remove unnecessary columns\n",
        "df.drop(['userImage'], axis=1, inplace=True)"
      ],
      "metadata": {
        "id": "CS6YmPffaZVk"
      },
      "execution_count": null,
      "outputs": []
    },
    {
      "cell_type": "code",
      "source": [
        "# Standardize text data in 'content'\n",
        "df['content'] = df['content'].str.lower().str.strip()"
      ],
      "metadata": {
        "id": "q7FHajI0adAE"
      },
      "execution_count": null,
      "outputs": []
    },
    {
      "cell_type": "code",
      "source": [
        "# remove stopwords\n",
        "from nltk.corpus import stopwords\n",
        "nltk.download('stopwords')"
      ],
      "metadata": {
        "colab": {
          "base_uri": "https://localhost:8080/"
        },
        "id": "a7R3H50aaoTQ",
        "outputId": "8805b240-a702-49f4-dfbf-a2d05efe399c"
      },
      "execution_count": null,
      "outputs": [
        {
          "output_type": "stream",
          "name": "stderr",
          "text": [
            "[nltk_data] Downloading package stopwords to /root/nltk_data...\n",
            "[nltk_data]   Unzipping corpora/stopwords.zip.\n"
          ]
        },
        {
          "output_type": "execute_result",
          "data": {
            "text/plain": [
              "True"
            ]
          },
          "metadata": {},
          "execution_count": 15
        }
      ]
    },
    {
      "cell_type": "code",
      "source": [
        "stop = stopwords.words('english')\n",
        "df['content'] = df['content'].apply(lambda x: ' '.join([word for word in x.split() if word not in (stop)]))"
      ],
      "metadata": {
        "id": "Y34P9-Osa_Rb"
      },
      "execution_count": null,
      "outputs": []
    },
    {
      "cell_type": "code",
      "source": [
        "# Remove punctuation\n",
        "import string\n",
        "df['content'] = df['content'].str.replace('[{}]'.format(string.punctuation), '')\n"
      ],
      "metadata": {
        "id": "tQQo1-S3bHYD"
      },
      "execution_count": null,
      "outputs": []
    },
    {
      "cell_type": "code",
      "source": [
        "# Remove numbers\n",
        "df['content'] = df['content'].str.replace('\\d+', '')"
      ],
      "metadata": {
        "id": "986k5EMqbLXR"
      },
      "execution_count": null,
      "outputs": []
    },
    {
      "cell_type": "code",
      "source": [
        "# Remove mentions\n",
        "df['content'] = df['content'].replace(r'@\\w+', '', regex=True)"
      ],
      "metadata": {
        "id": "AiCZBPs1bNuA"
      },
      "execution_count": null,
      "outputs": []
    },
    {
      "cell_type": "code",
      "source": [
        "# Remove hashtags\n",
        "df['content'] = df['content'].replace(r'#\\w+', '', regex=True)"
      ],
      "metadata": {
        "id": "SCztMFfAbPss"
      },
      "execution_count": null,
      "outputs": []
    },
    {
      "cell_type": "code",
      "source": [
        "#text analysis\n",
        "\n",
        "import matplotlib.pyplot as plt"
      ],
      "metadata": {
        "id": "yB3HqahHbV1x"
      },
      "execution_count": null,
      "outputs": []
    },
    {
      "cell_type": "code",
      "source": [
        "# 4. Reviews with content longer than 80 characters\n",
        "reviews_long_content = df[df['content'].str.len() > 80]"
      ],
      "metadata": {
        "id": "7WnYIxUzbYlQ"
      },
      "execution_count": null,
      "outputs": []
    },
    {
      "cell_type": "code",
      "source": [
        "# 5. Reviews with content longer than 80 characters and have replies\n",
        "reviews_long_content_replied = reviews_long_content[reviews_long_content['replyContent'].notnull()]"
      ],
      "metadata": {
        "id": "_A4vFCeabaOR"
      },
      "execution_count": null,
      "outputs": []
    },
    {
      "cell_type": "code",
      "source": [
        "# 6. Reviews with content longer than 80 characters and no replies\n",
        "reviews_long_content_no_replies = reviews_long_content[reviews_long_content['replyContent'].isnull()]"
      ],
      "metadata": {
        "id": "iSByVWz-bcHV"
      },
      "execution_count": null,
      "outputs": []
    },
    {
      "cell_type": "code",
      "source": [
        "# Count the number of reviews in each category\n",
        "counts = {\n",
        "    'Total Long Reviews': len(reviews_long_content),\n",
        "    'Long Reviews with Replies': len(reviews_long_content_replied),\n",
        "    'Long Reviews without Replies': len(reviews_long_content_no_replies)\n",
        "}"
      ],
      "metadata": {
        "id": "5jqGllNhbebT"
      },
      "execution_count": null,
      "outputs": []
    },
    {
      "cell_type": "code",
      "source": [
        "# Plotting\n",
        "plt.figure(figsize=(10, 6))\n",
        "plt.bar(counts.keys(), counts.values(), color=['skyblue', 'lightgreen', 'salmon'])\n",
        "plt.title('Count of Reviews Longer than 80 Characters')\n",
        "plt.ylabel('Number of Reviews')\n",
        "plt.xticks(rotation=15)\n",
        "plt.grid(axis='y')"
      ],
      "metadata": {
        "colab": {
          "base_uri": "https://localhost:8080/",
          "height": 597
        },
        "id": "4qhu7jmibjJG",
        "outputId": "2d68c1d0-360e-462b-e361-980fcec9f146"
      },
      "execution_count": null,
      "outputs": [
        {
          "output_type": "display_data",
          "data": {
            "text/plain": [
              "<Figure size 1000x600 with 1 Axes>"
            ],
            "image/png": "[encoded data removed]"
          },
          "metadata": {}
        }
      ]
    },
    {
      "cell_type": "code",
      "source": [
        "# 5. Visualization using a box plot for review lengths by score\n",
        "import seaborn as sns"
      ],
      "metadata": {
        "id": "x4myRGVYbmMZ"
      },
      "execution_count": null,
      "outputs": []
    },
    {
      "cell_type": "code",
      "source": [
        "# Create a new column 'review_length' that contains the length of each review's content\n",
        "df['review_length'] = df['content'].apply(len)"
      ],
      "metadata": {
        "id": "j_1OHsGvbs7b"
      },
      "execution_count": null,
      "outputs": []
    },
    {
      "cell_type": "code",
      "source": [
        "plt.figure(figsize=(12, 6))\n",
        "sns.boxplot(x='score', y='review_length', data=df, palette='Set2')\n",
        "plt.title('Distribution of Review Lengths by Score ')\n",
        "plt.xlabel('Score')\n",
        "plt.ylabel('Review Length (Characters)')\n",
        "plt.grid(axis='y')"
      ],
      "metadata": {
        "colab": {
          "base_uri": "https://localhost:8080/",
          "height": 655
        },
        "id": "qR0oOukob2nj",
        "outputId": "d9d9ad68-5e38-42a9-f62b-2ba163ab2f9a"
      },
      "execution_count": null,
      "outputs": [
        {
          "output_type": "stream",
          "name": "stderr",
          "text": [
            "<ipython-input-35-8c8d68214b54>:2: FutureWarning: \n",
            "\n",
            "Passing `palette` without assigning `hue` is deprecated and will be removed in v0.14.0. Assign the `x` variable to `hue` and set `legend=False` for the same effect.\n",
            "\n",
            "  sns.boxplot(x='score', y='review_length', data=df, palette='Set2')\n"
          ]
        },
        {
          "output_type": "display_data",
          "data": {
            "text/plain": [
              "<Figure size 1200x600 with 1 Axes>"
            ],
            "image/png": "[encoded data removed]"
          },
          "metadata": {}
        }
      ]
    },
    {
      "cell_type": "code",
      "source": [
        "# Show the plot\n",
        "plt.tight_layout()\n",
        "plt.show()"
      ],
      "metadata": {
        "colab": {
          "base_uri": "https://localhost:8080/",
          "height": 35
        },
        "id": "OSgo1Shgb5z9",
        "outputId": "51d09622-69b7-429a-85b7-384dcd9aa30d"
      },
      "execution_count": null,
      "outputs": [
        {
          "output_type": "display_data",
          "data": {
            "text/plain": [
              "<Figure size 640x480 with 0 Axes>"
            ]
          },
          "metadata": {}
        }
      ]
    },
    {
      "cell_type": "code",
      "source": [
        "from statsmodels.formula.api import ols\n",
        "import statsmodels.api as sm"
      ],
      "metadata": {
        "id": "3Kq00FbTb8bl"
      },
      "execution_count": null,
      "outputs": []
    },
    {
      "cell_type": "code",
      "source": [
        "# Perform ANOVA\n",
        "model = ols('review_length ~ C(score)', data=df).fit()\n",
        "anova_table = sm.stats.anova_lm(model, typ=2)\n",
        "\n",
        "print(anova_table)\n"
      ],
      "metadata": {
        "colab": {
          "base_uri": "https://localhost:8080/"
        },
        "id": "15Kjd_jnb_JF",
        "outputId": "455e2f1d-8b12-43a5-be97-315a4aa9db22"
      },
      "execution_count": null,
      "outputs": [
        {
          "output_type": "stream",
          "name": "stdout",
          "text": [
            "                sum_sq       df            F  PR(>F)\n",
            "C(score)  7.022081e+07      4.0  3494.116862     0.0\n",
            "Residual  3.281819e+08  65320.0          NaN     NaN\n"
          ]
        }
      ]
    },
    {
      "cell_type": "code",
      "source": [
        "from statsmodels.stats.multicomp import pairwise_tukeyhsd"
      ],
      "metadata": {
        "id": "cOVu1Z8WcDqe"
      },
      "execution_count": null,
      "outputs": []
    },
    {
      "cell_type": "code",
      "source": [
        "# Ensure the 'review_length' column exists\n",
        "if 'review_length' not in df.columns:\n",
        "\tdf['review_length'] = df['content'].apply(len)"
      ],
      "metadata": {
        "id": "jrN-N4yrcGEV"
      },
      "execution_count": null,
      "outputs": []
    },
    {
      "cell_type": "code",
      "source": [
        "# Perform Tukey's HSD post hoc test\n",
        "m_comp = pairwise_tukeyhsd(df['review_length'], df['score'], alpha=0.05) #0.05 is the alpha level, change it if necessary\n",
        "print(m_comp)"
      ],
      "metadata": {
        "colab": {
          "base_uri": "https://localhost:8080/"
        },
        "id": "Z49Q1LxPcIM9",
        "outputId": "e3979ff3-70d0-4bb7-9e7e-9d343e6f91de"
      },
      "execution_count": null,
      "outputs": [
        {
          "output_type": "stream",
          "name": "stdout",
          "text": [
            "  Multiple Comparison of Means - Tukey HSD, FWER=0.05   \n",
            "========================================================\n",
            "group1 group2  meandiff p-adj   lower     upper   reject\n",
            "--------------------------------------------------------\n",
            "     1      2   22.6227    0.0  17.7589   27.4865   True\n",
            "     1      3     1.918 0.7899  -2.7064    6.5424  False\n",
            "     1      4  -45.7899    0.0 -49.6068  -41.9729   True\n",
            "     1      5  -83.9059    0.0 -86.8575  -80.9543   True\n",
            "     2      3  -20.7047    0.0 -26.1009  -15.3085   True\n",
            "     2      4  -68.4126    0.0 -73.1352    -63.69   True\n",
            "     2      5 -106.5286    0.0 -110.584 -102.4733   True\n",
            "     3      4  -47.7079    0.0 -52.1835  -43.2322   True\n",
            "     3      5  -85.8239    0.0 -89.5889   -82.059   True\n",
            "     4      5  -38.1161    0.0 -40.8287  -35.4034   True\n",
            "--------------------------------------------------------\n"
          ]
        }
      ]
    },
    {
      "cell_type": "code",
      "source": [
        "#N grams\n",
        "\n",
        "from nltk import ngrams\n",
        "from nltk.collocations import BigramCollocationFinder, TrigramCollocationFinder\n",
        "from nltk import FreqDist\n",
        "# 1. Combine all reviews into one text:\n",
        "all_text = \" \".join(df['content'].tolist())  # Efficiently join all text"
      ],
      "metadata": {
        "id": "VYE72d85cUS8"
      },
      "execution_count": null,
      "outputs": []
    },
    {
      "cell_type": "code",
      "source": [
        "# 2. Tokenize the combined text:\n",
        "tokens = nltk.word_tokenize(all_text)"
      ],
      "metadata": {
        "id": "dFeKjFKdcWB_"
      },
      "execution_count": null,
      "outputs": []
    },
    {
      "cell_type": "code",
      "source": [
        "# 3. Remove Stop Words and Punctuation:\n",
        "cleaned_tokens = [word.lower() for word in tokens if word.isalpha() and word.lower() not in nltk.corpus.stopwords.words('english')]"
      ],
      "metadata": {
        "id": "OVE673AccaAN"
      },
      "execution_count": null,
      "outputs": []
    },
    {
      "cell_type": "code",
      "source": [
        "# 4. Get frequent bigrams and trigrams (collocations):\n",
        "bigram_finder = BigramCollocationFinder.from_words(cleaned_tokens)\n",
        "bigram_measures = nltk.collocations.BigramAssocMeasures()\n",
        "bigram_freq = bigram_finder.ngram_fd.items()\n",
        "top_10_bigrams = sorted(bigram_freq, key=lambda x: x[1], reverse=True)[:10]"
      ],
      "metadata": {
        "id": "ms0sV6Ciclle"
      },
      "execution_count": null,
      "outputs": []
    },
    {
      "cell_type": "code",
      "source": [
        "trigram_finder = TrigramCollocationFinder.from_words(cleaned_tokens)\n",
        "trigram_measures = nltk.collocations.TrigramAssocMeasures()\n",
        "trigram_freq = trigram_finder.ngram_fd.items()\n",
        "top_10_trigrams = sorted(trigram_freq, key=lambda x: x[1], reverse=True)[:10]\n",
        "\n",
        "print(\"Top 10 Bigrams:\", top_10_bigrams)\n",
        "print(\"Top 10 Trigrams:\", top_10_trigrams)"
      ],
      "metadata": {
        "colab": {
          "base_uri": "https://localhost:8080/"
        },
        "id": "oU-mr02Wcn_P",
        "outputId": "ae3441cc-4425-417b-d948-a20b1fc4a19b"
      },
      "execution_count": null,
      "outputs": [
        {
          "output_type": "stream",
          "name": "stdout",
          "text": [
            "Top 10 Bigrams: [(('easy', 'use'), 4986), (('love', 'app'), 4027), (('great', 'app'), 3735), (('keep', 'track'), 2295), (('using', 'app'), 1806), (('track', 'period'), 1567), (('good', 'app'), 1542), (('period', 'tracker'), 1195), (('app', 'really'), 1155), (('app', 'great'), 1150)]\n",
            "Top 10 Trigrams: [(('helps', 'keep', 'track'), 667), (('app', 'easy', 'use'), 657), (('using', 'app', 'years'), 589), (('best', 'period', 'tracker'), 433), (('period', 'tracking', 'app'), 365), (('keep', 'track', 'period'), 345), (('app', 'great', 'app'), 327), (('helpful', 'easy', 'use'), 318), (('keep', 'track', 'cycle'), 298), (('used', 'app', 'years'), 295)]\n"
          ]
        }
      ]
    },
    {
      "cell_type": "code",
      "source": [
        "def display_ngrams_table(ngrams, n=2):  # n=2 for bigrams\n",
        "    ngram_list = []\n",
        "    for ngram, frequency in ngrams:\n",
        "        ngram_str = \" \".join(ngram)  # Join the tuple of words into a string\n",
        "        ngram_list.append([ngram_str, frequency]) #append to the list with the ngram and the frequency\n",
        "\n",
        "    df = pd.DataFrame(ngram_list, columns=[f\"{n}-gram\", \"Frequency\"])\n",
        "    print(df)\n",
        "\n",
        "print(\"Top 10 Bigrams:\")\n",
        "display_ngrams_table(top_10_bigrams, 2)\n",
        "\n",
        "print(\"\\nTop 10 Trigrams:\")\n",
        "display_ngrams_table(top_10_trigrams, 3)"
      ],
      "metadata": {
        "colab": {
          "base_uri": "https://localhost:8080/"
        },
        "id": "0b3gOvxLctwN",
        "outputId": "c91f8231-f312-4473-e048-5c99c0b4189a"
      },
      "execution_count": null,
      "outputs": [
        {
          "output_type": "stream",
          "name": "stdout",
          "text": [
            "Top 10 Bigrams:\n",
            "           2-gram  Frequency\n",
            "0        easy use       4986\n",
            "1        love app       4027\n",
            "2       great app       3735\n",
            "3      keep track       2295\n",
            "4       using app       1806\n",
            "5    track period       1567\n",
            "6        good app       1542\n",
            "7  period tracker       1195\n",
            "8      app really       1155\n",
            "9       app great       1150\n",
            "\n",
            "Top 10 Trigrams:\n",
            "                3-gram  Frequency\n",
            "0     helps keep track        667\n",
            "1         app easy use        657\n",
            "2      using app years        589\n",
            "3  best period tracker        433\n",
            "4  period tracking app        365\n",
            "5    keep track period        345\n",
            "6        app great app        327\n",
            "7     helpful easy use        318\n",
            "8     keep track cycle        298\n",
            "9       used app years        295\n"
          ]
        }
      ]
    },
    {
      "cell_type": "code",
      "source": [
        "#After pre processing and cleaned tokens, try on own trigram\n",
        "\n",
        "from nltk.stem import WordNetLemmatizer\n",
        "#nltk.download('wordnet')\n",
        "#nltk.download('omw-1.4')"
      ],
      "metadata": {
        "id": "L9QdkE3ic0Xi"
      },
      "execution_count": null,
      "outputs": []
    },
    {
      "cell_type": "code",
      "source": [
        "# 1. Combine text from reviews where score is 1 or 2:\n",
        "filtered_df = df[df['score'].isin([1, 2])]\n",
        "all_text = \" \".join(filtered_df['content'].tolist())"
      ],
      "metadata": {
        "id": "gTyh4LI4c2Nw"
      },
      "execution_count": null,
      "outputs": []
    },
    {
      "cell_type": "code",
      "source": [
        "# 2. Tokenize the combined text:\n",
        "tokens = nltk.word_tokenize(all_text)"
      ],
      "metadata": {
        "id": "hmhJvGxfc4hY"
      },
      "execution_count": null,
      "outputs": []
    },
    {
      "cell_type": "code",
      "source": [
        "# 3. Initialize Lemmatizer and Stemmer\n",
        "lemmatizer = WordNetLemmatizer()\n"
      ],
      "metadata": {
        "id": "r0kNi1sqc6F2"
      },
      "execution_count": null,
      "outputs": []
    },
    {
      "cell_type": "code",
      "source": [
        "import nltk\n",
        "nltk.download('wordnet')"
      ],
      "metadata": {
        "colab": {
          "base_uri": "https://localhost:8080/"
        },
        "id": "1ZPBHoRhdLpE",
        "outputId": "782a7741-df9a-414b-9d5e-a36a3b86fa87"
      },
      "execution_count": null,
      "outputs": [
        {
          "output_type": "stream",
          "name": "stderr",
          "text": [
            "[nltk_data] Downloading package wordnet to /root/nltk_data...\n"
          ]
        },
        {
          "output_type": "execute_result",
          "data": {
            "text/plain": [
              "True"
            ]
          },
          "metadata": {},
          "execution_count": 55
        }
      ]
    },
    {
      "cell_type": "code",
      "source": [
        "# 4. Remove Stop Words, Punctuation, and Lemmatize:\n",
        "stopwords = nltk.corpus.stopwords.words('english')\n",
        "cleaned_tokens = [\n",
        "    lemmatizer.lemmatize(word.lower())  # Lemmatize the word\n",
        "    for word in tokens\n",
        "    if word.isalpha() and word.lower() not in stopwords\n",
        "]"
      ],
      "metadata": {
        "id": "IhmJtZ2Uc8QY"
      },
      "execution_count": null,
      "outputs": []
    },
    {
      "cell_type": "code",
      "source": [
        "# 5. Get frequent trigrams (collocations):\n",
        "trigram_finder = TrigramCollocationFinder.from_words(cleaned_tokens)\n",
        "trigram_measures = nltk.collocations.TrigramAssocMeasures()\n",
        "trigram_freq = trigram_finder.ngram_fd.items()\n",
        "top_10_trigrams = sorted(trigram_freq, key=lambda x: x[1], reverse=True)[:10]"
      ],
      "metadata": {
        "id": "wmukMi-ydTpq"
      },
      "execution_count": null,
      "outputs": []
    },
    {
      "cell_type": "code",
      "source": [
        "# Display as table (using Pandas):\n",
        "def display_ngrams_table(ngrams, n=4):\n",
        "    ngram_list = []\n",
        "    for ngram, frequency in ngrams:\n",
        "        ngram_str = \" \".join(ngram)\n",
        "        ngram_list.append([ngram_str, frequency])\n",
        "\n",
        "    df = pd.DataFrame(ngram_list, columns=[f\"{n}-gram\", \"Frequency\"])\n",
        "    print(df)\n",
        "print(\"Top 10 trigrams (for scores 1 and 2, lemmatized):\")\n",
        "display_ngrams_table(top_10_trigrams, 3)\n"
      ],
      "metadata": {
        "colab": {
          "base_uri": "https://localhost:8080/"
        },
        "id": "soO2NUDmdYWx",
        "outputId": "b4165bcd-4a77-4e8b-ae9f-50544ac05e89"
      },
      "execution_count": null,
      "outputs": [
        {
          "output_type": "stream",
          "name": "stdout",
          "text": [
            "Top 10 trigrams (for scores 1 and 2, lemmatized):\n",
            "                3-gram  Frequency\n",
            "0       using app year        186\n",
            "1        used love app        173\n",
            "2        used app year        150\n",
            "3      using app since         68\n",
            "4      every time open         63\n",
            "5      using clue year         62\n",
            "6        time open app         53\n",
            "7      behind pay wall         50\n",
            "8  period tracking app         45\n",
            "9    since last update         45\n"
          ]
        }
      ]
    }
  ]
}