{
 "cells": [
  {
   "cell_type": "code",
   "execution_count": 2,
   "id": "fd2c56d5",
   "metadata": {},
   "outputs": [],
   "source": [
    "heights = [175, 170, 165, 160]"
   ]
  },
  {
   "cell_type": "code",
   "execution_count": 3,
   "id": "dd17e843",
   "metadata": {},
   "outputs": [],
   "source": [
    "names = ['Adam', 'Eva', 'Alex', 'Mia']"
   ]
  },
  {
   "cell_type": "code",
   "execution_count": 4,
   "id": "9ba207d7",
   "metadata": {},
   "outputs": [],
   "source": [
    "mixed_list_string_number = ['Adam', 175]"
   ]
  },
  {
   "cell_type": "code",
   "execution_count": 5,
   "id": "302dd5b0",
   "metadata": {},
   "outputs": [],
   "source": [
    "mixed_list_common = [\"Mia\", 160, False, 0.5]"
   ]
  },
  {
   "cell_type": "code",
   "execution_count": 6,
   "id": "74cd6916",
   "metadata": {},
   "outputs": [
    {
     "data": {
      "text/plain": [
       "['Sam', 167, 85.5, True, [1, 3, 'a']]"
      ]
     },
     "execution_count": 6,
     "metadata": {},
     "output_type": "execute_result"
    }
   ],
   "source": [
    "sam_height_and_testscore = [\"Sam\", 167, 85.5, True, [1,3,\"a\"]]\n",
    "sam_height_and_testscore"
   ]
  },
  {
   "cell_type": "code",
   "execution_count": 7,
   "id": "1caece53",
   "metadata": {},
   "outputs": [],
   "source": [
    "#list\n",
    "l = [0,1,2.5,True, 'a', 'b', 'c']\n",
    "\n",
    "#tuple\n",
    "t = (0,1, 2.5,False,'a','b','c')\n",
    "\n",
    "#string '' or \"\"\n",
    "s = '0.12.5Falseabc'\n",
    "\n"
   ]
  },
  {
   "cell_type": "code",
   "execution_count": 8,
   "id": "2012deae",
   "metadata": {},
   "outputs": [
    {
     "name": "stdout",
     "output_type": "stream",
     "text": [
      "7\n",
      "7\n",
      "14\n"
     ]
    }
   ],
   "source": [
    "print(len(l)) #list\n",
    "print(len(t)) #tuple\n",
    "print(len(s)) #string"
   ]
  },
  {
   "cell_type": "code",
   "execution_count": 9,
   "id": "bbfd479f",
   "metadata": {},
   "outputs": [
    {
     "name": "stdout",
     "output_type": "stream",
     "text": [
      "LIST:\n",
      "l  = [0, 1, 2.5, True, 'a', 'b', 'c']\n",
      "l[3]= True\n",
      "\n",
      "TUPLE:\n",
      "t  = (0, 1, 2.5, False, 'a', 'b', 'c')\n",
      "t[0] = False\n",
      "\n",
      "STRING\n",
      "s. = 0.12.5Falseabc\n",
      "s[0]= 5\n"
     ]
    }
   ],
   "source": [
    "#list\n",
    "print('LIST:')\n",
    "print('l  =',l)\n",
    "print('l[3]=',l[3])\n",
    "print()\n",
    "\n",
    "#tuple \n",
    "print('TUPLE:')\n",
    "print('t  =', t)\n",
    "print('t[0] =',t[3])\n",
    "print()\n",
    "\n",
    "\n",
    "#string\n",
    "print('STRING')\n",
    "print('s. =',s)\n",
    "print('s[0]=',s[5])\n",
    "\n",
    "\n",
    "\n",
    "\n"
   ]
  },
  {
   "cell_type": "code",
   "execution_count": 17,
   "id": "74079e6a",
   "metadata": {},
   "outputs": [
    {
     "name": "stdout",
     "output_type": "stream",
     "text": [
      "2\n"
     ]
    }
   ],
   "source": [
    "l2 = [1,2,3,4,5,6,7,8]\n",
    "\n",
    "print(l2[-7])"
   ]
  },
  {
   "cell_type": "code",
   "execution_count": 11,
   "id": "543e9554",
   "metadata": {},
   "outputs": [],
   "source": [
    "big_list= [1,1,2,3,5,8,13,21,34,55,89,144,233,377]"
   ]
  },
  {
   "cell_type": "code",
   "execution_count": 12,
   "id": "10f12c45",
   "metadata": {},
   "outputs": [
    {
     "data": {
      "text/plain": [
       "377"
      ]
     },
     "execution_count": 12,
     "metadata": {},
     "output_type": "execute_result"
    }
   ],
   "source": [
    "big_list[len(big_list)-1]"
   ]
  },
  {
   "cell_type": "code",
   "execution_count": 18,
   "id": "18197845",
   "metadata": {},
   "outputs": [
    {
     "data": {
      "text/plain": [
       "377"
      ]
     },
     "execution_count": 18,
     "metadata": {},
     "output_type": "execute_result"
    }
   ],
   "source": [
    "big_list[-1]"
   ]
  },
  {
   "cell_type": "code",
   "execution_count": 19,
   "id": "32714505",
   "metadata": {},
   "outputs": [
    {
     "name": "stdout",
     "output_type": "stream",
     "text": [
      "[1, 3, 5]\n"
     ]
    }
   ],
   "source": [
    "my_list = [0,1,2,3,4,5,6,7,8,9]\n",
    "#print 0,2,4... using slicing\n",
    "print(my_list[1:7:2])"
   ]
  },
  {
   "cell_type": "code",
   "execution_count": 20,
   "id": "5534b355",
   "metadata": {},
   "outputs": [
    {
     "name": "stdout",
     "output_type": "stream",
     "text": [
      "bdfhj\n"
     ]
    }
   ],
   "source": [
    "my_string = 'abcdefghij'\n",
    "print(my_string[1::2])"
   ]
  },
  {
   "cell_type": "code",
   "execution_count": 27,
   "id": "838e601b",
   "metadata": {},
   "outputs": [
    {
     "name": "stdout",
     "output_type": "stream",
     "text": [
      "l = [0, 1, 2.5, True, 'a', 'b', 'c']\n",
      "l[0:3] =  [0, 1, 2.5]\n",
      "\n"
     ]
    }
   ],
   "source": [
    "#list\n",
    "print('l =',l)\n",
    "print('l[0:3] = ',l[0:3])\n",
    "print()"
   ]
  },
  {
   "cell_type": "code",
   "execution_count": 22,
   "id": "066fa6d5",
   "metadata": {},
   "outputs": [
    {
     "name": "stdout",
     "output_type": "stream",
     "text": [
      "t. = (0, 1, 2.5, False, 'a', 'b', 'c')\n",
      "t[0:6:2] = (0, 2.5, 'a')\n",
      "\n"
     ]
    }
   ],
   "source": [
    "#tuple\n",
    "print('t. =',t)\n",
    "print('t[0:6:2] =', t[0:6:2])\n",
    "print()"
   ]
  },
  {
   "cell_type": "code",
   "execution_count": 23,
   "id": "ae778942",
   "metadata": {},
   "outputs": [
    {
     "name": "stdout",
     "output_type": "stream",
     "text": [
      "s = 0.12.5Falseabc\n",
      "s[3:6] = 2.5\n"
     ]
    }
   ],
   "source": [
    "#string\n",
    "print('s =',s)\n",
    "print('s[3:6] =', s[3:6])"
   ]
  },
  {
   "cell_type": "code",
   "execution_count": 25,
   "id": "8dbc8d68",
   "metadata": {},
   "outputs": [
    {
     "name": "stdout",
     "output_type": "stream",
     "text": [
      "s= 0.12.5Falseabc\n",
      "cbaeslaF5.21.0\n"
     ]
    }
   ],
   "source": [
    "print('s=',s)\n",
    "print(s[::-1])"
   ]
  },
  {
   "cell_type": "code",
   "execution_count": 26,
   "id": "043d02ff",
   "metadata": {},
   "outputs": [
    {
     "name": "stdout",
     "output_type": "stream",
     "text": [
      "[5, 4, 3, 2, 1, 0]\n"
     ]
    }
   ],
   "source": [
    "my_list = [0,1,2,3,4,5,6,7,8,9]\n",
    "print(my_list[5::-1])"
   ]
  },
  {
   "cell_type": "code",
   "execution_count": 28,
   "id": "0c69d256",
   "metadata": {},
   "outputs": [
    {
     "data": {
      "text/plain": [
       "['a', True, 2.5, 1, 0]"
      ]
     },
     "execution_count": 28,
     "metadata": {},
     "output_type": "execute_result"
    }
   ],
   "source": [
    "l[4::-1]"
   ]
  },
  {
   "cell_type": "code",
   "execution_count": 29,
   "id": "618248d7",
   "metadata": {},
   "outputs": [
    {
     "data": {
      "text/plain": [
       "['c', 'b', 'a']"
      ]
     },
     "execution_count": 29,
     "metadata": {},
     "output_type": "execute_result"
    }
   ],
   "source": [
    "l[-1:3:-1]"
   ]
  },
  {
   "cell_type": "code",
   "execution_count": 30,
   "id": "8c7e0f17",
   "metadata": {},
   "outputs": [
    {
     "name": "stdout",
     "output_type": "stream",
     "text": [
      "l = [0, 1, 2.5, 'a', 'b', 'c']\n",
      "t = (0, 1, 2.5, 'a', 'b', 'c')\n",
      "s = abc123\n"
     ]
    }
   ],
   "source": [
    "# List\n",
    "l1 = [0, 1, 2.5]\n",
    "l2 = ['a', 'b', 'c']\n",
    "l  = l1 + l2\n",
    "print('l =', l)\n",
    "\n",
    "# Tuple\n",
    "t1 = (0, 1, 2.5)\n",
    "t2 = ('a', 'b', 'c')\n",
    "t  = t1 + t2\n",
    "print('t =', t)\n",
    "\n",
    "# String\n",
    "s1 = 'abc'\n",
    "s2 = '123'\n",
    "s = s1 + s2\n",
    "print('s =', s)"
   ]
  },
  {
   "cell_type": "code",
   "execution_count": 31,
   "id": "6ea51358",
   "metadata": {},
   "outputs": [
    {
     "name": "stdout",
     "output_type": "stream",
     "text": [
      "[]\n",
      "()\n",
      "\n"
     ]
    }
   ],
   "source": [
    "# List:\n",
    "l = []\n",
    "\n",
    "# Tuple\n",
    "t = ()\n",
    "\n",
    "# String\n",
    "s = ''\n",
    "\n",
    "print(l)\n",
    "print(t)\n",
    "print(s)"
   ]
  },
  {
   "cell_type": "code",
   "execution_count": 36,
   "id": "862cfdbd",
   "metadata": {},
   "outputs": [
    {
     "name": "stdout",
     "output_type": "stream",
     "text": [
      "[[0, 1], [2, 3], [4, 5]]\n",
      "[(0, 1), 'fdasf', [2, 3]]\n",
      "((0, 1), (2, 3), (4, 5))\n",
      "('My', 'name', 'is', '')\n"
     ]
    }
   ],
   "source": [
    "# List in list\n",
    "ll = [[0,1], [2,3], [4,5]]\n",
    "print(ll)\n",
    "\n",
    "ll2 = [(0,1), \"fdasf\", [2,3]]\n",
    "print(ll2)\n",
    "\n",
    "# Tuple in tuple\n",
    "tt = ((0,1), (2,3), (4,5))\n",
    "print(tt)\n",
    "\n",
    "# String in list/tuple\n",
    "ls = ['Hello','World']\n",
    "ts = ('My','name','is','')\n",
    "print(ts)\n",
    "\n",
    "\n",
    "# String in string...??\n",
    "ss = 'fdas\"fdsa\"fdas'"
   ]
  },
  {
   "cell_type": "code",
   "execution_count": 41,
   "id": "4f563691",
   "metadata": {},
   "outputs": [
    {
     "name": "stdout",
     "output_type": "stream",
     "text": [
      "True\n",
      "True\n",
      "True\n",
      "False\n",
      "False\n"
     ]
    }
   ],
   "source": [
    "element = 1\n",
    "\n",
    "# List/Tuple\n",
    "l = [0,1,2]\n",
    "t = (0,1,2)\n",
    "s = (1,0,2)\n",
    "\n",
    "print(element in l)\n",
    "print(element in t)\n",
    "print(element in s)\n",
    "\n",
    "l = [3,4,5]\n",
    "t = (3,4,5)\n",
    "\n",
    "print(element in l)\n",
    "print(element in t)"
   ]
  },
  {
   "cell_type": "code",
   "execution_count": 43,
   "id": "3c7cce52",
   "metadata": {},
   "outputs": [
    {
     "name": "stdout",
     "output_type": "stream",
     "text": [
      "True\n",
      "False\n",
      "False\n"
     ]
    }
   ],
   "source": [
    "# String\n",
    "n  = 'n'\n",
    "s1 = 'Chinh'\n",
    "s2 = 'Charles'\n",
    "s3 = \"Choo\"\n",
    "\n",
    "print(n in s1)\n",
    "print(n in s2)\n",
    "print(n in s3)"
   ]
  },
  {
   "cell_type": "code",
   "execution_count": 59,
   "id": "c9a968fe",
   "metadata": {},
   "outputs": [
    {
     "name": "stdout",
     "output_type": "stream",
     "text": [
      "True\n",
      "<class 'int'>\n",
      "<class 'list'>\n",
      "<class 'tuple'>\n",
      "<class 'float'>\n",
      "<class 'bool'>\n"
     ]
    }
   ],
   "source": [
    "n = 1\n",
    "another = 1.5\n",
    "s = [0,1,2]\n",
    "my_new_var = ('1', '2')\n",
    "print(n in s)\n",
    "y = True\n",
    "\n",
    "\n",
    "print(type(n))\n",
    "print(type(s))\n",
    "print(type(my_new_var))\n",
    "print(type(another))\n",
    "print(type(y))"
   ]
  },
  {
   "cell_type": "code",
   "execution_count": 60,
   "id": "1810c3ed",
   "metadata": {},
   "outputs": [
    {
     "name": "stdout",
     "output_type": "stream",
     "text": [
      "[10, 1, 2]\n"
     ]
    }
   ],
   "source": [
    "my_list = [0,1,2]\n",
    "\n",
    "my_list[0] = 10\n",
    "print(my_list)"
   ]
  },
  {
   "cell_type": "code",
   "execution_count": 61,
   "id": "a08e8aa0",
   "metadata": {},
   "outputs": [
    {
     "ename": "TypeError",
     "evalue": "'tuple' object does not support item assignment",
     "output_type": "error",
     "traceback": [
      "\u001b[0;31m---------------------------------------------------------------------------\u001b[0m",
      "\u001b[0;31mTypeError\u001b[0m                                 Traceback (most recent call last)",
      "Cell \u001b[0;32mIn[61], line 4\u001b[0m\n\u001b[1;32m      1\u001b[0m my_tuple \u001b[38;5;241m=\u001b[39m (\u001b[38;5;241m1\u001b[39m,\u001b[38;5;241m2\u001b[39m,\u001b[38;5;241m3\u001b[39m)\n\u001b[1;32m      2\u001b[0m \u001b[38;5;66;03m# my_tuple = (10,2,3)\u001b[39;00m\n\u001b[0;32m----> 4\u001b[0m my_tuple[\u001b[38;5;241m0\u001b[39m] \u001b[38;5;241m=\u001b[39m \u001b[38;5;241m10\u001b[39m\n\u001b[1;32m      5\u001b[0m my_tuple\n",
      "\u001b[0;31mTypeError\u001b[0m: 'tuple' object does not support item assignment"
     ]
    }
   ],
   "source": [
    "my_tuple = (1,2,3)\n",
    "# my_tuple = (10,2,3)\n",
    "\n",
    "my_tuple[0] = 10\n",
    "my_tuple"
   ]
  },
  {
   "cell_type": "code",
   "execution_count": 62,
   "id": "0c619e88",
   "metadata": {},
   "outputs": [
    {
     "name": "stdout",
     "output_type": "stream",
     "text": [
      "[1, 2, 3, 4]\n",
      "[1, 2, 3]\n"
     ]
    }
   ],
   "source": [
    "my_list = [1,2,3]\n",
    "my_list.append(4)\n",
    "\n",
    "print(my_list)\n",
    "\n",
    "#remove last one in the list\n",
    "my_list.pop()\n",
    "\n",
    "print(my_list)"
   ]
  },
  {
   "cell_type": "code",
   "execution_count": 63,
   "id": "64893237",
   "metadata": {},
   "outputs": [
    {
     "ename": "AttributeError",
     "evalue": "'tuple' object has no attribute 'append'",
     "output_type": "error",
     "traceback": [
      "\u001b[0;31m---------------------------------------------------------------------------\u001b[0m",
      "\u001b[0;31mAttributeError\u001b[0m                            Traceback (most recent call last)",
      "Cell \u001b[0;32mIn[63], line 2\u001b[0m\n\u001b[1;32m      1\u001b[0m my_tuple \u001b[38;5;241m=\u001b[39m (\u001b[38;5;241m1\u001b[39m,\u001b[38;5;241m2\u001b[39m,\u001b[38;5;241m3\u001b[39m)\n\u001b[0;32m----> 2\u001b[0m my_tuple\u001b[38;5;241m.\u001b[39mappend(\u001b[38;5;241m4\u001b[39m)\n",
      "\u001b[0;31mAttributeError\u001b[0m: 'tuple' object has no attribute 'append'"
     ]
    }
   ],
   "source": [
    "my_tuple = (1,2,3)\n",
    "my_tuple.append(4)"
   ]
  },
  {
   "cell_type": "code",
   "execution_count": 64,
   "id": "33be34b4",
   "metadata": {},
   "outputs": [
    {
     "name": "stdout",
     "output_type": "stream",
     "text": [
      "[1, 2, 3, ['a', 'b', 'c']]\n",
      "4\n"
     ]
    }
   ],
   "source": [
    "my_list = [1,2,3]\n",
    "another_list = ['a','b','c']\n",
    "\n",
    "my_list.append(another_list)\n",
    "print(my_list)\n",
    "print(len(my_list))"
   ]
  },
  {
   "cell_type": "code",
   "execution_count": 65,
   "id": "aa21d52b",
   "metadata": {},
   "outputs": [
    {
     "name": "stdout",
     "output_type": "stream",
     "text": [
      "[1, 2, 3, 'a', 'b', 'c']\n"
     ]
    }
   ],
   "source": [
    "my_list = [1,2,3]\n",
    "another_list = ['a','b','c']\n",
    "\n",
    "new_list = my_list + another_list\n",
    "print(new_list)"
   ]
  },
  {
   "cell_type": "code",
   "execution_count": 66,
   "id": "7c2fd41b",
   "metadata": {},
   "outputs": [],
   "source": [
    "my_list = [1,2,3]\n",
    "another = ('a','b','c')"
   ]
  },
  {
   "cell_type": "code",
   "execution_count": 67,
   "id": "c6d88141",
   "metadata": {},
   "outputs": [
    {
     "data": {
      "text/plain": [
       "[1, 2, 3, ('a', 'b', 'c')]"
      ]
     },
     "execution_count": 67,
     "metadata": {},
     "output_type": "execute_result"
    }
   ],
   "source": [
    "my_list.append(another)\n",
    "my_list"
   ]
  },
  {
   "cell_type": "code",
   "execution_count": 68,
   "id": "1f39113c",
   "metadata": {},
   "outputs": [
    {
     "data": {
      "text/plain": [
       "[1, 2, 3, ('a', 'b', 'c'), 'a', 'b', 'c']"
      ]
     },
     "execution_count": 68,
     "metadata": {},
     "output_type": "execute_result"
    }
   ],
   "source": [
    "my_list.extend(another)\n",
    "my_list"
   ]
  },
  {
   "cell_type": "code",
   "execution_count": 79,
   "id": "a3f8ca08",
   "metadata": {},
   "outputs": [
    {
     "name": "stdout",
     "output_type": "stream",
     "text": [
      "[[1, 2], [2, 3]]\n",
      "<class 'list'>\n",
      "[[2, 3]]\n"
     ]
    }
   ],
   "source": [
    "l = [[1,2], [2,3]]\n",
    "print(l)\n",
    "print(type(l))\n",
    "\n",
    "del l[0]\n",
    "print(l)"
   ]
  },
  {
   "cell_type": "code",
   "execution_count": 81,
   "id": "b4d962c4",
   "metadata": {},
   "outputs": [],
   "source": [
    "fruits = ['apple', 'banana', 'cherry']\n",
    "index = 2\n",
    "\n",
    "# Option 1\n",
    "fruits.insert(index, \"orange\")\n",
    "\n",
    "# Option 2\n",
    "# a = fruits[0:1] + ['orange'] + fruits[1:]\n",
    "\n",
    "# Option 3\n",
    "# x = fruits[0:index]\n",
    "# x.append('orange')\n",
    "# x.extend(fruits[index:])\n"
   ]
  },
  {
   "cell_type": "code",
   "execution_count": 82,
   "id": "6599b03a",
   "metadata": {},
   "outputs": [],
   "source": [
    "# Define a variable with string \"MSc BA\"\n",
    "mystring = 'MSc BA'"
   ]
  },
  {
   "cell_type": "code",
   "execution_count": 84,
   "id": "560efdf5",
   "metadata": {},
   "outputs": [
    {
     "name": "stdout",
     "output_type": "stream",
     "text": [
      "S\n",
      "c\n"
     ]
    }
   ],
   "source": [
    "print(mystring[1])\n",
    "\n",
    "print(mystring[-4])"
   ]
  },
  {
   "cell_type": "code",
   "execution_count": 85,
   "id": "cac0896c",
   "metadata": {},
   "outputs": [
    {
     "data": {
      "text/plain": [
       "'MSc B'"
      ]
     },
     "execution_count": 85,
     "metadata": {},
     "output_type": "execute_result"
    }
   ],
   "source": [
    "# Choose all the character before the 5th character\n",
    "mystring[:5]"
   ]
  },
  {
   "cell_type": "code",
   "execution_count": 86,
   "id": "c1699ac6",
   "metadata": {},
   "outputs": [
    {
     "data": {
      "text/plain": [
       "'BA'"
      ]
     },
     "execution_count": 86,
     "metadata": {},
     "output_type": "execute_result"
    }
   ],
   "source": [
    "# Choose only the 'BA' part\n",
    "mystring[4:]"
   ]
  },
  {
   "cell_type": "code",
   "execution_count": 87,
   "id": "8210c970",
   "metadata": {},
   "outputs": [
    {
     "data": {
      "text/plain": [
       "'MSc BA'"
      ]
     },
     "execution_count": 87,
     "metadata": {},
     "output_type": "execute_result"
    }
   ],
   "source": [
    "# Choose everything\n",
    "mystring[:]"
   ]
  },
  {
   "cell_type": "code",
   "execution_count": 88,
   "id": "e847a82a",
   "metadata": {},
   "outputs": [
    {
     "data": {
      "text/plain": [
       "'AB cSM'"
      ]
     },
     "execution_count": 88,
     "metadata": {},
     "output_type": "execute_result"
    }
   ],
   "source": [
    "# Choose everything but backward\n",
    "mystring[::-1]"
   ]
  },
  {
   "cell_type": "code",
   "execution_count": 89,
   "id": "284fbe4f",
   "metadata": {},
   "outputs": [
    {
     "data": {
      "text/plain": [
       "'B c'"
      ]
     },
     "execution_count": 89,
     "metadata": {},
     "output_type": "execute_result"
    }
   ],
   "source": [
    "# Extract 'B c' from 'MSc BA'\n",
    "mystring[4:1:-1]"
   ]
  },
  {
   "cell_type": "code",
   "execution_count": 90,
   "id": "e8911be4",
   "metadata": {},
   "outputs": [
    {
     "ename": "TypeError",
     "evalue": "'str' object does not support item assignment",
     "output_type": "error",
     "traceback": [
      "\u001b[0;31m---------------------------------------------------------------------------\u001b[0m",
      "\u001b[0;31mTypeError\u001b[0m                                 Traceback (most recent call last)",
      "Cell \u001b[0;32mIn[90], line 2\u001b[0m\n\u001b[1;32m      1\u001b[0m \u001b[38;5;66;03m# Does this work?\u001b[39;00m\n\u001b[0;32m----> 2\u001b[0m mystring[\u001b[38;5;241m1\u001b[39m] \u001b[38;5;241m=\u001b[39m \u001b[38;5;124m'\u001b[39m\u001b[38;5;124mB\u001b[39m\u001b[38;5;124m'\u001b[39m\n",
      "\u001b[0;31mTypeError\u001b[0m: 'str' object does not support item assignment"
     ]
    }
   ],
   "source": [
    "# Does this work?\n",
    "mystring[1] = 'B'"
   ]
  },
  {
   "cell_type": "code",
   "execution_count": 91,
   "id": "4a71fff4",
   "metadata": {},
   "outputs": [
    {
     "name": "stdout",
     "output_type": "stream",
     "text": [
      "MSc BB\n"
     ]
    },
    {
     "data": {
      "text/plain": [
       "'M_S_c_ _B_B'"
      ]
     },
     "execution_count": 91,
     "metadata": {},
     "output_type": "execute_result"
    }
   ],
   "source": [
    "# MSc BA --> MSc BB\n",
    "\n",
    "# Option 1\n",
    "s1 = mystring[:5]\n",
    "s2 = 'B'\n",
    "s3 = mystring[6:]\n",
    "print(s1+s2+s3)\n",
    "\n",
    "# Option 2\n",
    "s = list(mystring)\n",
    "s[5] ='B'\n",
    "s = \"_\".join(s) # MAGIC!! convert a list to string\n",
    "s"
   ]
  },
  {
   "cell_type": "code",
   "execution_count": 92,
   "id": "60b97871",
   "metadata": {},
   "outputs": [
    {
     "name": "stdout",
     "output_type": "stream",
     "text": [
      "123 <class 'int'>\n",
      "123 <class 'str'>\n",
      "123 <class 'int'>\n"
     ]
    }
   ],
   "source": [
    "# Convert string to integer\n",
    "a = 123\n",
    "print(a, type(a))\n",
    "\n",
    "a = str(a)\n",
    "print(a, type(a))\n",
    "\n",
    "a = int(a)\n",
    "print(a, type(a))"
   ]
  },
  {
   "cell_type": "code",
   "execution_count": 93,
   "id": "a75a1263",
   "metadata": {},
   "outputs": [
    {
     "data": {
      "text/plain": [
       "6"
      ]
     },
     "execution_count": 93,
     "metadata": {},
     "output_type": "execute_result"
    }
   ],
   "source": [
    "# Given a three-digit number, calculate the sum of all its digits\n",
    "x = 123\n",
    "x = str(x)\n",
    "int(x[0]) + int(x[1]) + int(x[2])"
   ]
  },
  {
   "cell_type": "code",
   "execution_count": 94,
   "id": "ce4904aa",
   "metadata": {},
   "outputs": [
    {
     "name": "stdout",
     "output_type": "stream",
     "text": [
      "{'apple', 'cherry', 'banana'}\n"
     ]
    }
   ],
   "source": [
    "# Create a set\n",
    "set1 = {\"apple\", \"banana\", \"banana\", \"cherry\"}\n",
    "print(set1)"
   ]
  },
  {
   "cell_type": "code",
   "execution_count": 95,
   "id": "b1100618",
   "metadata": {},
   "outputs": [
    {
     "data": {
      "text/plain": [
       "{'banana', 'kiwi', 'orange'}"
      ]
     },
     "execution_count": 95,
     "metadata": {},
     "output_type": "execute_result"
    }
   ],
   "source": [
    "# Convert a list to a set\n",
    "new_set = set(['banana', 'kiwi', 'kiwi', 'orange', 'orange', 'orange'])\n",
    "new_set"
   ]
  },
  {
   "cell_type": "code",
   "execution_count": 101,
   "id": "a2b4564a",
   "metadata": {},
   "outputs": [],
   "source": [
    "# Add/Remove an element to a set\n",
    "new_set.add('apple')"
   ]
  },
  {
   "cell_type": "code",
   "execution_count": 102,
   "id": "1bdc2be5",
   "metadata": {},
   "outputs": [
    {
     "data": {
      "text/plain": [
       "{'apple', 'kiwi', 'orange'}"
      ]
     },
     "execution_count": 102,
     "metadata": {},
     "output_type": "execute_result"
    }
   ],
   "source": [
    "new_set"
   ]
  },
  {
   "cell_type": "code",
   "execution_count": 103,
   "id": "49881ef9",
   "metadata": {},
   "outputs": [
    {
     "name": "stdout",
     "output_type": "stream",
     "text": [
      "{1, 2, 3, 4, 5, 6, 7, 8}\n",
      "{1, 2, 3, 4, 5, 6, 7, 8}\n"
     ]
    }
   ],
   "source": [
    "a = {1, 2, 3, 4, 5}\n",
    "b = {4, 5, 6, 7, 8}\n",
    "\n",
    "print(a | b)        # First way\n",
    "print(a.union(b))   # Second way"
   ]
  },
  {
   "cell_type": "code",
   "execution_count": 104,
   "id": "33146010",
   "metadata": {},
   "outputs": [
    {
     "name": "stdout",
     "output_type": "stream",
     "text": [
      "{4, 5}\n",
      "{4, 5}\n"
     ]
    }
   ],
   "source": [
    "print(a & b)                # First way\n",
    "print(a.intersection(b))    # Second way"
   ]
  },
  {
   "cell_type": "code",
   "execution_count": 105,
   "id": "e5d18b7e",
   "metadata": {},
   "outputs": [
    {
     "name": "stdout",
     "output_type": "stream",
     "text": [
      "{1, 2, 3}\n",
      "{1, 2, 3}\n"
     ]
    }
   ],
   "source": [
    "print(a - b)            # First way\n",
    "print(a.difference(b))  # Second way"
   ]
  },
  {
   "cell_type": "code",
   "execution_count": 106,
   "id": "cc0f0a05",
   "metadata": {},
   "outputs": [
    {
     "name": "stdout",
     "output_type": "stream",
     "text": [
      "{8, 6, 7}\n"
     ]
    }
   ],
   "source": [
    "print(b - a)"
   ]
  },
  {
   "cell_type": "code",
   "execution_count": 107,
   "id": "1a686586",
   "metadata": {},
   "outputs": [
    {
     "name": "stdout",
     "output_type": "stream",
     "text": [
      "{1, 2, 3, 6, 7, 8}\n",
      "{1, 2, 3, 6, 7, 8}\n"
     ]
    }
   ],
   "source": [
    "print(a ^ b)                        # First way\n",
    "print(a.symmetric_difference(b))    # Second way"
   ]
  },
  {
   "cell_type": "code",
   "execution_count": 108,
   "id": "5aaabd0c",
   "metadata": {},
   "outputs": [],
   "source": [
    "a = [1,2,4,1,6,2,9,1,1,6]"
   ]
  },
  {
   "cell_type": "code",
   "execution_count": 4,
   "id": "64e5bc43",
   "metadata": {},
   "outputs": [],
   "source": [
    "a = 1\n",
    "print \n"
   ]
  },
  {
   "cell_type": "code",
   "execution_count": null,
   "id": "c9378484",
   "metadata": {},
   "outputs": [],
   "source": []
  }
 ],
 "metadata": {
  "kernelspec": {
   "display_name": "Python 3 (ipykernel)",
   "language": "python",
   "name": "python3"
  },
  "language_info": {
   "codemirror_mode": {
    "name": "ipython",
    "version": 3
   },
   "file_extension": ".py",
   "mimetype": "text/x-python",
   "name": "python",
   "nbconvert_exporter": "python",
   "pygments_lexer": "ipython3",
   "version": "3.12.4"
  }
 },
 "nbformat": 4,
 "nbformat_minor": 5
}
