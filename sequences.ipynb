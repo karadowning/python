{
 "cells": [
  {
   "cell_type": "code",
   "execution_count": 2,
   "id": "8ace1f23",
   "metadata": {},
   "outputs": [],
   "source": [
    "heights = [175, 170, 165, 160]"
   ]
  },
  {
   "cell_type": "code",
   "execution_count": 3,
   "id": "59c90c78",
   "metadata": {},
   "outputs": [],
   "source": [
    "names = ['Adam', 'Eva', 'Alex', 'Mia']"
   ]
  },
  {
   "cell_type": "code",
   "execution_count": 4,
   "id": "30922288",
   "metadata": {},
   "outputs": [],
   "source": [
    "mixed_list_string_number = ['Adam', 175]"
   ]
  },
  {
   "cell_type": "code",
   "execution_count": 5,
   "id": "4fca2d02",
   "metadata": {},
   "outputs": [],
   "source": [
    "mixed_list_common = [\"Mia\", 160, False, 0.5]"
   ]
  },
  {
   "cell_type": "code",
   "execution_count": 6,
   "id": "ae8b7ac4",
   "metadata": {},
   "outputs": [
    {
     "data": {
      "text/plain": [
       "['Sam', 167, 85.5, True, [1, 3, 'a']]"
      ]
     },
     "execution_count": 6,
     "metadata": {},
     "output_type": "execute_result"
    }
   ],
   "source": [
    "sam_height_and_testscore = [\"Sam\", 167, 85.5, True, [1,3,\"a\"]]\n",
    "sam_height_and_testscore"
   ]
  },
  {
   "cell_type": "code",
   "execution_count": 7,
   "id": "fc0e4852",
   "metadata": {},
   "outputs": [],
   "source": [
    "#list\n",
    "l = [0,1,2.5,True, 'a', 'b', 'c']\n",
    "\n",
    "#tuple\n",
    "t = (0,1, 2.5,False,'a','b','c')\n",
    "\n",
    "#string '' or \"\"\n",
    "s = '0.12.5Falseabc'\n",
    "\n"
   ]
  },
  {
   "cell_type": "code",
   "execution_count": 8,
   "id": "e7190f3c",
   "metadata": {},
   "outputs": [
    {
     "name": "stdout",
     "output_type": "stream",
     "text": [
      "7\n",
      "7\n",
      "14\n"
     ]
    }
   ],
   "source": [
    "print(len(l)) #list\n",
    "print(len(t)) #tuple\n",
    "print(len(s)) #string"
   ]
  },
  {
   "cell_type": "code",
   "execution_count": 9,
   "id": "a5bf6e66",
   "metadata": {},
   "outputs": [
    {
     "name": "stdout",
     "output_type": "stream",
     "text": [
      "LIST:\n",
      "l  = [0, 1, 2.5, True, 'a', 'b', 'c']\n",
      "l[3]= True\n",
      "\n",
      "TUPLE:\n",
      "t  = (0, 1, 2.5, False, 'a', 'b', 'c')\n",
      "t[0] = False\n",
      "\n",
      "STRING\n",
      "s. = 0.12.5Falseabc\n",
      "s[0]= 5\n"
     ]
    }
   ],
   "source": [
    "#list\n",
    "print('LIST:')\n",
    "print('l  =',l)\n",
    "print('l[3]=',l[3])\n",
    "print()\n",
    "\n",
    "#tuple \n",
    "print('TUPLE:')\n",
    "print('t  =', t)\n",
    "print('t[0] =',t[3])\n",
    "print()\n",
    "\n",
    "\n",
    "#string\n",
    "print('STRING')\n",
    "print('s. =',s)\n",
    "print('s[0]=',s[5])\n",
    "\n",
    "\n",
    "\n",
    "\n"
   ]
  },
  {
   "cell_type": "code",
   "execution_count": 17,
   "id": "11af223d",
   "metadata": {},
   "outputs": [
    {
     "name": "stdout",
     "output_type": "stream",
     "text": [
      "2\n"
     ]
    }
   ],
   "source": [
    "l2 = [1,2,3,4,5,6,7,8]\n",
    "\n",
    "print(l2[-7])"
   ]
  },
  {
   "cell_type": "code",
   "execution_count": 11,
   "id": "54879b4d",
   "metadata": {},
   "outputs": [],
   "source": [
    "big_list= [1,1,2,3,5,8,13,21,34,55,89,144,233,377]"
   ]
  },
  {
   "cell_type": "code",
   "execution_count": 12,
   "id": "5b5dd2f2",
   "metadata": {},
   "outputs": [
    {
     "data": {
      "text/plain": [
       "377"
      ]
     },
     "execution_count": 12,
     "metadata": {},
     "output_type": "execute_result"
    }
   ],
   "source": [
    "big_list[len(big_list)-1]"
   ]
  },
  {
   "cell_type": "code",
   "execution_count": 18,
   "id": "4dfb468a",
   "metadata": {},
   "outputs": [
    {
     "data": {
      "text/plain": [
       "377"
      ]
     },
     "execution_count": 18,
     "metadata": {},
     "output_type": "execute_result"
    }
   ],
   "source": [
    "big_list[-1]"
   ]
  },
  {
   "cell_type": "code",
   "execution_count": 19,
   "id": "3de158c7",
   "metadata": {},
   "outputs": [
    {
     "name": "stdout",
     "output_type": "stream",
     "text": [
      "[1, 3, 5]\n"
     ]
    }
   ],
   "source": [
    "my_list = [0,1,2,3,4,5,6,7,8,9]\n",
    "#print 0,2,4... using slicing\n",
    "print(my_list[1:7:2])"
   ]
  },
  {
   "cell_type": "code",
   "execution_count": 20,
   "id": "47ed99a1",
   "metadata": {},
   "outputs": [
    {
     "name": "stdout",
     "output_type": "stream",
     "text": [
      "bdfhj\n"
     ]
    }
   ],
   "source": [
    "my_string = 'abcdefghij'\n",
    "print(my_string[1::2])"
   ]
  },
  {
   "cell_type": "code",
   "execution_count": 27,
   "id": "754f1c19",
   "metadata": {},
   "outputs": [
    {
     "name": "stdout",
     "output_type": "stream",
     "text": [
      "l = [0, 1, 2.5, True, 'a', 'b', 'c']\n",
      "l[0:3] =  [0, 1, 2.5]\n",
      "\n"
     ]
    }
   ],
   "source": [
    "#list\n",
    "print('l =',l)\n",
    "print('l[0:3] = ',l[0:3])\n",
    "print()"
   ]
  },
  {
   "cell_type": "code",
   "execution_count": 22,
   "id": "c7a713d2",
   "metadata": {},
   "outputs": [
    {
     "name": "stdout",
     "output_type": "stream",
     "text": [
      "t. = (0, 1, 2.5, False, 'a', 'b', 'c')\n",
      "t[0:6:2] = (0, 2.5, 'a')\n",
      "\n"
     ]
    }
   ],
   "source": [
    "#tuple\n",
    "print('t. =',t)\n",
    "print('t[0:6:2] =', t[0:6:2])\n",
    "print()"
   ]
  },
  {
   "cell_type": "code",
   "execution_count": 23,
   "id": "fd6c50a9",
   "metadata": {},
   "outputs": [
    {
     "name": "stdout",
     "output_type": "stream",
     "text": [
      "s = 0.12.5Falseabc\n",
      "s[3:6] = 2.5\n"
     ]
    }
   ],
   "source": [
    "#string\n",
    "print('s =',s)\n",
    "print('s[3:6] =', s[3:6])"
   ]
  },
  {
   "cell_type": "code",
   "execution_count": 25,
   "id": "520b7eb6",
   "metadata": {},
   "outputs": [
    {
     "name": "stdout",
     "output_type": "stream",
     "text": [
      "s= 0.12.5Falseabc\n",
      "cbaeslaF5.21.0\n"
     ]
    }
   ],
   "source": [
    "print('s=',s)\n",
    "print(s[::-1])"
   ]
  },
  {
   "cell_type": "code",
   "execution_count": 26,
   "id": "10ad2072",
   "metadata": {},
   "outputs": [
    {
     "name": "stdout",
     "output_type": "stream",
     "text": [
      "[5, 4, 3, 2, 1, 0]\n"
     ]
    }
   ],
   "source": [
    "my_list = [0,1,2,3,4,5,6,7,8,9]\n",
    "print(my_list[5::-1])"
   ]
  },
  {
   "cell_type": "code",
   "execution_count": 28,
   "id": "dc604283",
   "metadata": {},
   "outputs": [
    {
     "data": {
      "text/plain": [
       "['a', True, 2.5, 1, 0]"
      ]
     },
     "execution_count": 28,
     "metadata": {},
     "output_type": "execute_result"
    }
   ],
   "source": [
    "l[4::-1]"
   ]
  },
  {
   "cell_type": "code",
   "execution_count": 29,
   "id": "afaf666d",
   "metadata": {},
   "outputs": [
    {
     "data": {
      "text/plain": [
       "['c', 'b', 'a']"
      ]
     },
     "execution_count": 29,
     "metadata": {},
     "output_type": "execute_result"
    }
   ],
   "source": [
    "l[-1:3:-1]"
   ]
  },
  {
   "cell_type": "code",
   "execution_count": 30,
   "id": "3f70ee85",
   "metadata": {},
   "outputs": [
    {
     "name": "stdout",
     "output_type": "stream",
     "text": [
      "l = [0, 1, 2.5, 'a', 'b', 'c']\n",
      "t = (0, 1, 2.5, 'a', 'b', 'c')\n",
      "s = abc123\n"
     ]
    }
   ],
   "source": [
    "# List\n",
    "l1 = [0, 1, 2.5]\n",
    "l2 = ['a', 'b', 'c']\n",
    "l  = l1 + l2\n",
    "print('l =', l)\n",
    "\n",
    "# Tuple\n",
    "t1 = (0, 1, 2.5)\n",
    "t2 = ('a', 'b', 'c')\n",
    "t  = t1 + t2\n",
    "print('t =', t)\n",
    "\n",
    "# String\n",
    "s1 = 'abc'\n",
    "s2 = '123'\n",
    "s = s1 + s2\n",
    "print('s =', s)"
   ]
  },
  {
   "cell_type": "code",
   "execution_count": 31,
   "id": "9563dfaa",
   "metadata": {},
   "outputs": [
    {
     "name": "stdout",
     "output_type": "stream",
     "text": [
      "[]\n",
      "()\n",
      "\n"
     ]
    }
   ],
   "source": [
    "# List:\n",
    "l = []\n",
    "\n",
    "# Tuple\n",
    "t = ()\n",
    "\n",
    "# String\n",
    "s = ''\n",
    "\n",
    "print(l)\n",
    "print(t)\n",
    "print(s)"
   ]
  },
  {
   "cell_type": "code",
   "execution_count": 36,
   "id": "cb552555",
   "metadata": {},
   "outputs": [
    {
     "name": "stdout",
     "output_type": "stream",
     "text": [
      "[[0, 1], [2, 3], [4, 5]]\n",
      "[(0, 1), 'fdasf', [2, 3]]\n",
      "((0, 1), (2, 3), (4, 5))\n",
      "('My', 'name', 'is', '')\n"
     ]
    }
   ],
   "source": [
    "# List in list\n",
    "ll = [[0,1], [2,3], [4,5]]\n",
    "print(ll)\n",
    "\n",
    "ll2 = [(0,1), \"fdasf\", [2,3]]\n",
    "print(ll2)\n",
    "\n",
    "# Tuple in tuple\n",
    "tt = ((0,1), (2,3), (4,5))\n",
    "print(tt)\n",
    "\n",
    "# String in list/tuple\n",
    "ls = ['Hello','World']\n",
    "ts = ('My','name','is','')\n",
    "print(ts)\n",
    "\n",
    "\n",
    "# String in string...??\n",
    "ss = 'fdas\"fdsa\"fdas'"
   ]
  },
  {
   "cell_type": "code",
   "execution_count": 41,
   "id": "8fc4f819",
   "metadata": {},
   "outputs": [
    {
     "name": "stdout",
     "output_type": "stream",
     "text": [
      "True\n",
      "True\n",
      "True\n",
      "False\n",
      "False\n"
     ]
    }
   ],
   "source": [
    "element = 1\n",
    "\n",
    "# List/Tuple\n",
    "l = [0,1,2]\n",
    "t = (0,1,2)\n",
    "s = (1,0,2)\n",
    "\n",
    "print(element in l)\n",
    "print(element in t)\n",
    "print(element in s)\n",
    "\n",
    "l = [3,4,5]\n",
    "t = (3,4,5)\n",
    "\n",
    "print(element in l)\n",
    "print(element in t)"
   ]
  },
  {
   "cell_type": "code",
   "execution_count": 43,
   "id": "e7c051e0",
   "metadata": {},
   "outputs": [
    {
     "name": "stdout",
     "output_type": "stream",
     "text": [
      "True\n",
      "False\n",
      "False\n"
     ]
    }
   ],
   "source": [
    "# String\n",
    "n  = 'n'\n",
    "s1 = 'Chinh'\n",
    "s2 = 'Charles'\n",
    "s3 = \"Choo\"\n",
    "\n",
    "print(n in s1)\n",
    "print(n in s2)\n",
    "print(n in s3)"
   ]
  },
  {
   "cell_type": "code",
   "execution_count": 59,
   "id": "e11d8a15",
   "metadata": {},
   "outputs": [
    {
     "name": "stdout",
     "output_type": "stream",
     "text": [
      "True\n",
      "<class 'int'>\n",
      "<class 'list'>\n",
      "<class 'tuple'>\n",
      "<class 'float'>\n",
      "<class 'bool'>\n"
     ]
    }
   ],
   "source": [
    "n = 1\n",
    "another = 1.5\n",
    "s = [0,1,2]\n",
    "my_new_var = ('1', '2')\n",
    "print(n in s)\n",
    "y = True\n",
    "\n",
    "\n",
    "print(type(n))\n",
    "print(type(s))\n",
    "print(type(my_new_var))\n",
    "print(type(another))\n",
    "print(type(y))"
   ]
  },
  {
   "cell_type": "code",
   "execution_count": 60,
   "id": "f9709f8e",
   "metadata": {},
   "outputs": [
    {
     "name": "stdout",
     "output_type": "stream",
     "text": [
      "[10, 1, 2]\n"
     ]
    }
   ],
   "source": [
    "my_list = [0,1,2]\n",
    "\n",
    "my_list[0] = 10\n",
    "print(my_list)"
   ]
  },
  {
   "cell_type": "code",
   "execution_count": 61,
   "id": "34db2ef9",
   "metadata": {},
   "outputs": [
    {
     "ename": "TypeError",
     "evalue": "'tuple' object does not support item assignment",
     "output_type": "error",
     "traceback": [
      "\u001b[0;31m---------------------------------------------------------------------------\u001b[0m",
      "\u001b[0;31mTypeError\u001b[0m                                 Traceback (most recent call last)",
      "Cell \u001b[0;32mIn[61], line 4\u001b[0m\n\u001b[1;32m      1\u001b[0m my_tuple \u001b[38;5;241m=\u001b[39m (\u001b[38;5;241m1\u001b[39m,\u001b[38;5;241m2\u001b[39m,\u001b[38;5;241m3\u001b[39m)\n\u001b[1;32m      2\u001b[0m \u001b[38;5;66;03m# my_tuple = (10,2,3)\u001b[39;00m\n\u001b[0;32m----> 4\u001b[0m my_tuple[\u001b[38;5;241m0\u001b[39m] \u001b[38;5;241m=\u001b[39m \u001b[38;5;241m10\u001b[39m\n\u001b[1;32m      5\u001b[0m my_tuple\n",
      "\u001b[0;31mTypeError\u001b[0m: 'tuple' object does not support item assignment"
     ]
    }
   ],
   "source": [
    "my_tuple = (1,2,3)\n",
    "# my_tuple = (10,2,3)\n",
    "\n",
    "my_tuple[0] = 10\n",
    "my_tuple"
   ]
  },
  {
   "cell_type": "code",
   "execution_count": 62,
   "id": "9d93e31d",
   "metadata": {},
   "outputs": [
    {
     "name": "stdout",
     "output_type": "stream",
     "text": [
      "[1, 2, 3, 4]\n",
      "[1, 2, 3]\n"
     ]
    }
   ],
   "source": [
    "my_list = [1,2,3]\n",
    "my_list.append(4)\n",
    "\n",
    "print(my_list)\n",
    "\n",
    "#remove last one in the list\n",
    "my_list.pop()\n",
    "\n",
    "print(my_list)"
   ]
  },
  {
   "cell_type": "code",
   "execution_count": 63,
   "id": "a9ab5003",
   "metadata": {},
   "outputs": [
    {
     "ename": "AttributeError",
     "evalue": "'tuple' object has no attribute 'append'",
     "output_type": "error",
     "traceback": [
      "\u001b[0;31m---------------------------------------------------------------------------\u001b[0m",
      "\u001b[0;31mAttributeError\u001b[0m                            Traceback (most recent call last)",
      "Cell \u001b[0;32mIn[63], line 2\u001b[0m\n\u001b[1;32m      1\u001b[0m my_tuple \u001b[38;5;241m=\u001b[39m (\u001b[38;5;241m1\u001b[39m,\u001b[38;5;241m2\u001b[39m,\u001b[38;5;241m3\u001b[39m)\n\u001b[0;32m----> 2\u001b[0m my_tuple\u001b[38;5;241m.\u001b[39mappend(\u001b[38;5;241m4\u001b[39m)\n",
      "\u001b[0;31mAttributeError\u001b[0m: 'tuple' object has no attribute 'append'"
     ]
    }
   ],
   "source": [
    "my_tuple = (1,2,3)\n",
    "my_tuple.append(4)"
   ]
  },
  {
   "cell_type": "code",
   "execution_count": 64,
   "id": "4950bcdb",
   "metadata": {},
   "outputs": [
    {
     "name": "stdout",
     "output_type": "stream",
     "text": [
      "[1, 2, 3, ['a', 'b', 'c']]\n",
      "4\n"
     ]
    }
   ],
   "source": [
    "my_list = [1,2,3]\n",
    "another_list = ['a','b','c']\n",
    "\n",
    "my_list.append(another_list)\n",
    "print(my_list)\n",
    "print(len(my_list))"
   ]
  },
  {
   "cell_type": "code",
   "execution_count": 65,
   "id": "fea466b5",
   "metadata": {},
   "outputs": [
    {
     "name": "stdout",
     "output_type": "stream",
     "text": [
      "[1, 2, 3, 'a', 'b', 'c']\n"
     ]
    }
   ],
   "source": [
    "my_list = [1,2,3]\n",
    "another_list = ['a','b','c']\n",
    "\n",
    "new_list = my_list + another_list\n",
    "print(new_list)"
   ]
  },
  {
   "cell_type": "code",
   "execution_count": 66,
   "id": "f68626f2",
   "metadata": {},
   "outputs": [],
   "source": [
    "my_list = [1,2,3]\n",
    "another = ('a','b','c')"
   ]
  },
  {
   "cell_type": "code",
   "execution_count": 67,
   "id": "87ae0c09",
   "metadata": {},
   "outputs": [
    {
     "data": {
      "text/plain": [
       "[1, 2, 3, ('a', 'b', 'c')]"
      ]
     },
     "execution_count": 67,
     "metadata": {},
     "output_type": "execute_result"
    }
   ],
   "source": [
    "my_list.append(another)\n",
    "my_list"
   ]
  },
  {
   "cell_type": "code",
   "execution_count": 68,
   "id": "a6cefea2",
   "metadata": {},
   "outputs": [
    {
     "data": {
      "text/plain": [
       "[1, 2, 3, ('a', 'b', 'c'), 'a', 'b', 'c']"
      ]
     },
     "execution_count": 68,
     "metadata": {},
     "output_type": "execute_result"
    }
   ],
   "source": [
    "my_list.extend(another)\n",
    "my_list"
   ]
  },
  {
   "cell_type": "code",
   "execution_count": 79,
   "id": "7dab9d54",
   "metadata": {},
   "outputs": [
    {
     "name": "stdout",
     "output_type": "stream",
     "text": [
      "[[1, 2], [2, 3]]\n",
      "<class 'list'>\n",
      "[[2, 3]]\n"
     ]
    }
   ],
   "source": [
    "l = [[1,2], [2,3]]\n",
    "print(l)\n",
    "print(type(l))\n",
    "\n",
    "del l[0]\n",
    "print(l)"
   ]
  },
  {
   "cell_type": "code",
   "execution_count": 81,
   "id": "113c80ac",
   "metadata": {},
   "outputs": [],
   "source": [
    "fruits = ['apple', 'banana', 'cherry']\n",
    "index = 2\n",
    "\n",
    "# Option 1\n",
    "fruits.insert(index, \"orange\")\n",
    "\n",
    "# Option 2\n",
    "# a = fruits[0:1] + ['orange'] + fruits[1:]\n",
    "\n",
    "# Option 3\n",
    "# x = fruits[0:index]\n",
    "# x.append('orange')\n",
    "# x.extend(fruits[index:])\n"
   ]
  },
  {
   "cell_type": "code",
   "execution_count": 82,
   "id": "b1b7492e",
   "metadata": {},
   "outputs": [],
   "source": [
    "# Define a variable with string \"MSc BA\"\n",
    "mystring = 'MSc BA'"
   ]
  },
  {
   "cell_type": "code",
   "execution_count": 84,
   "id": "ad55ac51",
   "metadata": {},
   "outputs": [
    {
     "name": "stdout",
     "output_type": "stream",
     "text": [
      "S\n",
      "c\n"
     ]
    }
   ],
   "source": [
    "print(mystring[1])\n",
    "\n",
    "print(mystring[-4])"
   ]
  },
  {
   "cell_type": "code",
   "execution_count": 85,
   "id": "e6d33b03",
   "metadata": {},
   "outputs": [
    {
     "data": {
      "text/plain": [
       "'MSc B'"
      ]
     },
     "execution_count": 85,
     "metadata": {},
     "output_type": "execute_result"
    }
   ],
   "source": [
    "# Choose all the character before the 5th character\n",
    "mystring[:5]"
   ]
  },
  {
   "cell_type": "code",
   "execution_count": 86,
   "id": "6d2abe11",
   "metadata": {},
   "outputs": [
    {
     "data": {
      "text/plain": [
       "'BA'"
      ]
     },
     "execution_count": 86,
     "metadata": {},
     "output_type": "execute_result"
    }
   ],
   "source": [
    "# Choose only the 'BA' part\n",
    "mystring[4:]"
   ]
  },
  {
   "cell_type": "code",
   "execution_count": 87,
   "id": "61d88875",
   "metadata": {},
   "outputs": [
    {
     "data": {
      "text/plain": [
       "'MSc BA'"
      ]
     },
     "execution_count": 87,
     "metadata": {},
     "output_type": "execute_result"
    }
   ],
   "source": [
    "# Choose everything\n",
    "mystring[:]"
   ]
  },
  {
   "cell_type": "code",
   "execution_count": 88,
   "id": "6a7fd90f",
   "metadata": {},
   "outputs": [
    {
     "data": {
      "text/plain": [
       "'AB cSM'"
      ]
     },
     "execution_count": 88,
     "metadata": {},
     "output_type": "execute_result"
    }
   ],
   "source": [
    "# Choose everything but backward\n",
    "mystring[::-1]"
   ]
  },
  {
   "cell_type": "code",
   "execution_count": 89,
   "id": "2089d309",
   "metadata": {},
   "outputs": [
    {
     "data": {
      "text/plain": [
       "'B c'"
      ]
     },
     "execution_count": 89,
     "metadata": {},
     "output_type": "execute_result"
    }
   ],
   "source": [
    "# Extract 'B c' from 'MSc BA'\n",
    "mystring[4:1:-1]"
   ]
  },
  {
   "cell_type": "code",
   "execution_count": 90,
   "id": "3a0a7d01",
   "metadata": {},
   "outputs": [
    {
     "ename": "TypeError",
     "evalue": "'str' object does not support item assignment",
     "output_type": "error",
     "traceback": [
      "\u001b[0;31m---------------------------------------------------------------------------\u001b[0m",
      "\u001b[0;31mTypeError\u001b[0m                                 Traceback (most recent call last)",
      "Cell \u001b[0;32mIn[90], line 2\u001b[0m\n\u001b[1;32m      1\u001b[0m \u001b[38;5;66;03m# Does this work?\u001b[39;00m\n\u001b[0;32m----> 2\u001b[0m mystring[\u001b[38;5;241m1\u001b[39m] \u001b[38;5;241m=\u001b[39m \u001b[38;5;124m'\u001b[39m\u001b[38;5;124mB\u001b[39m\u001b[38;5;124m'\u001b[39m\n",
      "\u001b[0;31mTypeError\u001b[0m: 'str' object does not support item assignment"
     ]
    }
   ],
   "source": [
    "# Does this work?\n",
    "mystring[1] = 'B'"
   ]
  },
  {
   "cell_type": "code",
   "execution_count": 91,
   "id": "ab0f6303",
   "metadata": {},
   "outputs": [
    {
     "name": "stdout",
     "output_type": "stream",
     "text": [
      "MSc BB\n"
     ]
    },
    {
     "data": {
      "text/plain": [
       "'M_S_c_ _B_B'"
      ]
     },
     "execution_count": 91,
     "metadata": {},
     "output_type": "execute_result"
    }
   ],
   "source": [
    "# MSc BA --> MSc BB\n",
    "\n",
    "# Option 1\n",
    "s1 = mystring[:5]\n",
    "s2 = 'B'\n",
    "s3 = mystring[6:]\n",
    "print(s1+s2+s3)\n",
    "\n",
    "# Option 2\n",
    "s = list(mystring)\n",
    "s[5] ='B'\n",
    "s = \"_\".join(s) # MAGIC!! convert a list to string\n",
    "s"
   ]
  },
  {
   "cell_type": "code",
   "execution_count": 92,
   "id": "3a25d630",
   "metadata": {},
   "outputs": [
    {
     "name": "stdout",
     "output_type": "stream",
     "text": [
      "123 <class 'int'>\n",
      "123 <class 'str'>\n",
      "123 <class 'int'>\n"
     ]
    }
   ],
   "source": [
    "# Convert string to integer\n",
    "a = 123\n",
    "print(a, type(a))\n",
    "\n",
    "a = str(a)\n",
    "print(a, type(a))\n",
    "\n",
    "a = int(a)\n",
    "print(a, type(a))"
   ]
  },
  {
   "cell_type": "code",
   "execution_count": 93,
   "id": "27820673",
   "metadata": {},
   "outputs": [
    {
     "data": {
      "text/plain": [
       "6"
      ]
     },
     "execution_count": 93,
     "metadata": {},
     "output_type": "execute_result"
    }
   ],
   "source": [
    "# Given a three-digit number, calculate the sum of all its digits\n",
    "x = 123\n",
    "x = str(x)\n",
    "int(x[0]) + int(x[1]) + int(x[2])"
   ]
  },
  {
   "cell_type": "code",
   "execution_count": 94,
   "id": "5ee01e73",
   "metadata": {},
   "outputs": [
    {
     "name": "stdout",
     "output_type": "stream",
     "text": [
      "{'apple', 'cherry', 'banana'}\n"
     ]
    }
   ],
   "source": [
    "# Create a set\n",
    "set1 = {\"apple\", \"banana\", \"banana\", \"cherry\"}\n",
    "print(set1)"
   ]
  },
  {
   "cell_type": "code",
   "execution_count": 95,
   "id": "8a8fea54",
   "metadata": {},
   "outputs": [
    {
     "data": {
      "text/plain": [
       "{'banana', 'kiwi', 'orange'}"
      ]
     },
     "execution_count": 95,
     "metadata": {},
     "output_type": "execute_result"
    }
   ],
   "source": [
    "# Convert a list to a set\n",
    "new_set = set(['banana', 'kiwi', 'kiwi', 'orange', 'orange', 'orange'])\n",
    "new_set"
   ]
  },
  {
   "cell_type": "code",
   "execution_count": 101,
   "id": "684d54fa",
   "metadata": {},
   "outputs": [],
   "source": [
    "# Add/Remove an element to a set\n",
    "new_set.add('apple')"
   ]
  },
  {
   "cell_type": "code",
   "execution_count": 102,
   "id": "02295d24",
   "metadata": {},
   "outputs": [
    {
     "data": {
      "text/plain": [
       "{'apple', 'kiwi', 'orange'}"
      ]
     },
     "execution_count": 102,
     "metadata": {},
     "output_type": "execute_result"
    }
   ],
   "source": [
    "new_set"
   ]
  },
  {
   "cell_type": "code",
   "execution_count": 103,
   "id": "733fb2ac",
   "metadata": {},
   "outputs": [
    {
     "name": "stdout",
     "output_type": "stream",
     "text": [
      "{1, 2, 3, 4, 5, 6, 7, 8}\n",
      "{1, 2, 3, 4, 5, 6, 7, 8}\n"
     ]
    }
   ],
   "source": [
    "a = {1, 2, 3, 4, 5}\n",
    "b = {4, 5, 6, 7, 8}\n",
    "\n",
    "print(a | b)        # First way\n",
    "print(a.union(b))   # Second way"
   ]
  },
  {
   "cell_type": "code",
   "execution_count": 104,
   "id": "5482babe",
   "metadata": {},
   "outputs": [
    {
     "name": "stdout",
     "output_type": "stream",
     "text": [
      "{4, 5}\n",
      "{4, 5}\n"
     ]
    }
   ],
   "source": [
    "print(a & b)                # First way\n",
    "print(a.intersection(b))    # Second way"
   ]
  },
  {
   "cell_type": "code",
   "execution_count": 105,
   "id": "88b08803",
   "metadata": {},
   "outputs": [
    {
     "name": "stdout",
     "output_type": "stream",
     "text": [
      "{1, 2, 3}\n",
      "{1, 2, 3}\n"
     ]
    }
   ],
   "source": [
    "print(a - b)            # First way\n",
    "print(a.difference(b))  # Second way"
   ]
  },
  {
   "cell_type": "code",
   "execution_count": 106,
   "id": "92e33631",
   "metadata": {},
   "outputs": [
    {
     "name": "stdout",
     "output_type": "stream",
     "text": [
      "{8, 6, 7}\n"
     ]
    }
   ],
   "source": [
    "print(b - a)"
   ]
  },
  {
   "cell_type": "code",
   "execution_count": 107,
   "id": "3b6a87b3",
   "metadata": {},
   "outputs": [
    {
     "name": "stdout",
     "output_type": "stream",
     "text": [
      "{1, 2, 3, 6, 7, 8}\n",
      "{1, 2, 3, 6, 7, 8}\n"
     ]
    }
   ],
   "source": [
    "print(a ^ b)                        # First way\n",
    "print(a.symmetric_difference(b))    # Second way"
   ]
  },
  {
   "cell_type": "code",
   "execution_count": 108,
   "id": "ca0f5041",
   "metadata": {},
   "outputs": [],
   "source": [
    "a = [1,2,4,1,6,2,9,1,1,6]"
   ]
  },
  {
   "cell_type": "code",
   "execution_count": null,
   "id": "d223b3cc",
   "metadata": {},
   "outputs": [],
   "source": []
  }
 ],
 "metadata": {
  "kernelspec": {
   "display_name": "Python 3 (ipykernel)",
   "language": "python",
   "name": "python3"
  },
  "language_info": {
   "codemirror_mode": {
    "name": "ipython",
    "version": 3
   },
   "file_extension": ".py",
   "mimetype": "text/x-python",
   "name": "python",
   "nbconvert_exporter": "python",
   "pygments_lexer": "ipython3",
   "version": "3.12.4"
  }
 },
 "nbformat": 4,
 "nbformat_minor": 5
}
