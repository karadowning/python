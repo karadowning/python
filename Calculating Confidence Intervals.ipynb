{
 "cells": [
  {
   "cell_type": "code",
   "execution_count": 1,
   "id": "564e71e7",
   "metadata": {},
   "outputs": [],
   "source": [
    "import scipy.stats as stats\n",
    "import math"
   ]
  },
  {
   "cell_type": "code",
   "execution_count": 2,
   "id": "f201aae2",
   "metadata": {},
   "outputs": [
    {
     "data": {
      "text/plain": [
       "(12.94778771672836, 16.05221228327164)"
      ]
     },
     "execution_count": 2,
     "metadata": {},
     "output_type": "execute_result"
    }
   ],
   "source": [
    "# Given data\n",
    "mean = 14.5\n",
    "std_dev = 5.6\n",
    "n = 50\n",
    "confidence_level = 0.95\n",
    "\n",
    "# Z-value for 95% confidence\n",
    "z_value = stats.norm.ppf((1 + confidence_level) / 2)\n",
    "\n",
    "# Margin of Error\n",
    "margin_of_error = z_value * (std_dev / math.sqrt(n))\n",
    "\n",
    "# Confidence Interval\n",
    "lower_bound = mean - margin_of_error\n",
    "upper_bound = mean + margin_of_error\n",
    "\n",
    "lower_bound, upper_bound"
   ]
  },
  {
   "cell_type": "code",
   "execution_count": 5,
   "id": "dd66cf8a",
   "metadata": {},
   "outputs": [
    {
     "name": "stdout",
     "output_type": "stream",
     "text": [
      "1.6765508926168537\n"
     ]
    },
    {
     "data": {
      "text/plain": [
       "(13.172239434205416, 15.827760565794584)"
      ]
     },
     "execution_count": 5,
     "metadata": {},
     "output_type": "execute_result"
    }
   ],
   "source": [
    "# Given data\n",
    "mean = 14.5\n",
    "std_dev = 5.6\n",
    "n = 50\n",
    "confidence_level = 0.90 #0.90\n",
    "\n",
    "# Degrees of freedom\n",
    "df = n - 1\n",
    "\n",
    "# t-value for 95% confidence\n",
    "t_value = stats.t.ppf((1 + confidence_level) / 2, df)\n",
    "print(t_value)\n",
    "# Margin of Error\n",
    "margin_of_error = t_value * (std_dev / math.sqrt(n))\n",
    "\n",
    "# Confidence Interval\n",
    "lower_bound = mean - margin_of_error\n",
    "upper_bound = mean + margin_of_error\n",
    "\n",
    "lower_bound, upper_bound"
   ]
  },
  {
   "cell_type": "code",
   "execution_count": 7,
   "id": "23b8ef22",
   "metadata": {},
   "outputs": [
    {
     "data": {
      "text/plain": [
       "(13.197342387882125, 15.802657612117875)"
      ]
     },
     "execution_count": 7,
     "metadata": {},
     "output_type": "execute_result"
    }
   ],
   "source": [
    "confidence_level = 0.90\n",
    "\n",
    "# Z-value for 95% confidence\n",
    "z_value = stats.norm.ppf((1 + confidence_level) / 2)\n",
    "\n",
    "# Margin of Error\n",
    "margin_of_error = z_value * (std_dev / math.sqrt(n))\n",
    "\n",
    "# Confidence Interval\n",
    "lower_bound = mean - margin_of_error\n",
    "upper_bound = mean + margin_of_error\n",
    "\n",
    "lower_bound, upper_bound"
   ]
  },
  {
   "cell_type": "code",
   "execution_count": 9,
   "id": "56a79ec2",
   "metadata": {},
   "outputs": [
    {
     "data": {
      "text/plain": [
       "(30.451318844764028, 37.948681155235974)"
      ]
     },
     "execution_count": 9,
     "metadata": {},
     "output_type": "execute_result"
    }
   ],
   "source": [
    "#Excersice 2 Battery Manufacturer, slide 45 (week 4)\n",
    "\n",
    "# Given data\n",
    "mean = 34.2\n",
    "std_dev = 5.9\n",
    "n = 12\n",
    "confidence_level = 0.95\n",
    "\n",
    "# Degrees of freedom\n",
    "df = n - 1\n",
    "\n",
    "# t-value for 95% confidence\n",
    "t_value = stats.t.ppf((1 + confidence_level) / 2, df)\n",
    "\n",
    "# Margin of Error\n",
    "margin_of_error = t_value * (std_dev / math.sqrt(n))\n",
    "\n",
    "# Confidence Interval\n",
    "lower_bound = mean - margin_of_error\n",
    "upper_bound = mean + margin_of_error\n",
    "\n",
    "lower_bound, upper_bound"
   ]
  },
  {
   "cell_type": "code",
   "execution_count": 10,
   "id": "8e84ce50",
   "metadata": {},
   "outputs": [
    {
     "data": {
      "text/plain": [
       "(23.093921983005274, 24.906078016994726)"
      ]
     },
     "execution_count": 10,
     "metadata": {},
     "output_type": "execute_result"
    }
   ],
   "source": [
    "#Excersice 3 Online Grocery Store, slide 47 (week 4)\n",
    "# Given data\n",
    "mean = 24\n",
    "std_dev = 3.8\n",
    "n = 70\n",
    "confidence_level = 0.95\n",
    "\n",
    "# Degrees of freedom\n",
    "df = n - 1\n",
    "\n",
    "# t-value for 95% confidence\n",
    "t_value = stats.t.ppf((1 + confidence_level) / 2, df)\n",
    "\n",
    "# Margin of Error\n",
    "margin_of_error = t_value * (std_dev / math.sqrt(n))\n",
    "\n",
    "# Confidence Interval\n",
    "lower_bound = mean - margin_of_error\n",
    "upper_bound = mean + margin_of_error\n",
    "\n",
    "lower_bound, upper_bound"
   ]
  },
  {
   "cell_type": "code",
   "execution_count": 11,
   "id": "4b68a97f",
   "metadata": {},
   "outputs": [
    {
     "name": "stdout",
     "output_type": "stream",
     "text": [
      "1.9745345758522654\n"
     ]
    },
    {
     "data": {
      "text/plain": [
       "(15678.098677672177, 17381.901322327823)"
      ]
     },
     "execution_count": 11,
     "metadata": {},
     "output_type": "execute_result"
    }
   ],
   "source": [
    "# Given data\n",
    "mean = 16530\n",
    "std_dev = 5542\n",
    "n = 165\n",
    "confidence_level = 0.95\n",
    "\n",
    "# Degrees of freedom\n",
    "df = n - 1\n",
    "\n",
    "# t-value for 95% confidence\n",
    "t_value = stats.t.ppf((1 + confidence_level) / 2, df)\n",
    "print(t_value)\n",
    "# Margin of Error\n",
    "margin_of_error = t_value * (std_dev / math.sqrt(n))\n",
    "\n",
    "# Confidence Interval\n",
    "lower_bound = mean - margin_of_error\n",
    "upper_bound = mean + margin_of_error\n",
    "\n",
    "lower_bound, upper_bound"
   ]
  },
  {
   "cell_type": "code",
   "execution_count": 12,
   "id": "2276ef01",
   "metadata": {},
   "outputs": [
    {
     "data": {
      "text/plain": [
       "(15684.385073543777, 17375.614926456223)"
      ]
     },
     "execution_count": 12,
     "metadata": {},
     "output_type": "execute_result"
    }
   ],
   "source": [
    "confidence_level = 0.95\n",
    "\n",
    "# Z-value for 95% confidence\n",
    "z_value = stats.norm.ppf((1 + confidence_level) / 2)\n",
    "\n",
    "# Margin of Error\n",
    "margin_of_error = z_value * (std_dev / math.sqrt(n))\n",
    "\n",
    "# Confidence Interval\n",
    "lower_bound = mean - margin_of_error\n",
    "upper_bound = mean + margin_of_error\n",
    "\n",
    "lower_bound, upper_bound"
   ]
  },
  {
   "cell_type": "code",
   "execution_count": 13,
   "id": "31d7e37b",
   "metadata": {},
   "outputs": [
    {
     "name": "stdout",
     "output_type": "stream",
     "text": [
      "1.9949454151072374\n"
     ]
    },
    {
     "data": {
      "text/plain": [
       "(23.093921983005274, 24.906078016994726)"
      ]
     },
     "execution_count": 13,
     "metadata": {},
     "output_type": "execute_result"
    }
   ],
   "source": [
    "# Given data\n",
    "mean = 24\n",
    "std_dev = 3.8\n",
    "n = 70\n",
    "confidence_level = 0.95\n",
    "\n",
    "# Degrees of freedom\n",
    "df = n - 1\n",
    "\n",
    "# t-value for 95% confidence\n",
    "t_value = stats.t.ppf((1 + confidence_level) / 2, df)\n",
    "print(t_value)\n",
    "# Margin of Error\n",
    "margin_of_error = t_value * (std_dev / math.sqrt(n))\n",
    "\n",
    "# Confidence Interval\n",
    "lower_bound = mean - margin_of_error\n",
    "upper_bound = mean + margin_of_error\n",
    "\n",
    "lower_bound, upper_bound"
   ]
  },
  {
   "cell_type": "code",
   "execution_count": 15,
   "id": "caf4fc81",
   "metadata": {},
   "outputs": [
    {
     "data": {
      "text/plain": [
       "(12.045736886385573, 16.954263113614427)"
      ]
     },
     "execution_count": 15,
     "metadata": {},
     "output_type": "execute_result"
    }
   ],
   "source": [
    "# Given data\n",
    "mean = 14.5\n",
    "std_dev = 5.6\n",
    "n = 20\n",
    "confidence_level = 0.95\n",
    "\n",
    "# Z-value for 95% confidence\n",
    "z_value = stats.norm.ppf((1 + confidence_level) / 2)\n",
    "\n",
    "# Margin of Error\n",
    "margin_of_error = z_value * (std_dev / math.sqrt(n))\n",
    "\n",
    "# Confidence Interval\n",
    "lower_bound = mean - margin_of_error\n",
    "upper_bound = mean + margin_of_error\n",
    "\n",
    "lower_bound, upper_bound"
   ]
  },
  {
   "cell_type": "code",
   "execution_count": 16,
   "id": "b86e6c94",
   "metadata": {},
   "outputs": [
    {
     "name": "stdout",
     "output_type": "stream",
     "text": [
      "1.729132811521367\n"
     ]
    },
    {
     "data": {
      "text/plain": [
       "(12.33478323513522, 16.66521676486478)"
      ]
     },
     "execution_count": 16,
     "metadata": {},
     "output_type": "execute_result"
    }
   ],
   "source": [
    "# Given data\n",
    "mean = 14.5\n",
    "std_dev = 5.6\n",
    "n = 20\n",
    "confidence_level = 0.90 #0.90\n",
    "\n",
    "# Degrees of freedom\n",
    "df = n - 1\n",
    "\n",
    "# t-value for 95% confidence\n",
    "t_value = stats.t.ppf((1 + confidence_level) / 2, df)\n",
    "print(t_value)\n",
    "# Margin of Error\n",
    "margin_of_error = t_value * (std_dev / math.sqrt(n))\n",
    "\n",
    "# Confidence Interval\n",
    "lower_bound = mean - margin_of_error\n",
    "upper_bound = mean + margin_of_error\n",
    "\n",
    "lower_bound, upper_bound"
   ]
  }
 ],
 "metadata": {
  "kernelspec": {
   "display_name": "Python 3 (ipykernel)",
   "language": "python",
   "name": "python3"
  },
  "language_info": {
   "codemirror_mode": {
    "name": "ipython",
    "version": 3
   },
   "file_extension": ".py",
   "mimetype": "text/x-python",
   "name": "python",
   "nbconvert_exporter": "python",
   "pygments_lexer": "ipython3",
   "version": "3.12.4"
  }
 },
 "nbformat": 4,
 "nbformat_minor": 5
}
