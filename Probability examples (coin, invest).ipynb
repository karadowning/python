{
 "cells": [
  {
   "cell_type": "code",
   "execution_count": 2,
   "id": "333a5c2d",
   "metadata": {
    "scrolled": true
   },
   "outputs": [
    {
     "name": "stdout",
     "output_type": "stream",
     "text": [
      "{'at_least_one': 0.875, 'exactly_one': 0.375, 'exactly_zero': 0.125, 'at_least_two': 0.5, 'exactly_two': 0.375, 'at_least_three': 0.125, 'exactly_three': 0.125, 'all_three': 0.125}\n"
     ]
    }
   ],
   "source": [
    "import math\n",
    "\n",
    "def calculate_coin_flip_probabilities(n):\n",
    "  \"\"\"Calculates the probabilities of different outcomes when flipping a coin n times.\n",
    "\n",
    "  Args:\n",
    "    n: The number of coin flips.\n",
    "\n",
    "  Returns:\n",
    "    A dictionary containing the probabilities of various outcomes.\n",
    "  \"\"\"\n",
    "\n",
    "  probabilities = {}\n",
    "  probabilities['at_least_one'] = 1 - (0.5 ** n)\n",
    "  probabilities['exactly_one'] = math.comb(n, 1) * 0.5 ** 1 * 0.5 ** (n - 1)\n",
    "  probabilities['exactly_zero'] = math.comb(n, 0) * 0.5 ** 0 * 0.5 ** (n - 0)\n",
    "  probabilities['at_least_two'] = 1 - (probabilities['exactly_one'] + probabilities['exactly_zero'])\n",
    "  probabilities['exactly_two'] = math.comb(n, 2) * 0.5 ** 2 * 0.5 ** (n - 2)\n",
    "  probabilities['at_least_three'] = probabilities['exactly_three'] = math.comb(n, 3) * 0.5 ** 3 * 0.5 ** (n - 3)\n",
    "  probabilities['all_three'] = probabilities['exactly_three']\n",
    "\n",
    "  return probabilities\n",
    "\n",
    "# Example usage:\n",
    "n = 3\n",
    "results = calculate_coin_flip_probabilities(n)\n",
    "print(results)"
   ]
  },
  {
   "cell_type": "markdown",
   "id": "eca7a9c1",
   "metadata": {},
   "source": [
    "---"
   ]
  },
  {
   "cell_type": "code",
   "execution_count": 8,
   "id": "0232be4d",
   "metadata": {},
   "outputs": [
    {
     "name": "stdout",
     "output_type": "stream",
     "text": [
      "Probability of investing in either public or corporate funds: 0.12000000000000001\n"
     ]
    }
   ],
   "source": [
    "import math\n",
    "\n",
    "def calculate_fund_probabilities(c, p, candp):\n",
    "  \"\"\"Calculates the probabilities of a corporate or public fund.\n",
    "\n",
    "  Args:\n",
    "    c: The probability of corporate funds.\n",
    "    p: The probability of public funds.\n",
    "    candp: The probability of both types of funds.\n",
    "\n",
    "  Returns:\n",
    "    The probably of corporate, public or both funds.\n",
    "  \"\"\"\n",
    "\n",
    "  return c + p - candp\n",
    "\n",
    "# Given values\n",
    "c = 0.08\n",
    "p = 0.06\n",
    "candp = 0.02\n",
    "\n",
    "# Calculate the probability\n",
    "result = calculate_fund_probabilities(c, p, candp)\n",
    "print(\"Probability of investing in either public or corporate funds:\", result)\n"
   ]
  },
  {
   "cell_type": "markdown",
   "id": "a088a598",
   "metadata": {},
   "source": [
    "---"
   ]
  },
  {
   "cell_type": "code",
   "execution_count": 15,
   "id": "f16e6deb",
   "metadata": {},
   "outputs": [
    {
     "name": "stdout",
     "output_type": "stream",
     "text": [
      "{'P(A and B)': 0.2, 'P(B)': 0.6, 'P(B|A)': 0.6666666666666666, 'Independent': False}\n",
      "lastline\n"
     ]
    }
   ],
   "source": [
    "def analyze_product_purchase():\n",
    "  \"\"\"Analyzes a data related to product purchasing.\n",
    "\n",
    "  Returns:\n",
    "    A dictionary containing the calculated probabilities.\n",
    "  \"\"\"\n",
    "\n",
    "  # Values extracted from table\n",
    "  pa_and_b = 40\n",
    "  pa = 60\n",
    "  pb = 120\n",
    "  total = 200  # Assuming 200 total individuals\n",
    "\n",
    "  # Calculate probabilities\n",
    "  probability_a_and_b = pa_and_b / total\n",
    "  probability_b = pb / total\n",
    "  probability_b_given_a = pa_and_b / pa\n",
    "\n",
    "  # Check for independence\n",
    "  is_independent = probability_a_and_b == (pa / total) * (pb / total)\n",
    "\n",
    "  # Create a dictionary to store results\n",
    "  results = {\n",
    "      \"P(A and B)\": probability_a_and_b,\n",
    "      \"P(B)\": probability_b,\n",
    "      \"P(B|A)\": probability_b_given_a,\n",
    "      \"Independent\": is_independent\n",
    "  }\n",
    "\n",
    "  return results\n",
    "\n",
    "# Calculate probabilities\n",
    "results = analyze_product_purchase()\n",
    "print(results)  "
   ]
  },
  {
   "cell_type": "markdown",
   "id": "23dd4b69",
   "metadata": {},
   "source": [
    "---"
   ]
  },
  {
   "cell_type": "code",
   "execution_count": 29,
   "id": "7c2c10aa",
   "metadata": {},
   "outputs": [
    {
     "name": "stdout",
     "output_type": "stream",
     "text": [
      "Probability of a recession if the model predicts a recession: 0.6666666666666666\n"
     ]
    }
   ],
   "source": [
    "import math\n",
    "\n",
    "def calculate_recession(pa, pb_given_a, pb_given_a_not):\n",
    "  \"\"\"Calculates the a recession is coming. \n",
    "\n",
    "  Args:\n",
    "    pa: The probability of recession\n",
    "    pb_given_a: The probabilitly of predicting a recession given a recession\n",
    "    pb_given_not_a): The probability of predicting a recession given no recession\n",
    "    \n",
    "  Returns:\n",
    "    The probability of a recession if the model predicts a recession\n",
    "  \"\"\"\n",
    "\n",
    "  pb = pb_given_a * pa + pb_given_a_not * (1 - pa)\n",
    "  pa_given_b = (pb_given_a * pa) / pb\n",
    "  return pa_given_b\n",
    "\n",
    "# Given values\n",
    "pa = 0.2\n",
    "pb_given_a = 0.8\n",
    "pb_given_a_not = .10 \n",
    "\n",
    "# Calculate the probability\n",
    "result = calculate_recession(pa, pb_given_a, pb_given_a_not)\n",
    "print(\"Probability of a recession if the model predicts a recession:\", result)\n"
   ]
  },
  {
   "cell_type": "markdown",
   "id": "c5960e11",
   "metadata": {},
   "source": [
    "----"
   ]
  },
  {
   "cell_type": "code",
   "execution_count": 30,
   "id": "10547480",
   "metadata": {},
   "outputs": [
    {
     "name": "stdout",
     "output_type": "stream",
     "text": [
      "Probability that the late computer came from Company A: 0.5479452054794521\n"
     ]
    }
   ],
   "source": [
    "def calculate_company_probability(pa, pb, pc, la, lb, lc):\n",
    "  \"\"\"Calculates the probability of a late computer coming from Company A.\n",
    "\n",
    "  Args:\n",
    "    pa: Probability of Company A supplying a computer.\n",
    "    pb: Probability of Company B supplying a computer.\n",
    "    pc: Probability of Company C supplying a computer.\n",
    "    la: Probability of Company A being late.\n",
    "    lb: Probability of Company B being late.\n",
    "    lc: Probability of Company C being late.\n",
    "\n",
    "  Returns:\n",
    "    The probability of the late computer coming from Company A.\n",
    "  \"\"\"\n",
    "\n",
    "  # Calculate the total probability of a late delivery\n",
    "  late_total = pa * la + pb * lb + pc * lc\n",
    "\n",
    "  # Calculate the probability of Company A given a late delivery\n",
    "  pa_given_late = (pa * la) / late_total\n",
    "\n",
    "  return pa_given_late\n",
    "\n",
    "# Given values\n",
    "pa = 0.4\n",
    "pb = 0.3\n",
    "pc = 0.3\n",
    "la = 0.05\n",
    "lb = 0.03\n",
    "lc = 0.025\n",
    "\n",
    "# Calculate the probability\n",
    "result = calculate_company_probability(pa, pb, pc, la, lb, lc)\n",
    "print(\"Probability that the late computer came from Company A:\", result)\n",
    "\n"
   ]
  },
  {
   "cell_type": "markdown",
   "id": "1fed32a1",
   "metadata": {},
   "source": [
    "----"
   ]
  },
  {
   "cell_type": "code",
   "execution_count": 31,
   "id": "c8afbb1e",
   "metadata": {},
   "outputs": [
    {
     "name": "stdout",
     "output_type": "stream",
     "text": [
      "Probability that the blanket is from Manufacturer B given it's irregular: 0.583289582239556\n"
     ]
    }
   ],
   "source": [
    "def calculate_probability(pa, pb, pia, pib):\n",
    "  \"\"\"Calculates the probability of a blanket being from Manufacturer B given it's irregular.\n",
    "\n",
    "  Args:\n",
    "    pa: Probability of a blanket from Manufacturer A.\n",
    "    pb: Probability of a blanket from Manufacturer B.\n",
    "    pia: Probability of irregularity given it's from Manufacturer A.\n",
    "    pib: Probability of irregularity given it's from Manufacturer B.\n",
    "\n",
    "  Returns:\n",
    "    The probability of the blanket being from Manufacturer B given it's irregular.\n",
    "  \"\"\"\n",
    "\n",
    "  # Calculate the total probability of irregularity\n",
    "  pi = pia * pa + pib * pb\n",
    "\n",
    "  # Calculate the probability of B given I\n",
    "  pb_given_i = (pib * pb) / pi\n",
    "\n",
    "  return pb_given_i\n",
    "\n",
    "# Given values\n",
    "pa = 0.5556\n",
    "pb = 0.4444\n",
    "pia = 0.04\n",
    "pib = 0.07\n",
    "\n",
    "# Calculate the probability\n",
    "result = calculate_probability(pa, pb, pia, pib)\n",
    "print(\"Probability that the blanket is from Manufacturer B given it's irregular:\", result)"
   ]
  },
  {
   "cell_type": "markdown",
   "id": "86da5cdf",
   "metadata": {},
   "source": [
    "----"
   ]
  },
  {
   "cell_type": "code",
   "execution_count": 32,
   "id": "d5dada5a",
   "metadata": {},
   "outputs": [
    {
     "name": "stdout",
     "output_type": "stream",
     "text": [
      "Probability that the defective black box came from AirCorp: 0.7032967032967034\n"
     ]
    }
   ],
   "source": [
    "def calculate_black_box_probability(pa, pb, pc, da, db, dc):\n",
    "  \"\"\"Calculates the probability of a defective black box coming from Company A.\n",
    "\n",
    "  Args:\n",
    "    pa: Probability of a black box from AirCorp.\n",
    "    pb: Probability of a black box from BigSkies.\n",
    "    pc: Probability of a black box from CharterUS.\n",
    "    da: Probability of a defective black box from AirCorp.\n",
    "    db: Probability of a defective black box from BigSkies.\n",
    "    dc: Probability of a defective black box from CharterUS.\n",
    "\n",
    "  Returns:\n",
    "    The probability of a defective black box coming from AirCorp.\n",
    "  \"\"\"\n",
    "\n",
    "  # Calculate the total probability of a defective black box\n",
    "  d_total = pa * da + pb * db + pc * dc\n",
    "\n",
    "  # Calculate the probability of Company A given a defective black box\n",
    "  pa_given_d = (pa * da) / d_total\n",
    "\n",
    "  return pa_given_d\n",
    "\n",
    "# Given values\n",
    "pa = 0.8\n",
    "pb = 0.15\n",
    "pc = 0.05\n",
    "da = 0.04\n",
    "db = 0.06\n",
    "dc = 0.09\n",
    "\n",
    "# Calculate the probability\n",
    "result = calculate_black_box_probability(pa, pb, pc, da, db, dc)\n",
    "print(\"Probability that the defective black box came from AirCorp:\", result)"
   ]
  },
  {
   "cell_type": "markdown",
   "id": "2889cd11",
   "metadata": {},
   "source": [
    "---"
   ]
  },
  {
   "cell_type": "code",
   "execution_count": 33,
   "id": "d58fe9e1",
   "metadata": {},
   "outputs": [
    {
     "name": "stdout",
     "output_type": "stream",
     "text": [
      "Probability of taking the bus given being late: 0.41791044776119407\n",
      "Probability of walking given being on time: 0.28938906752411575\n"
     ]
    }
   ],
   "source": [
    "def calculate_probabilities(car_prob, walk_prob, bus_prob, car_late_prob, walk_late_prob, bus_late_prob):\n",
    "  \"\"\"Calculates probabilities based on the given data.\n",
    "\n",
    "  Args:\n",
    "    car_prob: Probability of using a car.\n",
    "    walk_prob: Probability of walking.\n",
    "    bus_prob: Probability of taking the bus.\n",
    "    car_late_prob: Probability of being late when using a car.\n",
    "    walk_late_prob: Probability of being late when walking.\n",
    "    bus_late_prob: Probability of being late when taking the bus.\n",
    "\n",
    "  Returns:\n",
    "    A dictionary containing the calculated probabilities.\n",
    "  \"\"\"\n",
    "\n",
    "  # Calculate the total probability of being late\n",
    "  late_prob = car_prob * car_late_prob + walk_prob * walk_late_prob + bus_prob * bus_late_prob\n",
    "\n",
    "  # Calculate the probability of taking the bus given being late\n",
    "  bus_given_late = (bus_prob * bus_late_prob) / late_prob\n",
    "\n",
    "  # Calculate the probability of walking given being on time\n",
    "  walk_given_on_time = (walk_prob * (1 - walk_late_prob)) / (1 - late_prob)\n",
    "\n",
    "  return {\n",
    "      \"bus_given_late\": bus_given_late,\n",
    "      \"walk_given_on_time\": walk_given_on_time\n",
    "  }\n",
    "\n",
    "# Given values\n",
    "car_prob = 0.3\n",
    "walk_prob = 0.3\n",
    "bus_prob = 0.4\n",
    "car_late_prob = 0.03\n",
    "walk_late_prob = 0.1\n",
    "bus_late_prob = 0.07\n",
    "\n",
    "# Calculate probabilities\n",
    "results = calculate_probabilities(car_prob, walk_prob, bus_prob, car_late_prob, walk_late_prob, bus_late_prob)\n",
    "print(\"Probability of taking the bus given being late:\", results[\"bus_given_late\"])\n",
    "print(\"Probability of walking given being on time:\", results[\"walk_given_on_time\"])"
   ]
  }
 ],
 "metadata": {
  "kernelspec": {
   "display_name": "Python 3 (ipykernel)",
   "language": "python",
   "name": "python3"
  },
  "language_info": {
   "codemirror_mode": {
    "name": "ipython",
    "version": 3
   },
   "file_extension": ".py",
   "mimetype": "text/x-python",
   "name": "python",
   "nbconvert_exporter": "python",
   "pygments_lexer": "ipython3",
   "version": "3.12.4"
  }
 },
 "nbformat": 4,
 "nbformat_minor": 5
}
