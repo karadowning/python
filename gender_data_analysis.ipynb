{
 "cells": [
  {
   "cell_type": "code",
   "execution_count": 1,
   "id": "8c484ccc",
   "metadata": {},
   "outputs": [
    {
     "name": "stdout",
     "output_type": "stream",
     "text": [
      "The mean of the values is: 71.33333333333333\n"
     ]
    }
   ],
   "source": [
    "import math\n",
    "def calculate_mean(values):\n",
    "    \"\"\"calculate the mean of values \n",
    "    \n",
    "    Args: looking at product trial rating\n",
    "    \n",
    "    Return: \n",
    "    the mean of the values\"\"\"\n",
    "    \n",
    "    total=sum(values)\n",
    "    count=len(values)\n",
    "    mean=total/count\n",
    "    return mean\n",
    "\n",
    "# Create a list of values from the table\n",
    "values = [80, 71, 62, 73,71,71]\n",
    "\n",
    "# Calculate the mean using the function\n",
    "mean = calculate_mean(values)\n",
    "\n",
    "print(\"The mean of the values is:\", mean)"
   ]
  },
  {
   "cell_type": "markdown",
   "id": "cb029155",
   "metadata": {},
   "source": [
    "---"
   ]
  },
  {
   "cell_type": "code",
   "execution_count": 3,
   "id": "03838132",
   "metadata": {},
   "outputs": [
    {
     "name": "stdout",
     "output_type": "stream",
     "text": [
      "The mean of the values is: 61.5\n"
     ]
    }
   ],
   "source": [
    "import math\n",
    "def calculate_mean(values):\n",
    "    \"\"\"calculate the mean of values \n",
    "    \n",
    "    Args: looking at product trial rating\n",
    "    \n",
    "    Return: \n",
    "    the mean of the values\"\"\"\n",
    "    \n",
    "    total=sum(values)\n",
    "    count=len(values)\n",
    "    mean=total/count\n",
    "    return mean\n",
    "\n",
    "# Create a list of values from the table\n",
    "values = [69,47,41,69,64,79]\n",
    "\n",
    "# Calculate the mean using the function\n",
    "mean = calculate_mean(values)\n",
    "\n",
    "print(\"The mean of the values is:\", mean)"
   ]
  },
  {
   "cell_type": "markdown",
   "id": "f6c46ed5",
   "metadata": {},
   "source": [
    "---"
   ]
  },
  {
   "cell_type": "code",
   "execution_count": 6,
   "id": "87277bc1",
   "metadata": {},
   "outputs": [
    {
     "name": "stdout",
     "output_type": "stream",
     "text": [
      "The mean of the values is: 74.25\n"
     ]
    }
   ],
   "source": [
    "import math\n",
    "def calculate_mean(values):\n",
    "    \"\"\"calculate the mean of values \n",
    "    \n",
    "    Args: looking at product trial rating\n",
    "    \n",
    "    Return: \n",
    "    the mean of the values\"\"\"\n",
    "    \n",
    "    total=sum(values)\n",
    "    count=len(values)\n",
    "    mean=total/count\n",
    "    return mean\n",
    "\n",
    "# Create a list of values from the table\n",
    "values = [84,65,64,84]\n",
    "\n",
    "# Calculate the mean using the function\n",
    "mean = calculate_mean(values)\n",
    "\n",
    "print(\"The mean of the values is:\", mean)"
   ]
  },
  {
   "cell_type": "markdown",
   "id": "e2390b1f",
   "metadata": {},
   "source": [
    "---"
   ]
  },
  {
   "cell_type": "code",
   "execution_count": 7,
   "id": "f8a6aca1",
   "metadata": {},
   "outputs": [
    {
     "name": "stdout",
     "output_type": "stream",
     "text": [
      "The mean of the values is: 59.5\n"
     ]
    }
   ],
   "source": [
    "import math\n",
    "def calculate_mean(values):\n",
    "    \"\"\"calculate the mean of values \n",
    "    \n",
    "    Args: looking at product trial rating\n",
    "    \n",
    "    Return: \n",
    "    the mean of the values\"\"\"\n",
    "    \n",
    "    total=sum(values)\n",
    "    count=len(values)\n",
    "    mean=total/count\n",
    "    return mean\n",
    "\n",
    "# Create a list of values from the table\n",
    "values = [54,48,74,62]\n",
    "\n",
    "# Calculate the mean using the function\n",
    "mean = calculate_mean(values)\n",
    "\n",
    "print(\"The mean of the values is:\", mean)"
   ]
  }
 ],
 "metadata": {
  "kernelspec": {
   "display_name": "Python 3 (ipykernel)",
   "language": "python",
   "name": "python3"
  },
  "language_info": {
   "codemirror_mode": {
    "name": "ipython",
    "version": 3
   },
   "file_extension": ".py",
   "mimetype": "text/x-python",
   "name": "python",
   "nbconvert_exporter": "python",
   "pygments_lexer": "ipython3",
   "version": "3.12.4"
  }
 },
 "nbformat": 4,
 "nbformat_minor": 5
}
