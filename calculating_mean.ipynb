{
 "cells": [
  {
   "cell_type": "code",
   "execution_count": 6,
   "id": "79952699",
   "metadata": {},
   "outputs": [
    {
     "name": "stdout",
     "output_type": "stream",
     "text": [
      "The mean of the values is: 23.94736842105263\n"
     ]
    }
   ],
   "source": [
    "import math\n",
    "def calculate_mean(values):\n",
    "  \"\"\"Calculates the mean of a list of values.\n",
    "\n",
    "  Args:\n",
    "    values: A list of numbers.\n",
    "\n",
    "  Returns:\n",
    "    The mean of the values.\n",
    "  \"\"\"\n",
    "\n",
    "  total = sum(values)\n",
    "  count = len(values)\n",
    "  mean = total / count\n",
    "  return mean\n",
    "\n",
    "# Create a list of values from the table\n",
    "values = [18, 18, 18, 18, 19, 20, 20, 20, 21, 22, 22, 23, 24, 25, 26, 27, 32, 33, 49]\n",
    "\n",
    "# Calculate the mean using the function\n",
    "mean = calculate_mean(values)\n",
    "\n",
    "print(\"The mean of the values is:\", mean)"
   ]
  },
  {
   "cell_type": "markdown",
   "id": "91bd8e5e",
   "metadata": {},
   "source": [
    "----"
   ]
  },
  {
   "cell_type": "code",
   "execution_count": 17,
   "id": "131105e3",
   "metadata": {},
   "outputs": [
    {
     "name": "stdout",
     "output_type": "stream",
     "text": [
      "The mean of the values is: 23.94736842105263\n"
     ]
    }
   ],
   "source": [
    "import math\n",
    "def calculate_mean(value1):\n",
    "    \"\"\"calculate the mean of values \n",
    "    \n",
    "    Args: looking at product trial rating\n",
    "    \n",
    "    Return: \n",
    "    the mean of the values\"\"\"\n",
    "    \n",
    "    total=sum(values)\n",
    "    count=len(values)\n",
    "    mean-total/count\n",
    "    return mean\n",
    "\n",
    "# Create a list of values from the table\n",
    "value1 = [84, 80, 71, 65, 64, 62, 84, 73, 71, 71]\n",
    "\n",
    "# Calculate the mean using the function\n",
    "mean = calculate_mean(value1)\n",
    "\n",
    "print(\"The mean of the values is:\", mean)\n",
    "    "
   ]
  },
  {
   "cell_type": "code",
   "execution_count": null,
   "id": "ad99bfe8",
   "metadata": {},
   "outputs": [],
   "source": []
  }
 ],
 "metadata": {
  "kernelspec": {
   "display_name": "Python 3 (ipykernel)",
   "language": "python",
   "name": "python3"
  },
  "language_info": {
   "codemirror_mode": {
    "name": "ipython",
    "version": 3
   },
   "file_extension": ".py",
   "mimetype": "text/x-python",
   "name": "python",
   "nbconvert_exporter": "python",
   "pygments_lexer": "ipython3",
   "version": "3.12.4"
  }
 },
 "nbformat": 4,
 "nbformat_minor": 5
}
