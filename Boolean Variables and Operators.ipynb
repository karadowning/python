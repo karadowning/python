{
 "cells": [
  {
   "cell_type": "code",
   "execution_count": 1,
   "id": "ff9a806e",
   "metadata": {},
   "outputs": [],
   "source": [
    "#Boolean / Logical\n",
    "#True\n",
    "#False"
   ]
  },
  {
   "cell_type": "code",
   "execution_count": 2,
   "id": "9ef559cf",
   "metadata": {},
   "outputs": [
    {
     "data": {
      "text/plain": [
       "True"
      ]
     },
     "execution_count": 2,
     "metadata": {},
     "output_type": "execute_result"
    }
   ],
   "source": [
    "4<5"
   ]
  },
  {
   "cell_type": "code",
   "execution_count": 3,
   "id": "f61723bf",
   "metadata": {},
   "outputs": [
    {
     "data": {
      "text/plain": [
       "False"
      ]
     },
     "execution_count": 3,
     "metadata": {},
     "output_type": "execute_result"
    }
   ],
   "source": [
    "10 > 100"
   ]
  },
  {
   "cell_type": "code",
   "execution_count": 5,
   "id": "80d1b0f1",
   "metadata": {},
   "outputs": [
    {
     "data": {
      "text/plain": [
       "False"
      ]
     },
     "execution_count": 5,
     "metadata": {},
     "output_type": "execute_result"
    }
   ],
   "source": [
    "4 == 5"
   ]
  },
  {
   "cell_type": "markdown",
   "id": "26aa33f5",
   "metadata": {},
   "source": [
    "---"
   ]
  },
  {
   "cell_type": "code",
   "execution_count": 7,
   "id": "135d4fd1",
   "metadata": {},
   "outputs": [],
   "source": [
    "# == \n",
    "# != <> (can use either operator to say \"not equal from what is on the left vs right)\")\n",
    "# <\n",
    "# > \n",
    "# <=\n",
    "# >=\n",
    "# and\n",
    "# or\n",
    "# not"
   ]
  },
  {
   "cell_type": "markdown",
   "id": "4f5a3f1c",
   "metadata": {},
   "source": [
    "---"
   ]
  },
  {
   "cell_type": "code",
   "execution_count": 8,
   "id": "fd0f2d02",
   "metadata": {},
   "outputs": [],
   "source": [
    "result = 4 < 5 "
   ]
  },
  {
   "cell_type": "code",
   "execution_count": 9,
   "id": "69ac0677",
   "metadata": {},
   "outputs": [
    {
     "data": {
      "text/plain": [
       "True"
      ]
     },
     "execution_count": 9,
     "metadata": {},
     "output_type": "execute_result"
    }
   ],
   "source": [
    "result"
   ]
  },
  {
   "cell_type": "code",
   "execution_count": 10,
   "id": "340751b7",
   "metadata": {},
   "outputs": [
    {
     "data": {
      "text/plain": [
       "bool"
      ]
     },
     "execution_count": 10,
     "metadata": {},
     "output_type": "execute_result"
    }
   ],
   "source": [
    "type(result)"
   ]
  },
  {
   "cell_type": "markdown",
   "id": "f4c0de70",
   "metadata": {},
   "source": [
    "---"
   ]
  },
  {
   "cell_type": "code",
   "execution_count": 11,
   "id": "1acc5ade",
   "metadata": {},
   "outputs": [],
   "source": [
    "result2 = not(5 > 1)"
   ]
  },
  {
   "cell_type": "code",
   "execution_count": 12,
   "id": "6eb229a0",
   "metadata": {},
   "outputs": [
    {
     "data": {
      "text/plain": [
       "False"
      ]
     },
     "execution_count": 12,
     "metadata": {},
     "output_type": "execute_result"
    }
   ],
   "source": [
    "result2"
   ]
  },
  {
   "cell_type": "markdown",
   "id": "b88c83b2",
   "metadata": {},
   "source": [
    "---"
   ]
  },
  {
   "cell_type": "code",
   "execution_count": 13,
   "id": "b30a5248",
   "metadata": {},
   "outputs": [
    {
     "data": {
      "text/plain": [
       "True"
      ]
     },
     "execution_count": 13,
     "metadata": {},
     "output_type": "execute_result"
    }
   ],
   "source": [
    "result or result2"
   ]
  },
  {
   "cell_type": "code",
   "execution_count": 14,
   "id": "6fed4348",
   "metadata": {},
   "outputs": [
    {
     "data": {
      "text/plain": [
       "False"
      ]
     },
     "execution_count": 14,
     "metadata": {},
     "output_type": "execute_result"
    }
   ],
   "source": [
    "result and result2"
   ]
  },
  {
   "cell_type": "code",
   "execution_count": null,
   "id": "c0b96c6e",
   "metadata": {},
   "outputs": [],
   "source": []
  }
 ],
 "metadata": {
  "kernelspec": {
   "display_name": "Python 3 (ipykernel)",
   "language": "python",
   "name": "python3"
  },
  "language_info": {
   "codemirror_mode": {
    "name": "ipython",
    "version": 3
   },
   "file_extension": ".py",
   "mimetype": "text/x-python",
   "name": "python",
   "nbconvert_exporter": "python",
   "pygments_lexer": "ipython3",
   "version": "3.12.4"
  }
 },
 "nbformat": 4,
 "nbformat_minor": 5
}
